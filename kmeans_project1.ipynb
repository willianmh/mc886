{
  "cells": [
    {
      "cell_type": "markdown",
      "source": [
        "# Projeto 1 - Métodos de Aprendizagem Não Supervisionada"
      ],
      "metadata": {
        "tags": [],
        "cell_id": "00000-4321cbbf-a78f-4a2f-9215-4183f08fe28d",
        "deepnote_cell_type": "text-cell-h1"
      }
    },
    {
      "cell_type": "markdown",
      "source": [
        "### Grupo\n",
        "- Ismael Pereira Santos de Melo - RA175460\n",
        "- Willian Massahiro Hayashida - RA188705"
      ],
      "metadata": {
        "tags": [],
        "cell_id": "00001-a3e2259c-6e58-48c3-b554-03c39ebd4d69",
        "deepnote_cell_type": "markdown"
      }
    },
    {
      "cell_type": "markdown",
      "source": [
        "Este projeto consiste no estudo de dois diferentes métodos de aprendizagem não supervisionada, o k-means e a clusterização hierárquica, além de um método de redução de dimensionalidade, o PCA. Seu principal objetivo é aprimorar os conhecimentos em relação aos método e a conceitos gerais de aprendizado de máquina."
      ],
      "metadata": {
        "tags": [],
        "cell_id": "00002-80e4c413-983e-408d-8bbb-8a03defde7b8",
        "deepnote_cell_type": "markdown"
      }
    },
    {
      "cell_type": "markdown",
      "source": [
        "## PARTE I - Métodos de Clusterização\n",
        "---\n"
      ],
      "metadata": {
        "tags": [],
        "cell_id": "00002-cbaa643f-ebb8-4e89-a035-782a43b6030b",
        "deepnote_cell_type": "markdown"
      }
    },
    {
      "cell_type": "code",
      "metadata": {
        "colab": {
          "base_uri": "https://localhost:8080/",
          "height": 206
        },
        "id": "izq0FZD0e-Z8",
        "outputId": "fb28281f-f7fa-40bd-994e-e94a767f0940",
        "cell_id": "00001-a976dc15-a225-4185-ab20-cbaee1e84c7f",
        "deepnote_to_be_reexecuted": false,
        "source_hash": "491e8530",
        "execution_millis": 528,
        "execution_start": 1618862252053,
        "deepnote_cell_type": "code"
      },
      "source": [
        "import pandas as pd\n",
        "import numpy as np\n",
        "import matplotlib.pyplot as plt\n",
        "import random as rd\n",
        "\n",
        "from math import sqrt\n",
        "\n",
        "X = pd.read_csv('data/cluster.dat', delimiter=' ', header=0, names=['x1', 'x2'])\n",
        "X.head()"
      ],
      "execution_count": null,
      "outputs": [
        {
          "output_type": "execute_result",
          "execution_count": 1,
          "data": {
            "application/vnd.deepnote.dataframe.v2+json": {
              "row_count": 5,
              "column_count": 2,
              "columns": [
                {
                  "name": "x1",
                  "dtype": "float64",
                  "stats": {
                    "unique_count": 5,
                    "nan_count": 0,
                    "min": "1335.0",
                    "max": "1490.0",
                    "histogram": [
                      {
                        "bin_start": 1335,
                        "bin_end": 1350.5,
                        "count": 1
                      },
                      {
                        "bin_start": 1350.5,
                        "bin_end": 1366,
                        "count": 0
                      },
                      {
                        "bin_start": 1366,
                        "bin_end": 1381.5,
                        "count": 1
                      },
                      {
                        "bin_start": 1381.5,
                        "bin_end": 1397,
                        "count": 0
                      },
                      {
                        "bin_start": 1397,
                        "bin_end": 1412.5,
                        "count": 0
                      },
                      {
                        "bin_start": 1412.5,
                        "bin_end": 1428,
                        "count": 1
                      },
                      {
                        "bin_start": 1428,
                        "bin_end": 1443.5,
                        "count": 0
                      },
                      {
                        "bin_start": 1443.5,
                        "bin_end": 1459,
                        "count": 1
                      },
                      {
                        "bin_start": 1459,
                        "bin_end": 1474.5,
                        "count": 0
                      },
                      {
                        "bin_start": 1474.5,
                        "bin_end": 1490,
                        "count": 1
                      }
                    ]
                  }
                },
                {
                  "name": "x2",
                  "dtype": "float64",
                  "stats": {
                    "unique_count": 5,
                    "nan_count": 0,
                    "min": "27.55",
                    "max": "28.8",
                    "histogram": [
                      {
                        "bin_start": 27.55,
                        "bin_end": 27.675,
                        "count": 1
                      },
                      {
                        "bin_start": 27.675,
                        "bin_end": 27.8,
                        "count": 0
                      },
                      {
                        "bin_start": 27.8,
                        "bin_end": 27.925,
                        "count": 0
                      },
                      {
                        "bin_start": 27.925,
                        "bin_end": 28.05,
                        "count": 0
                      },
                      {
                        "bin_start": 28.05,
                        "bin_end": 28.175,
                        "count": 1
                      },
                      {
                        "bin_start": 28.175,
                        "bin_end": 28.3,
                        "count": 0
                      },
                      {
                        "bin_start": 28.3,
                        "bin_end": 28.425,
                        "count": 1
                      },
                      {
                        "bin_start": 28.425,
                        "bin_end": 28.55,
                        "count": 1
                      },
                      {
                        "bin_start": 28.55,
                        "bin_end": 28.675,
                        "count": 0
                      },
                      {
                        "bin_start": 28.675,
                        "bin_end": 28.8,
                        "count": 1
                      }
                    ]
                  }
                },
                {
                  "name": "_deepnote_index_column",
                  "dtype": "int64"
                }
              ],
              "rows_top": [
                {
                  "x1": 1490,
                  "x2": 27.55,
                  "_deepnote_index_column": 0
                },
                {
                  "x1": 1445,
                  "x2": 28.35,
                  "_deepnote_index_column": 1
                },
                {
                  "x1": 1415,
                  "x2": 28.8,
                  "_deepnote_index_column": 2
                },
                {
                  "x1": 1375,
                  "x2": 28.05,
                  "_deepnote_index_column": 3
                },
                {
                  "x1": 1335,
                  "x2": 28.45,
                  "_deepnote_index_column": 4
                }
              ],
              "rows_bottom": null
            },
            "text/plain": "       x1     x2\n0  1490.0  27.55\n1  1445.0  28.35\n2  1415.0  28.80\n3  1375.0  28.05\n4  1335.0  28.45",
            "text/html": "<div>\n<style scoped>\n    .dataframe tbody tr th:only-of-type {\n        vertical-align: middle;\n    }\n\n    .dataframe tbody tr th {\n        vertical-align: top;\n    }\n\n    .dataframe thead th {\n        text-align: right;\n    }\n</style>\n<table border=\"1\" class=\"dataframe\">\n  <thead>\n    <tr style=\"text-align: right;\">\n      <th></th>\n      <th>x1</th>\n      <th>x2</th>\n    </tr>\n  </thead>\n  <tbody>\n    <tr>\n      <th>0</th>\n      <td>1490.0</td>\n      <td>27.55</td>\n    </tr>\n    <tr>\n      <th>1</th>\n      <td>1445.0</td>\n      <td>28.35</td>\n    </tr>\n    <tr>\n      <th>2</th>\n      <td>1415.0</td>\n      <td>28.80</td>\n    </tr>\n    <tr>\n      <th>3</th>\n      <td>1375.0</td>\n      <td>28.05</td>\n    </tr>\n    <tr>\n      <th>4</th>\n      <td>1335.0</td>\n      <td>28.45</td>\n    </tr>\n  </tbody>\n</table>\n</div>"
          },
          "metadata": {}
        }
      ]
    },
    {
      "cell_type": "markdown",
      "source": [
        "Podemos nos benecificiar de análises visuais uma vez que o modelo é bi-dimensional."
      ],
      "metadata": {
        "tags": [],
        "cell_id": "00004-18524a6d-f005-488f-b471-013d5ac80c5c",
        "deepnote_cell_type": "markdown"
      }
    },
    {
      "cell_type": "code",
      "metadata": {
        "colab": {
          "base_uri": "https://localhost:8080/",
          "height": 298
        },
        "id": "qX_7LpGffgcs",
        "outputId": "77cff73b-5fd5-4b34-a5eb-49518c5af3db",
        "cell_id": "00003-9a329e81-8733-4436-b3ed-0910234a6a8c",
        "deepnote_to_be_reexecuted": false,
        "source_hash": "32fff7d6",
        "execution_millis": 353,
        "execution_start": 1618862252593,
        "deepnote_cell_type": "code"
      },
      "source": [
        "X.plot(x='x1', y='x2', kind='scatter')"
      ],
      "execution_count": null,
      "outputs": [
        {
          "output_type": "execute_result",
          "execution_count": 2,
          "data": {
            "text/plain": "<AxesSubplot:xlabel='x1', ylabel='x2'>"
          },
          "metadata": {}
        },
        {
          "data": {
            "text/plain": "<Figure size 432x288 with 1 Axes>",
            "image/png": "[encoded data removed]"
          },
          "metadata": {
            "needs_background": "light"
          },
          "output_type": "display_data"
        }
      ]
    },
    {
      "cell_type": "markdown",
      "source": [
        "Para nosso problema de clusterização, percebemos visualmente que 3 será um bom valor para o número de clusters, mas será confirmado posteriormente por meio do método do cotovelo e silhueta."
      ],
      "metadata": {
        "tags": [],
        "cell_id": "00006-e2a16089-dec9-44bd-b738-302f8659e90c",
        "deepnote_cell_type": "markdown"
      }
    },
    {
      "cell_type": "markdown",
      "source": [
        "### Splitting Dataset\n",
        "\n",
        "---\n",
        "\n",
        "Separamos o conjunto de dados em treinamento e teste, seguindo:\n",
        "\n",
        "- 90% - training set\n",
        "- 10% - test set"
      ],
      "metadata": {
        "tags": [],
        "cell_id": "00004-a60e5460-185f-4a65-a0ec-ac47fee92238",
        "deepnote_cell_type": "markdown"
      }
    },
    {
      "cell_type": "code",
      "metadata": {
        "tags": [],
        "cell_id": "00006-3014bff9-43b6-474b-a620-6ec066b7a775",
        "deepnote_to_be_reexecuted": false,
        "source_hash": "dab42980",
        "execution_millis": 21,
        "execution_start": 1618862253070,
        "deepnote_cell_type": "code"
      },
      "source": [
        "def splitDataset(X, train_size):\n",
        "    X = X.sample(frac=1).reset_index(drop=True)\n",
        "    th_index = int(X.shape[0] * train_size)\n",
        "    return X[:th_index].values, X[th_index:].values"
      ],
      "execution_count": null,
      "outputs": []
    },
    {
      "cell_type": "code",
      "metadata": {
        "colab": {
          "base_uri": "https://localhost:8080/",
          "height": 81
        },
        "id": "i_L9bg3G6rkk",
        "outputId": "b97012eb-31c6-45d5-e623-8b6fb08d16e3",
        "cell_id": "00004-891ea514-105d-49fa-8223-af2edff41411",
        "deepnote_to_be_reexecuted": false,
        "source_hash": "9588c8af",
        "execution_millis": 9,
        "execution_start": 1618862255461,
        "deepnote_cell_type": "code"
      },
      "source": [
        "X_training, X_test = splitDataset(X, 0.9)"
      ],
      "execution_count": null,
      "outputs": []
    },
    {
      "cell_type": "markdown",
      "source": [
        "### Helper - functions definition\n",
        "\n",
        "- feature scaling\n",
        "- mean normalization (implemented but not used, see comments inside the function)\n",
        "- random_iniatilization"
      ],
      "metadata": {
        "tags": [],
        "cell_id": "00006-612eb72b-afa3-4b3f-847a-2d8ed03789db",
        "deepnote_cell_type": "markdown"
      }
    },
    {
      "cell_type": "code",
      "metadata": {
        "id": "L59PDxavFkty",
        "cell_id": "00005-96a7eaa0-4092-4d2c-86cf-26c1df828146",
        "deepnote_to_be_reexecuted": false,
        "source_hash": "4503e0e",
        "execution_millis": 1,
        "execution_start": 1618862256113,
        "deepnote_cell_type": "code"
      },
      "source": [
        "def featureScaling(X_b):\n",
        "    \"\"\"\n",
        "    Setting data between a range of [0, 1]\n",
        "    \n",
        "    Parameters\n",
        "    ----------\n",
        "    X_b : numpy array\n",
        "        The dataset to be normalized.\n",
        "    Returns\n",
        "    -------\n",
        "    minmax_scaling : numpy array\n",
        "        Column normalized\n",
        "    \"\"\"\n",
        "    m = X.shape[0]\n",
        "\n",
        "    max_x = max(X_b)\n",
        "    min_x = min(X_b)\n",
        "\n",
        "    s = max_x - min_x\n",
        "\n",
        "    return (X_b - min_x) / s\n",
        "\n",
        "def meanNormalization(X_b):\n",
        "    \"\"\"\n",
        "    por praticidade, decidimos não utilizar nossa implementação,\n",
        "    uma vez que precisariamos salvar os coeficientes para normalizar o conjunto de teste\n",
        "    com os mesmo valores.\n",
        "    Assim, podemos focar nossos esforços nas implementações e analises dos algoritmos de treinamento.\n",
        "    \n",
        "    \"\"\"\n",
        "    u = X_b.mean(axis=1)\n",
        "    X_b = np.subtract(X_b, u[:,None])\n",
        "\n",
        "    max_x = X_b.max(axis=1)\n",
        "    min_x = X_b.min(axis=1)\n",
        "    s = max_x - min_x\n",
        "\n",
        "    return np.divide(X_b, s[:, None])\n",
        "\n",
        "def random_initialization(X_b, k, random_state=42):\n",
        "    \"\"\"\n",
        "    Create random cluster centroids.\n",
        "    \n",
        "    Parameters\n",
        "    ----------\n",
        "    X_b : numpy array\n",
        "        The dataset to be used for centroid initialization.\n",
        "    k : int\n",
        "        The desired number of clusters for which centroids are required.\n",
        "    Returns\n",
        "    -------\n",
        "    centroids : numpy array\n",
        "        Collection of k centroids as a numpy array.\n",
        "    \"\"\"\n",
        "    np.random.seed(random_state)\n",
        "    centroids = []\n",
        "    m = np.shape(X_b)[0]\n",
        "\n",
        "    for i in range(k):\n",
        "        r = np.random.randint(0, m-1)\n",
        "        centroids.append(X_b[r])\n",
        "\n",
        "    return centroids"
      ],
      "execution_count": null,
      "outputs": []
    },
    {
      "cell_type": "markdown",
      "source": [
        "### Preparing the Dataset"
      ],
      "metadata": {
        "tags": [],
        "cell_id": "00008-321bc9c4-17d1-4956-a31b-49c735b686e7",
        "deepnote_cell_type": "markdown"
      }
    },
    {
      "cell_type": "code",
      "metadata": {
        "tags": [],
        "cell_id": "00006-fdb988c2-c794-4fe0-8c81-69621eade5c4",
        "deepnote_to_be_reexecuted": false,
        "source_hash": "1f474986",
        "execution_millis": 1,
        "output_cleared": false,
        "execution_start": 1618862257867,
        "deepnote_cell_type": "code"
      },
      "source": [
        "X_training[:,0] = featureScaling(X_training[:,0])\n",
        "X_training[:,1] = featureScaling(X_training[:,1])\n",
        "\n",
        "\n",
        "X_test[:,0] = featureScaling(X_test[:,0])\n",
        "X_test[:,1] = featureScaling(X_test[:,1])\n"
      ],
      "execution_count": null,
      "outputs": []
    },
    {
      "cell_type": "markdown",
      "source": [
        "### Learning Algorithm\n",
        "---\n",
        "Definição de duas funções\n",
        "- assign_cluster -> cluster assignment\n",
        "- k_means -> learning algorithm"
      ],
      "metadata": {
        "tags": [],
        "cell_id": "00014-03fd2cd9-fe80-406f-a9f4-9976b48f3c2d",
        "deepnote_cell_type": "markdown"
      }
    },
    {
      "cell_type": "code",
      "metadata": {
        "tags": [],
        "cell_id": "00015-cb616515-2fb9-49b2-b5cf-f0ef153a960c",
        "deepnote_to_be_reexecuted": false,
        "source_hash": "ab6f6ce5",
        "execution_millis": 4,
        "execution_start": 1618862258601,
        "deepnote_cell_type": "code"
      },
      "source": [
        "def assign_cluster(X, k, centroids):\n",
        "    \"\"\"\n",
        "    Assign each point x_i in X to a centroid\n",
        "    ----------\n",
        "    ## Parameters\n",
        "    X : numpy array\n",
        "        The input dataset\n",
        "    k : integer\n",
        "        The number of centroids\n",
        "    centroids : numpy array\n",
        "\n",
        "    -------\n",
        "    ## Returns\n",
        "    cluster_index: numpy array\n",
        "        The Array that map that point i was assigned to centroid cluster_index[i]\n",
        "    buckets : array\n",
        "        Array with all points assigned to cluster i\n",
        "    \"\"\"\n",
        "    m = X.shape[0]\n",
        "    \n",
        "    buckets = {}\n",
        "    for i in range(k):\n",
        "        buckets[i] = []\n",
        "    \n",
        "    # for each point, find the closest cluster\n",
        "    cluster_index = np.zeros(m)\n",
        "    for i in range(m):\n",
        "        # get point p_i\n",
        "        point = X[i: i+1]\n",
        "\n",
        "        # fill dist with the distances \n",
        "        #   between p_i and each centroid\n",
        "        dist = []\n",
        "        for c in range(k):\n",
        "            dist.append(np.linalg.norm(point - centroids[c]))\n",
        "        \n",
        "        ind = np.argmin(dist)            # find centroid c_ind closest to p_i\n",
        "        buckets[ind].append(point)       # add p_i to the bucket of c_ind\n",
        "        cluster_index[i] = ind           # assign p_i to cluster c_ind\n",
        "\n",
        "    return cluster_index, buckets\n",
        "\n",
        "\n",
        "\n",
        "def k_means(X, k, tolerance=0.001, n_epoch=100):\n",
        "    m = X.shape[0]\n",
        "    f = X.shape[1]\n",
        "  \n",
        "    buckets = {}                                     # build an array to feed with all points assigned to cluster i\n",
        "    cluster_index_hist = []                          # array to save cluster to which each point was assigned\n",
        "    centroids_hist= []                               # array to save centroids\n",
        "\n",
        "    # random initialization\n",
        "    centroids = random_initialization(X, k)\n",
        "\n",
        "    # iterates until reach limit\n",
        "    for epoch in range(n_epoch):\n",
        "        # forward\n",
        "        cluster_index, buckets = assign_cluster(X, k, centroids)\n",
        "        \n",
        "        centroids_previous = centroids.copy()\n",
        "        # recompute centroids based on all points in its bucket\n",
        "        for i in range(k):\n",
        "            centroids[i] = np.average(buckets[i], 0)[0]\n",
        "            buckets[i] = []\n",
        "\n",
        "    \n",
        "        cluster_index_hist.append(cluster_index.copy())\n",
        "        centroids_hist.append(centroids_previous)\n",
        "\n",
        "        isOptimal = True\n",
        "\n",
        "        for i in range(k):\n",
        "            previous = centroids_previous[i]\n",
        "            current = centroids[i]\n",
        "            \n",
        "            if np.sum((current - previous)/previous * 100.0) > tolerance:\n",
        "                isOptimal = False\n",
        "            \n",
        "        if isOptimal:\n",
        "            break\n",
        "\n",
        "    return centroids_hist, cluster_index_hist"
      ],
      "execution_count": null,
      "outputs": []
    },
    {
      "cell_type": "markdown",
      "source": [
        "### Training Model"
      ],
      "metadata": {
        "tags": [],
        "cell_id": "00016-fa0f958f-519d-44dc-b6bf-fe18c1e42c3f",
        "deepnote_cell_type": "markdown"
      }
    },
    {
      "cell_type": "code",
      "metadata": {
        "id": "8VjsKprGCwCi",
        "cell_id": "00007-e4caf27b-d7bd-433b-9458-f3597e208cc6",
        "deepnote_to_be_reexecuted": false,
        "source_hash": "1c604faf",
        "execution_millis": 222,
        "execution_start": 1618862260360,
        "deepnote_cell_type": "code"
      },
      "source": [
        "k = 3\n",
        "n_epoch = 100\n",
        "centroids_array, cluster_labels = k_means(X_training, k, tolerance=0.001, n_epoch=n_epoch)"
      ],
      "execution_count": null,
      "outputs": []
    },
    {
      "cell_type": "markdown",
      "source": [
        "Podemos plotar a execução do k_means. Cada cor no gráfico representa um dos três clusteres, enquanto os círculos brancos representam os centróides."
      ],
      "metadata": {
        "tags": [],
        "cell_id": "00019-7382bce9-8d19-4ffc-993f-ea966100735c",
        "deepnote_cell_type": "markdown"
      }
    },
    {
      "cell_type": "code",
      "metadata": {
        "tags": [],
        "cell_id": "00008-9b759196-6cde-4132-8106-71c71dd3910f",
        "deepnote_to_be_reexecuted": false,
        "source_hash": "aa8b10be",
        "execution_millis": 1287,
        "execution_start": 1618862261122,
        "deepnote_cell_type": "code"
      },
      "source": [
        "centroids_array = np.array(centroids_array)\n",
        "X_res = X_training.copy()\n",
        "\n",
        "n = len(cluster_labels)\n",
        "\n",
        "for i in range(n):\n",
        "    index = int((n / 5) * i)\n",
        "    X_plot = np.insert(X_res, 2, cluster_labels[index], axis=1)\n",
        "    plt.figure()\n",
        "    plt.scatter(X_plot[:, 0], X_plot[:, 1], c=X_plot[:, 2])\n",
        "    plt.scatter(centroids_array[index,:, 0], centroids_array[index, :, 1], s=100, ec='k', color='white')\n",
        "    plt.show()"
      ],
      "execution_count": null,
      "outputs": [
        {
          "data": {
            "text/plain": "<Figure size 432x288 with 1 Axes>",
            "image/png": "[encoded data removed]"
          },
          "metadata": {
            "needs_background": "light"
          },
          "output_type": "display_data"
        },
        {
          "data": {
            "text/plain": "<Figure size 432x288 with 1 Axes>",
            "image/png": "[encoded data removed]"
          },
          "metadata": {
            "needs_background": "light"
          },
          "output_type": "display_data"
        },
        {
          "data": {
            "text/plain": "<Figure size 432x288 with 1 Axes>",
            "image/png": "[encoded data removed]"
          },
          "metadata": {
            "needs_background": "light"
          },
          "output_type": "display_data"
        },
        {
          "data": {
            "text/plain": "<Figure size 432x288 with 1 Axes>",
            "image/png": "[encoded data removed]"
          },
          "metadata": {
            "needs_background": "light"
          },
          "output_type": "display_data"
        },
        {
          "data": {
            "text/plain": "<Figure size 432x288 with 1 Axes>",
            "image/png": "[encoded data removed]"
          },
          "metadata": {
            "needs_background": "light"
          },
          "output_type": "display_data"
        }
      ]
    },
    {
      "cell_type": "markdown",
      "source": [
        "### Avaliando possíveis valores de k (número de clusters)\n",
        "\n",
        "Aplicando método do cotovelo para análise visual"
      ],
      "metadata": {
        "tags": [],
        "cell_id": "00021-f35acbe3-c0e8-4246-b7a9-2b8fa03fc75e",
        "deepnote_cell_type": "markdown"
      }
    },
    {
      "cell_type": "code",
      "metadata": {
        "tags": [],
        "cell_id": "00022-48948fff-add1-47a4-b9bc-cf45f633c1a9",
        "deepnote_to_be_reexecuted": false,
        "source_hash": "567d1be6",
        "execution_millis": 9,
        "execution_start": 1618862264815,
        "deepnote_cell_type": "code"
      },
      "source": [
        "def elbowAnalysis(X, tolerance=0.001, n_epoch = 100):\n",
        "    sse = []\n",
        "    for k in range(1,8):\n",
        "        centroids_array, cluster_labels = k_means(X, k, tolerance, n_epoch=n_epoch)\n",
        "        \n",
        "        m = len(X)\n",
        "        num_features = X.shape[1]\n",
        "\n",
        "        centroids_array = np.array(centroids_array)\n",
        "        index = len(centroids_array) -1\n",
        "        \n",
        "        centers = centroids_array[index,:,:]\n",
        "        df = pd.DataFrame(np.insert(X, 2, cluster_labels[index], axis=1))\n",
        "        \n",
        "        d = 0\n",
        "        for i in range(k):\n",
        "            X_linha = df.loc[df[2] == i].drop(columns=[2]).values\n",
        "\n",
        "            d += np.sum(np.sum((X_linha - centers[i])**2, axis=1)**0.5)\n",
        "        sse.append([k,d])\n",
        "\n",
        "    return np.array(sse)"
      ],
      "execution_count": null,
      "outputs": []
    },
    {
      "cell_type": "code",
      "metadata": {
        "tags": [],
        "cell_id": "00023-f4326a6e-27aa-4589-880e-2300a0720b1a",
        "deepnote_to_be_reexecuted": false,
        "source_hash": "5cd5dc87",
        "execution_millis": 2863,
        "execution_start": 1618862265880,
        "deepnote_cell_type": "code"
      },
      "source": [
        "sse = elbowAnalysis(X_training)\n",
        "\n",
        "plt.figure()\n",
        "plt.plot(sse[:,0], sse[:,1], 'bo')\n",
        "plt.plot(sse[:,0], sse[:,1], 'b--')\n",
        "plt.grid(True)\n",
        "plt.xlabel(\"número de clusters\")\n",
        "plt.ylabel(\"soma de erros quadrados\")\n",
        "plt.show()"
      ],
      "execution_count": null,
      "outputs": [
        {
          "data": {
            "text/plain": "<Figure size 432x288 with 1 Axes>",
            "image/png": "[encoded data removed]"
          },
          "metadata": {
            "needs_background": "light"
          },
          "output_type": "display_data"
        }
      ]
    },
    {
      "cell_type": "markdown",
      "source": [
        "A partir da análise do gráfico, observamos que o 3 é o número ótimo para quantidade clusters."
      ],
      "metadata": {
        "tags": [],
        "cell_id": "00021-fc193fb4-2714-4c7b-b10b-5855bb25a5c2",
        "deepnote_cell_type": "markdown"
      }
    },
    {
      "cell_type": "markdown",
      "source": [
        "### Análise de silhueta\n",
        "\n",
        "Podemos melhorar nossa análise olhando a coesão dos pontos pela silhueta."
      ],
      "metadata": {
        "tags": [],
        "cell_id": "00025-cbd556e2-19b3-4e8d-a9fe-fb8eb53e0ae8",
        "deepnote_cell_type": "markdown"
      }
    },
    {
      "cell_type": "code",
      "metadata": {
        "tags": [],
        "cell_id": "00023-69d1f9c7-0a3b-472e-9063-cabb4157beed",
        "deepnote_to_be_reexecuted": false,
        "source_hash": "bcda2d17",
        "execution_millis": 1472,
        "execution_start": 1618862268738,
        "deepnote_cell_type": "code"
      },
      "source": [
        "# code from\n",
        "# https://scikit-learn.org/stable/auto_examples/cluster/plot_kmeans_silhouette_analysis.html\n",
        "from sklearn.metrics import silhouette_samples, silhouette_score\n",
        "\n",
        "import matplotlib.pyplot as plt\n",
        "import matplotlib.cm as cm\n",
        "import numpy as np\n",
        "\n",
        "def silhoutteAnalysis(X, range_n_clusters, tolerance=0.001, n_epoch=100):\n",
        "    for n_clusters in range_n_clusters:\n",
        "        # Create a subplot with 1 row and 2 columns\n",
        "        plt.figure()\n",
        "        ax1 = plt.axes()\n",
        "\n",
        "        plt.xlim([-0.1, 1])\n",
        "        plt.ylim([0, len(X) + (n_clusters + 1) * 10])\n",
        "\n",
        "        centroids_array_silhouette, cluster_labels = k_means(X, n_clusters, tolerance, n_epoch)\n",
        "        m = len(cluster_labels)\n",
        "        cluster_labels = cluster_labels[m-1]\n",
        "        centroids_array_silhouette = np.array(centroids_array_silhouette)\n",
        "        \n",
        "        index = len(centroids_array_silhouette) -1\n",
        "        centers = centroids_array_silhouette[index,:,:]\n",
        "\n",
        "        # The silhouette_score gives the average value for all the samples.\n",
        "        # This gives a perspective into the density and separation of the formed\n",
        "        # clusters\n",
        "        silhouette_avg = silhouette_score(X, cluster_labels)\n",
        "        print(\"For n_clusters =\", n_clusters,\n",
        "            \"The average silhouette_score is :\", silhouette_avg)\n",
        "\n",
        "        # Compute the silhouette scores for each sample\n",
        "        sample_silhouette_values = silhouette_samples(X, cluster_labels)\n",
        "\n",
        "        y_lower = 10\n",
        "        for i in range(n_clusters):\n",
        "            # Aggregate the silhouette scores for samples belonging to\n",
        "            # cluster i, and sort them\n",
        "            ith_cluster_silhouette_values = \\\n",
        "                sample_silhouette_values[cluster_labels == i]\n",
        "\n",
        "            ith_cluster_silhouette_values.sort()\n",
        "\n",
        "            size_cluster_i = ith_cluster_silhouette_values.shape[0]\n",
        "            y_upper = y_lower + size_cluster_i\n",
        "\n",
        "            color = cm.nipy_spectral(float(i) / n_clusters)\n",
        "            ax1.fill_betweenx(np.arange(y_lower, y_upper),\n",
        "                            0, ith_cluster_silhouette_values,\n",
        "                            facecolor=color, edgecolor=color, alpha=0.7)\n",
        "\n",
        "            # Label the silhouette plots with their cluster numbers at the middle\n",
        "            ax1.text(-0.05, y_lower + 0.5 * size_cluster_i, str(i))\n",
        "\n",
        "            # Compute the new y_lower for next plot\n",
        "            y_lower = y_upper + 10  # 10 for the 0 samples\n",
        "\n",
        "        ax1.set_title(\"The silhouette plot for the various clusters.\")\n",
        "        ax1.set_xlabel(\"The silhouette coefficient values\")\n",
        "        ax1.set_ylabel(\"Cluster label\")\n",
        "\n",
        "        # The vertical line for average silhouette score of all the values\n",
        "        ax1.axvline(x=silhouette_avg, color=\"red\", linestyle=\"--\")\n",
        "\n",
        "        ax1.set_yticks([])  # Clear the yaxis labels / ticks\n",
        "        ax1.set_xticks([-0.1, 0, 0.2, 0.4, 0.6, 0.8, 1])\n",
        "\n",
        "        plt.suptitle((\"Silhouette analysis for KMeans clustering on sample data \"\n",
        "                    \"with n_clusters = %d\" % n_clusters),\n",
        "                    fontweight='bold')\n",
        "\n",
        "        plt.show()"
      ],
      "execution_count": null,
      "outputs": []
    },
    {
      "cell_type": "code",
      "metadata": {
        "tags": [],
        "cell_id": "00026-aaee208b-c2ea-4e46-91b9-d96f3c7141ea",
        "deepnote_to_be_reexecuted": false,
        "source_hash": "a31fd52e",
        "execution_millis": 4608,
        "execution_start": 1618862270210,
        "deepnote_cell_type": "code"
      },
      "source": [
        "X_silhouette = X_training.copy()\n",
        "\n",
        "range_n_clusters = [2, 3, 4, 5, 6]\n",
        "silhoutteAnalysis(X_silhouette, range_n_clusters, tolerance=0.001, n_epoch=100)\n"
      ],
      "execution_count": null,
      "outputs": [
        {
          "name": "stdout",
          "text": "For n_clusters = 2 The average silhouette_score is : 0.4517714461319421\n",
          "output_type": "stream"
        },
        {
          "data": {
            "text/plain": "<Figure size 432x288 with 1 Axes>",
            "image/png": "[encoded data removed]"
          },
          "metadata": {
            "needs_background": "light"
          },
          "output_type": "display_data"
        },
        {
          "name": "stdout",
          "text": "For n_clusters = 3 The average silhouette_score is : 0.69568064450951\n",
          "output_type": "stream"
        },
        {
          "data": {
            "text/plain": "<Figure size 432x288 with 1 Axes>",
            "image/png": "[encoded data removed]"
          },
          "metadata": {
            "needs_background": "light"
          },
          "output_type": "display_data"
        },
        {
          "name": "stdout",
          "text": "For n_clusters = 4 The average silhouette_score is : 0.5903018524387011\n",
          "output_type": "stream"
        },
        {
          "data": {
            "text/plain": "<Figure size 432x288 with 1 Axes>",
            "image/png": "[encoded data removed]"
          },
          "metadata": {
            "needs_background": "light"
          },
          "output_type": "display_data"
        },
        {
          "name": "stdout",
          "text": "For n_clusters = 5 The average silhouette_score is : 0.5755148582631906\n",
          "output_type": "stream"
        },
        {
          "data": {
            "text/plain": "<Figure size 432x288 with 1 Axes>",
            "image/png": "[encoded data removed]"
          },
          "metadata": {
            "needs_background": "light"
          },
          "output_type": "display_data"
        },
        {
          "name": "stdout",
          "text": "For n_clusters = 6 The average silhouette_score is : 0.5556418026861024\n",
          "output_type": "stream"
        },
        {
          "data": {
            "text/plain": "<Figure size 432x288 with 1 Axes>",
            "image/png": "[encoded data removed]"
          },
          "metadata": {
            "needs_background": "light"
          },
          "output_type": "display_data"
        }
      ]
    },
    {
      "cell_type": "markdown",
      "source": [
        "O resultado com melhor pontuação é de fato a configuração com 3 clusters.\n",
        "\n",
        "O score foi de: 0.69"
      ],
      "metadata": {
        "tags": [],
        "cell_id": "00024-032ba453-41df-47b5-b576-657a4203afa4",
        "deepnote_cell_type": "markdown"
      }
    },
    {
      "cell_type": "markdown",
      "source": [
        "### Testando o modelo\n",
        "\n",
        "Com os centroides inicializados podemos agrupar os pontos no conjunto de teste."
      ],
      "metadata": {
        "tags": [],
        "cell_id": "00020-726d39b4-2d3f-4699-8e90-544b61e101b9",
        "deepnote_cell_type": "markdown"
      }
    },
    {
      "cell_type": "code",
      "metadata": {
        "tags": [],
        "cell_id": "00021-bedf092f-6ab8-47b0-a223-771c1ab9d36e",
        "deepnote_to_be_reexecuted": false,
        "source_hash": "f6c71d12",
        "execution_millis": 1,
        "execution_start": 1618862283732,
        "deepnote_cell_type": "code"
      },
      "source": [
        "index = len(centroids_array) -1\n",
        "centroids = centroids_array[index,:,:]\n",
        "k = 3\n",
        "cluster_labels, buckets_test = assign_cluster(X_test, k, centroids)"
      ],
      "execution_count": null,
      "outputs": []
    },
    {
      "cell_type": "code",
      "metadata": {
        "tags": [],
        "cell_id": "00023-ea5cb496-e058-40cf-b278-b87fc69e3c76",
        "deepnote_to_be_reexecuted": false,
        "source_hash": "86fee50c",
        "execution_millis": 247,
        "execution_start": 1618862284597,
        "deepnote_cell_type": "code"
      },
      "source": [
        "X_res = X_test.copy()\n",
        "\n",
        "X_plot = np.insert(X_res, 2, cluster_labels, axis=1)\n",
        "plt.figure()\n",
        "plt.scatter(X_plot[:, 0], X_plot[:, 1], c=X_plot[:, 2])\n",
        "plt.scatter(centroids[:,0], centroids[:,1], s=100, ec='k', color='white')\n",
        "plt.show()"
      ],
      "execution_count": null,
      "outputs": [
        {
          "data": {
            "text/plain": "<Figure size 432x288 with 1 Axes>",
            "image/png": "[encoded data removed]"
          },
          "metadata": {
            "needs_background": "light"
          },
          "output_type": "display_data"
        }
      ]
    },
    {
      "cell_type": "markdown",
      "source": [
        "Visualmente percebemos que o modelo apresentou bom desempenho."
      ],
      "metadata": {
        "tags": [],
        "cell_id": "00032-8e26f21a-e606-4efa-9a05-fbd775509959",
        "deepnote_cell_type": "markdown"
      }
    },
    {
      "cell_type": "code",
      "metadata": {
        "tags": [],
        "cell_id": "00032-777e5977-c93d-4fb3-b6bf-7377db40c70d",
        "deepnote_to_be_reexecuted": false,
        "source_hash": "4e4ad8e3",
        "execution_start": 1618862286096,
        "execution_millis": 29,
        "deepnote_cell_type": "code"
      },
      "source": [
        "df = pd.DataFrame(np.insert(X_test, 2, cluster_labels, axis=1))\n",
        "\n",
        "d = 0\n",
        "\n",
        "for i in range(k):\n",
        "    X_linha = df.loc[df[2] == i].drop(columns=[2]).values\n",
        "\n",
        "    d += np.sum(np.sum((X_linha - centroids[i])**2, axis=1)**0.5)\n",
        "\n",
        "print('Soma de erros quadrados:')\n",
        "print(d)"
      ],
      "execution_count": null,
      "outputs": [
        {
          "name": "stdout",
          "text": "Soma de erros quadrados:\n8.66534275951294\n",
          "output_type": "stream"
        }
      ]
    },
    {
      "cell_type": "markdown",
      "source": [
        "## Clusterização Hierárquica"
      ],
      "metadata": {
        "tags": [],
        "cell_id": "00010-a5231d77-bc5c-43dc-9bde-edcd553ed3a3",
        "deepnote_cell_type": "text-cell-h2"
      }
    },
    {
      "cell_type": "markdown",
      "source": [
        "Além do k-means, implementamos também o método de clusterização hierárquica, que obteve um resultado similar mas com um custo de execução extremamente superior, levando cerca de 25 minutos para completar a clusterização, dado o dataset proposto, enquanto o k-means completa a clusterização em poucos segundos."
      ],
      "metadata": {
        "tags": [],
        "cell_id": "00035-5073aa79-5606-48fd-b570-a0030b18081e",
        "deepnote_cell_type": "markdown"
      }
    },
    {
      "cell_type": "code",
      "metadata": {
        "tags": [],
        "cell_id": "00010-13b16fd1-c68c-4dc7-8ba6-c0218edad2e3",
        "deepnote_to_be_reexecuted": false,
        "source_hash": "cc37145c",
        "execution_millis": 1,
        "execution_start": 1618798682433,
        "deepnote_cell_type": "code"
      },
      "source": [
        "def hierarchical_clustering(x):\n",
        "    m = x.shape[0]\n",
        "    f = x.shape[1]\n",
        "\n",
        "    clusters = {}\n",
        "\n",
        "    for i in range(m):\n",
        "        clusters[i] = []\n",
        "\n",
        "    for i in range(m):\n",
        "        clusters[i].append(x[i])\n",
        "\n",
        "    # print(clusters)\n",
        "    while(len(clusters) > 3):\n",
        "\n",
        "        m = len(clusters)\n",
        "        \n",
        "        distances = np.zeros((m, m), float)\n",
        "        \n",
        "        #Para cada clusters i e j, calcula a distância entre os dois\n",
        "        for i in range(m):\n",
        "            for j in range(m):\n",
        "                centro_i = np.average(clusters[i], 0)\n",
        "                centro_j = np.average(clusters[j], 0)\n",
        "                distances[i][j] = ((centro_i[0] - centro_j[0])**2 + (centro_i[1] - centro_j[1])**2)**0.5  \n",
        "\n",
        "        maisProximos = localizaCelulaComMenorValor(distances)\n",
        "\n",
        "        #Une os dois clusters mais próximos\n",
        "        clusters[maisProximos[0]].extend(clusters[maisProximos[1]])\n",
        "\n",
        "        #Exclui o cluster que foi englobado pelo outro\n",
        "        clusters[maisProximos[1]] = clusters[len(clusters)-1].copy()\n",
        "        del clusters[len(clusters)-1]\n",
        "    \n",
        "    x = []\n",
        "    for i in range(len(clusters)):\n",
        "        for j in clusters[i]:\n",
        "            x.append(np.append(j,[i]))\n",
        "    return x\n",
        "\n",
        "def localizaCelulaComMenorValor(matriz):\n",
        "    resp = (0, 1)\n",
        "    menor = matriz[0][1]\n",
        "    for lin in range(len(matriz)):\n",
        "        for col in range(len(matriz[lin])):\n",
        "            if matriz[lin][col] < matriz[resp[0]][resp[1]] and matriz[lin][col] != 0:\n",
        "                menor = matriz[lin][col]\n",
        "                resp = (lin, col) \n",
        "    return resp\n"
      ],
      "execution_count": null,
      "outputs": []
    },
    {
      "cell_type": "code",
      "metadata": {
        "tags": [],
        "cell_id": "00016-e8f34226-89f2-4cdb-9fc0-5de1e3ae5ca7",
        "deepnote_to_be_reexecuted": false,
        "source_hash": "67eb27dc",
        "execution_millis": 1875577,
        "is_code_hidden": false,
        "execution_start": 1618798685392,
        "deepnote_cell_type": "code"
      },
      "source": [
        "X_plot = hierarchical_clustering(X_training)\n",
        "X_plot = np.array(X_plot)\n",
        "plt.figure()\n",
        "plt.scatter(X_plot[:, 0], X_plot[:, 1], c=X_plot[:, 2])\n",
        "plt.show()"
      ],
      "execution_count": null,
      "outputs": [
        {
          "data": {
            "text/plain": "<Figure size 432x288 with 1 Axes>",
            "image/png": "[encoded data removed]"
          },
          "metadata": {
            "needs_background": "light"
          },
          "output_type": "display_data"
        }
      ]
    },
    {
      "cell_type": "markdown",
      "source": [
        "## PARTE II - Redução de Dimensionalidade"
      ],
      "metadata": {
        "tags": [],
        "cell_id": "00027-1256c3c8-bb3f-45ff-be34-a5d35ff4f978",
        "deepnote_cell_type": "markdown"
      }
    },
    {
      "cell_type": "markdown",
      "source": [
        "Para essa parte do trabalho escolhemos o conjunto de dados de câncer de mama disponível em\n",
        "\n",
        "https://www.kaggle.com/uciml/breast-cancer-wisconsin-data\n",
        "\n",
        "\n"
      ],
      "metadata": {
        "tags": [],
        "cell_id": "00030-1306e7b3-3fec-4db5-88ca-def09f73aa44",
        "deepnote_cell_type": "markdown"
      }
    },
    {
      "cell_type": "code",
      "metadata": {
        "tags": [],
        "cell_id": "00016-0fbdb573-c22c-4f26-81c4-69aa48044ca7",
        "deepnote_to_be_reexecuted": false,
        "source_hash": "a05b2052",
        "execution_millis": 138,
        "execution_start": 1618862384237,
        "deepnote_cell_type": "code"
      },
      "source": [
        "XII = pd.read_csv('data/data.csv', delimiter=',')\n",
        "print(XII.shape)\n",
        "XII.head() "
      ],
      "execution_count": null,
      "outputs": [
        {
          "name": "stdout",
          "text": "(569, 33)\n",
          "output_type": "stream"
        },
        {
          "output_type": "execute_result",
          "execution_count": 17,
          "data": {
            "application/vnd.deepnote.dataframe.v2+json": {
              "row_count": 5,
              "column_count": 33,
              "columns": [
                {
                  "name": "id",
                  "dtype": "int64",
                  "stats": {
                    "unique_count": 5,
                    "nan_count": 0,
                    "min": "842302",
                    "max": "84358402",
                    "histogram": [
                      {
                        "bin_start": 842302,
                        "bin_end": 9193912,
                        "count": 2
                      },
                      {
                        "bin_start": 9193912,
                        "bin_end": 17545522,
                        "count": 0
                      },
                      {
                        "bin_start": 17545522,
                        "bin_end": 25897132,
                        "count": 0
                      },
                      {
                        "bin_start": 25897132,
                        "bin_end": 34248742,
                        "count": 0
                      },
                      {
                        "bin_start": 34248742,
                        "bin_end": 42600352,
                        "count": 0
                      },
                      {
                        "bin_start": 42600352,
                        "bin_end": 50951962,
                        "count": 0
                      },
                      {
                        "bin_start": 50951962,
                        "bin_end": 59303572,
                        "count": 0
                      },
                      {
                        "bin_start": 59303572,
                        "bin_end": 67655182,
                        "count": 0
                      },
                      {
                        "bin_start": 67655182,
                        "bin_end": 76006792,
                        "count": 0
                      },
                      {
                        "bin_start": 76006792,
                        "bin_end": 84358402,
                        "count": 3
                      }
                    ]
                  }
                },
                {
                  "name": "diagnosis",
                  "dtype": "object",
                  "stats": {
                    "unique_count": 1,
                    "nan_count": 0,
                    "categories": [
                      {
                        "name": "M",
                        "count": 5
                      }
                    ]
                  }
                },
                {
                  "name": "radius_mean",
                  "dtype": "float64",
                  "stats": {
                    "unique_count": 5,
                    "nan_count": 0,
                    "min": "11.42",
                    "max": "20.57",
                    "histogram": [
                      {
                        "bin_start": 11.42,
                        "bin_end": 12.335,
                        "count": 1
                      },
                      {
                        "bin_start": 12.335,
                        "bin_end": 13.25,
                        "count": 0
                      },
                      {
                        "bin_start": 13.25,
                        "bin_end": 14.165,
                        "count": 0
                      },
                      {
                        "bin_start": 14.165,
                        "bin_end": 15.08,
                        "count": 0
                      },
                      {
                        "bin_start": 15.08,
                        "bin_end": 15.995000000000001,
                        "count": 0
                      },
                      {
                        "bin_start": 15.995000000000001,
                        "bin_end": 16.91,
                        "count": 0
                      },
                      {
                        "bin_start": 16.91,
                        "bin_end": 17.825,
                        "count": 0
                      },
                      {
                        "bin_start": 17.825,
                        "bin_end": 18.740000000000002,
                        "count": 1
                      },
                      {
                        "bin_start": 18.740000000000002,
                        "bin_end": 19.655,
                        "count": 0
                      },
                      {
                        "bin_start": 19.655,
                        "bin_end": 20.57,
                        "count": 3
                      }
                    ]
                  }
                },
                {
                  "name": "texture_mean",
                  "dtype": "float64",
                  "stats": {
                    "unique_count": 5,
                    "nan_count": 0,
                    "min": "10.38",
                    "max": "21.25",
                    "histogram": [
                      {
                        "bin_start": 10.38,
                        "bin_end": 11.467,
                        "count": 1
                      },
                      {
                        "bin_start": 11.467,
                        "bin_end": 12.554,
                        "count": 0
                      },
                      {
                        "bin_start": 12.554,
                        "bin_end": 13.641000000000002,
                        "count": 0
                      },
                      {
                        "bin_start": 13.641000000000002,
                        "bin_end": 14.728000000000002,
                        "count": 1
                      },
                      {
                        "bin_start": 14.728000000000002,
                        "bin_end": 15.815000000000001,
                        "count": 0
                      },
                      {
                        "bin_start": 15.815000000000001,
                        "bin_end": 16.902,
                        "count": 0
                      },
                      {
                        "bin_start": 16.902,
                        "bin_end": 17.989,
                        "count": 1
                      },
                      {
                        "bin_start": 17.989,
                        "bin_end": 19.076,
                        "count": 0
                      },
                      {
                        "bin_start": 19.076,
                        "bin_end": 20.163,
                        "count": 0
                      },
                      {
                        "bin_start": 20.163,
                        "bin_end": 21.25,
                        "count": 2
                      }
                    ]
                  }
                },
                {
                  "name": "perimeter_mean",
                  "dtype": "float64",
                  "stats": {
                    "unique_count": 5,
                    "nan_count": 0,
                    "min": "77.58",
                    "max": "135.1",
                    "histogram": [
                      {
                        "bin_start": 77.58,
                        "bin_end": 83.332,
                        "count": 1
                      },
                      {
                        "bin_start": 83.332,
                        "bin_end": 89.084,
                        "count": 0
                      },
                      {
                        "bin_start": 89.084,
                        "bin_end": 94.836,
                        "count": 0
                      },
                      {
                        "bin_start": 94.836,
                        "bin_end": 100.588,
                        "count": 0
                      },
                      {
                        "bin_start": 100.588,
                        "bin_end": 106.34,
                        "count": 0
                      },
                      {
                        "bin_start": 106.34,
                        "bin_end": 112.092,
                        "count": 0
                      },
                      {
                        "bin_start": 112.092,
                        "bin_end": 117.844,
                        "count": 0
                      },
                      {
                        "bin_start": 117.844,
                        "bin_end": 123.596,
                        "count": 1
                      },
                      {
                        "bin_start": 123.596,
                        "bin_end": 129.348,
                        "count": 0
                      },
                      {
                        "bin_start": 129.348,
                        "bin_end": 135.1,
                        "count": 3
                      }
                    ]
                  }
                },
                {
                  "name": "area_mean",
                  "dtype": "float64",
                  "stats": {
                    "unique_count": 5,
                    "nan_count": 0,
                    "min": "386.1",
                    "max": "1326.0",
                    "histogram": [
                      {
                        "bin_start": 386.1,
                        "bin_end": 480.09000000000003,
                        "count": 1
                      },
                      {
                        "bin_start": 480.09000000000003,
                        "bin_end": 574.08,
                        "count": 0
                      },
                      {
                        "bin_start": 574.08,
                        "bin_end": 668.0699999999999,
                        "count": 0
                      },
                      {
                        "bin_start": 668.0699999999999,
                        "bin_end": 762.06,
                        "count": 0
                      },
                      {
                        "bin_start": 762.06,
                        "bin_end": 856.05,
                        "count": 0
                      },
                      {
                        "bin_start": 856.05,
                        "bin_end": 950.04,
                        "count": 0
                      },
                      {
                        "bin_start": 950.04,
                        "bin_end": 1044.03,
                        "count": 1
                      },
                      {
                        "bin_start": 1044.03,
                        "bin_end": 1138.02,
                        "count": 0
                      },
                      {
                        "bin_start": 1138.02,
                        "bin_end": 1232.01,
                        "count": 1
                      },
                      {
                        "bin_start": 1232.01,
                        "bin_end": 1326,
                        "count": 2
                      }
                    ]
                  }
                },
                {
                  "name": "smoothness_mean",
                  "dtype": "float64",
                  "stats": {
                    "unique_count": 5,
                    "nan_count": 0,
                    "min": "0.08474",
                    "max": "0.1425",
                    "histogram": [
                      {
                        "bin_start": 0.08474,
                        "bin_end": 0.090516,
                        "count": 1
                      },
                      {
                        "bin_start": 0.090516,
                        "bin_end": 0.09629199999999999,
                        "count": 0
                      },
                      {
                        "bin_start": 0.09629199999999999,
                        "bin_end": 0.10206799999999999,
                        "count": 1
                      },
                      {
                        "bin_start": 0.10206799999999999,
                        "bin_end": 0.107844,
                        "count": 0
                      },
                      {
                        "bin_start": 0.107844,
                        "bin_end": 0.11362,
                        "count": 1
                      },
                      {
                        "bin_start": 0.11362,
                        "bin_end": 0.11939599999999999,
                        "count": 1
                      },
                      {
                        "bin_start": 0.11939599999999999,
                        "bin_end": 0.125172,
                        "count": 0
                      },
                      {
                        "bin_start": 0.125172,
                        "bin_end": 0.13094799999999998,
                        "count": 0
                      },
                      {
                        "bin_start": 0.13094799999999998,
                        "bin_end": 0.13672399999999998,
                        "count": 0
                      },
                      {
                        "bin_start": 0.13672399999999998,
                        "bin_end": 0.1425,
                        "count": 1
                      }
                    ]
                  }
                },
                {
                  "name": "compactness_mean",
                  "dtype": "float64",
                  "stats": {
                    "unique_count": 5,
                    "nan_count": 0,
                    "min": "0.07864",
                    "max": "0.2839",
                    "histogram": [
                      {
                        "bin_start": 0.07864,
                        "bin_end": 0.099166,
                        "count": 1
                      },
                      {
                        "bin_start": 0.099166,
                        "bin_end": 0.11969199999999999,
                        "count": 0
                      },
                      {
                        "bin_start": 0.11969199999999999,
                        "bin_end": 0.140218,
                        "count": 1
                      },
                      {
                        "bin_start": 0.140218,
                        "bin_end": 0.160744,
                        "count": 1
                      },
                      {
                        "bin_start": 0.160744,
                        "bin_end": 0.18127,
                        "count": 0
                      },
                      {
                        "bin_start": 0.18127,
                        "bin_end": 0.20179599999999998,
                        "count": 0
                      },
                      {
                        "bin_start": 0.20179599999999998,
                        "bin_end": 0.22232200000000002,
                        "count": 0
                      },
                      {
                        "bin_start": 0.22232200000000002,
                        "bin_end": 0.242848,
                        "count": 0
                      },
                      {
                        "bin_start": 0.242848,
                        "bin_end": 0.263374,
                        "count": 0
                      },
                      {
                        "bin_start": 0.263374,
                        "bin_end": 0.2839,
                        "count": 2
                      }
                    ]
                  }
                },
                {
                  "name": "concavity_mean",
                  "dtype": "float64",
                  "stats": {
                    "unique_count": 5,
                    "nan_count": 0,
                    "min": "0.0869",
                    "max": "0.3001",
                    "histogram": [
                      {
                        "bin_start": 0.0869,
                        "bin_end": 0.10822000000000001,
                        "count": 1
                      },
                      {
                        "bin_start": 0.10822000000000001,
                        "bin_end": 0.12954,
                        "count": 0
                      },
                      {
                        "bin_start": 0.12954,
                        "bin_end": 0.15086,
                        "count": 0
                      },
                      {
                        "bin_start": 0.15086,
                        "bin_end": 0.17218,
                        "count": 0
                      },
                      {
                        "bin_start": 0.17218,
                        "bin_end": 0.1935,
                        "count": 0
                      },
                      {
                        "bin_start": 0.1935,
                        "bin_end": 0.21481999999999998,
                        "count": 2
                      },
                      {
                        "bin_start": 0.21481999999999998,
                        "bin_end": 0.23614,
                        "count": 0
                      },
                      {
                        "bin_start": 0.23614,
                        "bin_end": 0.25746,
                        "count": 1
                      },
                      {
                        "bin_start": 0.25746,
                        "bin_end": 0.27878000000000003,
                        "count": 0
                      },
                      {
                        "bin_start": 0.27878000000000003,
                        "bin_end": 0.3001,
                        "count": 1
                      }
                    ]
                  }
                },
                {
                  "name": "concave points_mean",
                  "dtype": "float64",
                  "stats": {
                    "unique_count": 5,
                    "nan_count": 0,
                    "min": "0.07017",
                    "max": "0.1471",
                    "histogram": [
                      {
                        "bin_start": 0.07017,
                        "bin_end": 0.077863,
                        "count": 1
                      },
                      {
                        "bin_start": 0.077863,
                        "bin_end": 0.085556,
                        "count": 0
                      },
                      {
                        "bin_start": 0.085556,
                        "bin_end": 0.093249,
                        "count": 0
                      },
                      {
                        "bin_start": 0.093249,
                        "bin_end": 0.100942,
                        "count": 0
                      },
                      {
                        "bin_start": 0.100942,
                        "bin_end": 0.10863500000000001,
                        "count": 2
                      },
                      {
                        "bin_start": 0.10863500000000001,
                        "bin_end": 0.116328,
                        "count": 0
                      },
                      {
                        "bin_start": 0.116328,
                        "bin_end": 0.124021,
                        "count": 0
                      },
                      {
                        "bin_start": 0.124021,
                        "bin_end": 0.131714,
                        "count": 1
                      },
                      {
                        "bin_start": 0.131714,
                        "bin_end": 0.139407,
                        "count": 0
                      },
                      {
                        "bin_start": 0.139407,
                        "bin_end": 0.1471,
                        "count": 1
                      }
                    ]
                  }
                },
                {
                  "name": "symmetry_mean",
                  "dtype": "float64",
                  "stats": {
                    "unique_count": 5,
                    "nan_count": 0,
                    "min": "0.1809",
                    "max": "0.2597",
                    "histogram": [
                      {
                        "bin_start": 0.1809,
                        "bin_end": 0.18878,
                        "count": 2
                      },
                      {
                        "bin_start": 0.18878,
                        "bin_end": 0.19666,
                        "count": 0
                      },
                      {
                        "bin_start": 0.19666,
                        "bin_end": 0.20454,
                        "count": 0
                      },
                      {
                        "bin_start": 0.20454,
                        "bin_end": 0.21242,
                        "count": 1
                      },
                      {
                        "bin_start": 0.21242,
                        "bin_end": 0.2203,
                        "count": 0
                      },
                      {
                        "bin_start": 0.2203,
                        "bin_end": 0.22818,
                        "count": 0
                      },
                      {
                        "bin_start": 0.22818,
                        "bin_end": 0.23606,
                        "count": 0
                      },
                      {
                        "bin_start": 0.23606,
                        "bin_end": 0.24394,
                        "count": 1
                      },
                      {
                        "bin_start": 0.24394,
                        "bin_end": 0.25182,
                        "count": 0
                      },
                      {
                        "bin_start": 0.25182,
                        "bin_end": 0.2597,
                        "count": 1
                      }
                    ]
                  }
                },
                {
                  "name": "fractal_dimension_mean",
                  "dtype": "float64",
                  "stats": {
                    "unique_count": 5,
                    "nan_count": 0,
                    "min": "0.05667",
                    "max": "0.09744",
                    "histogram": [
                      {
                        "bin_start": 0.05667,
                        "bin_end": 0.060746999999999995,
                        "count": 3
                      },
                      {
                        "bin_start": 0.060746999999999995,
                        "bin_end": 0.06482399999999999,
                        "count": 0
                      },
                      {
                        "bin_start": 0.06482399999999999,
                        "bin_end": 0.06890099999999999,
                        "count": 0
                      },
                      {
                        "bin_start": 0.06890099999999999,
                        "bin_end": 0.072978,
                        "count": 0
                      },
                      {
                        "bin_start": 0.072978,
                        "bin_end": 0.077055,
                        "count": 0
                      },
                      {
                        "bin_start": 0.077055,
                        "bin_end": 0.081132,
                        "count": 1
                      },
                      {
                        "bin_start": 0.081132,
                        "bin_end": 0.085209,
                        "count": 0
                      },
                      {
                        "bin_start": 0.085209,
                        "bin_end": 0.089286,
                        "count": 0
                      },
                      {
                        "bin_start": 0.089286,
                        "bin_end": 0.093363,
                        "count": 0
                      },
                      {
                        "bin_start": 0.093363,
                        "bin_end": 0.09744,
                        "count": 1
                      }
                    ]
                  }
                },
                {
                  "name": "radius_se",
                  "dtype": "float64",
                  "stats": {
                    "unique_count": 5,
                    "nan_count": 0,
                    "min": "0.4956",
                    "max": "1.095",
                    "histogram": [
                      {
                        "bin_start": 0.4956,
                        "bin_end": 0.5555399999999999,
                        "count": 2
                      },
                      {
                        "bin_start": 0.5555399999999999,
                        "bin_end": 0.61548,
                        "count": 0
                      },
                      {
                        "bin_start": 0.61548,
                        "bin_end": 0.6754199999999999,
                        "count": 0
                      },
                      {
                        "bin_start": 0.6754199999999999,
                        "bin_end": 0.73536,
                        "count": 0
                      },
                      {
                        "bin_start": 0.73536,
                        "bin_end": 0.7952999999999999,
                        "count": 2
                      },
                      {
                        "bin_start": 0.7952999999999999,
                        "bin_end": 0.85524,
                        "count": 0
                      },
                      {
                        "bin_start": 0.85524,
                        "bin_end": 0.9151799999999999,
                        "count": 0
                      },
                      {
                        "bin_start": 0.9151799999999999,
                        "bin_end": 0.97512,
                        "count": 0
                      },
                      {
                        "bin_start": 0.97512,
                        "bin_end": 1.0350599999999999,
                        "count": 0
                      },
                      {
                        "bin_start": 1.0350599999999999,
                        "bin_end": 1.095,
                        "count": 1
                      }
                    ]
                  }
                },
                {
                  "name": "texture_se",
                  "dtype": "float64",
                  "stats": {
                    "unique_count": 5,
                    "nan_count": 0,
                    "min": "0.7339",
                    "max": "1.156",
                    "histogram": [
                      {
                        "bin_start": 0.7339,
                        "bin_end": 0.77611,
                        "count": 1
                      },
                      {
                        "bin_start": 0.77611,
                        "bin_end": 0.8183199999999999,
                        "count": 2
                      },
                      {
                        "bin_start": 0.8183199999999999,
                        "bin_end": 0.86053,
                        "count": 0
                      },
                      {
                        "bin_start": 0.86053,
                        "bin_end": 0.90274,
                        "count": 0
                      },
                      {
                        "bin_start": 0.90274,
                        "bin_end": 0.94495,
                        "count": 1
                      },
                      {
                        "bin_start": 0.94495,
                        "bin_end": 0.9871599999999999,
                        "count": 0
                      },
                      {
                        "bin_start": 0.9871599999999999,
                        "bin_end": 1.02937,
                        "count": 0
                      },
                      {
                        "bin_start": 1.02937,
                        "bin_end": 1.07158,
                        "count": 0
                      },
                      {
                        "bin_start": 1.07158,
                        "bin_end": 1.1137899999999998,
                        "count": 0
                      },
                      {
                        "bin_start": 1.1137899999999998,
                        "bin_end": 1.156,
                        "count": 1
                      }
                    ]
                  }
                },
                {
                  "name": "perimeter_se",
                  "dtype": "float64",
                  "stats": {
                    "unique_count": 5,
                    "nan_count": 0,
                    "min": "3.398",
                    "max": "8.589",
                    "histogram": [
                      {
                        "bin_start": 3.398,
                        "bin_end": 3.9171000000000005,
                        "count": 2
                      },
                      {
                        "bin_start": 3.9171000000000005,
                        "bin_end": 4.4362,
                        "count": 0
                      },
                      {
                        "bin_start": 4.4362,
                        "bin_end": 4.9553,
                        "count": 1
                      },
                      {
                        "bin_start": 4.9553,
                        "bin_end": 5.474400000000001,
                        "count": 1
                      },
                      {
                        "bin_start": 5.474400000000001,
                        "bin_end": 5.993500000000001,
                        "count": 0
                      },
                      {
                        "bin_start": 5.993500000000001,
                        "bin_end": 6.512600000000001,
                        "count": 0
                      },
                      {
                        "bin_start": 6.512600000000001,
                        "bin_end": 7.031700000000001,
                        "count": 0
                      },
                      {
                        "bin_start": 7.031700000000001,
                        "bin_end": 7.550800000000001,
                        "count": 0
                      },
                      {
                        "bin_start": 7.550800000000001,
                        "bin_end": 8.0699,
                        "count": 0
                      },
                      {
                        "bin_start": 8.0699,
                        "bin_end": 8.589,
                        "count": 1
                      }
                    ]
                  }
                },
                {
                  "name": "area_se",
                  "dtype": "float64",
                  "stats": {
                    "unique_count": 5,
                    "nan_count": 0,
                    "min": "27.23",
                    "max": "153.4",
                    "histogram": [
                      {
                        "bin_start": 27.23,
                        "bin_end": 39.847,
                        "count": 1
                      },
                      {
                        "bin_start": 39.847,
                        "bin_end": 52.464,
                        "count": 0
                      },
                      {
                        "bin_start": 52.464,
                        "bin_end": 65.081,
                        "count": 0
                      },
                      {
                        "bin_start": 65.081,
                        "bin_end": 77.69800000000001,
                        "count": 1
                      },
                      {
                        "bin_start": 77.69800000000001,
                        "bin_end": 90.31500000000001,
                        "count": 0
                      },
                      {
                        "bin_start": 90.31500000000001,
                        "bin_end": 102.932,
                        "count": 2
                      },
                      {
                        "bin_start": 102.932,
                        "bin_end": 115.549,
                        "count": 0
                      },
                      {
                        "bin_start": 115.549,
                        "bin_end": 128.166,
                        "count": 0
                      },
                      {
                        "bin_start": 128.166,
                        "bin_end": 140.78300000000002,
                        "count": 0
                      },
                      {
                        "bin_start": 140.78300000000002,
                        "bin_end": 153.4,
                        "count": 1
                      }
                    ]
                  }
                },
                {
                  "name": "smoothness_se",
                  "dtype": "float64",
                  "stats": {
                    "unique_count": 5,
                    "nan_count": 0,
                    "min": "0.005225",
                    "max": "0.01149",
                    "histogram": [
                      {
                        "bin_start": 0.005225,
                        "bin_end": 0.0058515,
                        "count": 1
                      },
                      {
                        "bin_start": 0.0058515,
                        "bin_end": 0.006477999999999999,
                        "count": 2
                      },
                      {
                        "bin_start": 0.006477999999999999,
                        "bin_end": 0.0071045,
                        "count": 0
                      },
                      {
                        "bin_start": 0.0071045,
                        "bin_end": 0.007731,
                        "count": 0
                      },
                      {
                        "bin_start": 0.007731,
                        "bin_end": 0.0083575,
                        "count": 0
                      },
                      {
                        "bin_start": 0.0083575,
                        "bin_end": 0.008984,
                        "count": 0
                      },
                      {
                        "bin_start": 0.008984,
                        "bin_end": 0.009610500000000001,
                        "count": 1
                      },
                      {
                        "bin_start": 0.009610500000000001,
                        "bin_end": 0.010237,
                        "count": 0
                      },
                      {
                        "bin_start": 0.010237,
                        "bin_end": 0.010863500000000002,
                        "count": 0
                      },
                      {
                        "bin_start": 0.010863500000000002,
                        "bin_end": 0.01149,
                        "count": 1
                      }
                    ]
                  }
                },
                {
                  "name": "compactness_se",
                  "dtype": "float64",
                  "stats": {
                    "unique_count": 5,
                    "nan_count": 0,
                    "min": "0.01308",
                    "max": "0.07458",
                    "histogram": [
                      {
                        "bin_start": 0.01308,
                        "bin_end": 0.019229999999999997,
                        "count": 1
                      },
                      {
                        "bin_start": 0.019229999999999997,
                        "bin_end": 0.02538,
                        "count": 1
                      },
                      {
                        "bin_start": 0.02538,
                        "bin_end": 0.031529999999999996,
                        "count": 0
                      },
                      {
                        "bin_start": 0.031529999999999996,
                        "bin_end": 0.03768,
                        "count": 0
                      },
                      {
                        "bin_start": 0.03768,
                        "bin_end": 0.043829999999999994,
                        "count": 1
                      },
                      {
                        "bin_start": 0.043829999999999994,
                        "bin_end": 0.04998,
                        "count": 1
                      },
                      {
                        "bin_start": 0.04998,
                        "bin_end": 0.05612999999999999,
                        "count": 0
                      },
                      {
                        "bin_start": 0.05612999999999999,
                        "bin_end": 0.062279999999999995,
                        "count": 0
                      },
                      {
                        "bin_start": 0.062279999999999995,
                        "bin_end": 0.06842999999999999,
                        "count": 0
                      },
                      {
                        "bin_start": 0.06842999999999999,
                        "bin_end": 0.07458,
                        "count": 1
                      }
                    ]
                  }
                },
                {
                  "name": "concavity_se",
                  "dtype": "float64",
                  "stats": {
                    "unique_count": 5,
                    "nan_count": 0,
                    "min": "0.0186",
                    "max": "0.05688",
                    "histogram": [
                      {
                        "bin_start": 0.0186,
                        "bin_end": 0.022428,
                        "count": 1
                      },
                      {
                        "bin_start": 0.022428,
                        "bin_end": 0.026255999999999998,
                        "count": 0
                      },
                      {
                        "bin_start": 0.026255999999999998,
                        "bin_end": 0.030084,
                        "count": 0
                      },
                      {
                        "bin_start": 0.030084,
                        "bin_end": 0.033912,
                        "count": 0
                      },
                      {
                        "bin_start": 0.033912,
                        "bin_end": 0.037739999999999996,
                        "count": 0
                      },
                      {
                        "bin_start": 0.037739999999999996,
                        "bin_end": 0.041568,
                        "count": 1
                      },
                      {
                        "bin_start": 0.041568,
                        "bin_end": 0.045396,
                        "count": 0
                      },
                      {
                        "bin_start": 0.045396,
                        "bin_end": 0.049224000000000004,
                        "count": 0
                      },
                      {
                        "bin_start": 0.049224000000000004,
                        "bin_end": 0.053052,
                        "count": 0
                      },
                      {
                        "bin_start": 0.053052,
                        "bin_end": 0.05688,
                        "count": 3
                      }
                    ]
                  }
                },
                {
                  "name": "concave points_se",
                  "dtype": "float64",
                  "stats": {
                    "unique_count": 5,
                    "nan_count": 0,
                    "min": "0.0134",
                    "max": "0.02058",
                    "histogram": [
                      {
                        "bin_start": 0.0134,
                        "bin_end": 0.014118,
                        "count": 1
                      },
                      {
                        "bin_start": 0.014118,
                        "bin_end": 0.014836,
                        "count": 0
                      },
                      {
                        "bin_start": 0.014836,
                        "bin_end": 0.015554000000000002,
                        "count": 0
                      },
                      {
                        "bin_start": 0.015554000000000002,
                        "bin_end": 0.016272000000000002,
                        "count": 1
                      },
                      {
                        "bin_start": 0.016272000000000002,
                        "bin_end": 0.01699,
                        "count": 0
                      },
                      {
                        "bin_start": 0.01699,
                        "bin_end": 0.017708,
                        "count": 0
                      },
                      {
                        "bin_start": 0.017708,
                        "bin_end": 0.018426,
                        "count": 0
                      },
                      {
                        "bin_start": 0.018426,
                        "bin_end": 0.019144,
                        "count": 2
                      },
                      {
                        "bin_start": 0.019144,
                        "bin_end": 0.019862,
                        "count": 0
                      },
                      {
                        "bin_start": 0.019862,
                        "bin_end": 0.02058,
                        "count": 1
                      }
                    ]
                  }
                },
                {
                  "name": "symmetry_se",
                  "dtype": "float64",
                  "stats": {
                    "unique_count": 5,
                    "nan_count": 0,
                    "min": "0.01389",
                    "max": "0.05963",
                    "histogram": [
                      {
                        "bin_start": 0.01389,
                        "bin_end": 0.018464,
                        "count": 2
                      },
                      {
                        "bin_start": 0.018464,
                        "bin_end": 0.023038,
                        "count": 1
                      },
                      {
                        "bin_start": 0.023038,
                        "bin_end": 0.027611999999999998,
                        "count": 0
                      },
                      {
                        "bin_start": 0.027611999999999998,
                        "bin_end": 0.032186,
                        "count": 1
                      },
                      {
                        "bin_start": 0.032186,
                        "bin_end": 0.03676,
                        "count": 0
                      },
                      {
                        "bin_start": 0.03676,
                        "bin_end": 0.041333999999999996,
                        "count": 0
                      },
                      {
                        "bin_start": 0.041333999999999996,
                        "bin_end": 0.045908,
                        "count": 0
                      },
                      {
                        "bin_start": 0.045908,
                        "bin_end": 0.050482,
                        "count": 0
                      },
                      {
                        "bin_start": 0.050482,
                        "bin_end": 0.055056,
                        "count": 0
                      },
                      {
                        "bin_start": 0.055056,
                        "bin_end": 0.05963,
                        "count": 1
                      }
                    ]
                  }
                },
                {
                  "name": "fractal_dimension_se",
                  "dtype": "float64",
                  "stats": {
                    "unique_count": 5,
                    "nan_count": 0,
                    "min": "0.003532",
                    "max": "0.009208",
                    "histogram": [
                      {
                        "bin_start": 0.003532,
                        "bin_end": 0.0040996,
                        "count": 1
                      },
                      {
                        "bin_start": 0.0040996,
                        "bin_end": 0.0046672,
                        "count": 1
                      },
                      {
                        "bin_start": 0.0046672,
                        "bin_end": 0.0052347999999999995,
                        "count": 1
                      },
                      {
                        "bin_start": 0.0052347999999999995,
                        "bin_end": 0.005802399999999999,
                        "count": 0
                      },
                      {
                        "bin_start": 0.005802399999999999,
                        "bin_end": 0.006369999999999999,
                        "count": 1
                      },
                      {
                        "bin_start": 0.006369999999999999,
                        "bin_end": 0.0069375999999999995,
                        "count": 0
                      },
                      {
                        "bin_start": 0.0069375999999999995,
                        "bin_end": 0.0075052,
                        "count": 0
                      },
                      {
                        "bin_start": 0.0075052,
                        "bin_end": 0.0080728,
                        "count": 0
                      },
                      {
                        "bin_start": 0.0080728,
                        "bin_end": 0.0086404,
                        "count": 0
                      },
                      {
                        "bin_start": 0.0086404,
                        "bin_end": 0.009208,
                        "count": 1
                      }
                    ]
                  }
                },
                {
                  "name": "radius_worst",
                  "dtype": "float64",
                  "stats": {
                    "unique_count": 5,
                    "nan_count": 0,
                    "min": "14.91",
                    "max": "25.38",
                    "histogram": [
                      {
                        "bin_start": 14.91,
                        "bin_end": 15.957,
                        "count": 1
                      },
                      {
                        "bin_start": 15.957,
                        "bin_end": 17.004,
                        "count": 0
                      },
                      {
                        "bin_start": 17.004,
                        "bin_end": 18.051000000000002,
                        "count": 0
                      },
                      {
                        "bin_start": 18.051000000000002,
                        "bin_end": 19.098,
                        "count": 0
                      },
                      {
                        "bin_start": 19.098,
                        "bin_end": 20.145,
                        "count": 0
                      },
                      {
                        "bin_start": 20.145,
                        "bin_end": 21.192,
                        "count": 0
                      },
                      {
                        "bin_start": 21.192,
                        "bin_end": 22.239,
                        "count": 0
                      },
                      {
                        "bin_start": 22.239,
                        "bin_end": 23.286,
                        "count": 1
                      },
                      {
                        "bin_start": 23.286,
                        "bin_end": 24.333,
                        "count": 1
                      },
                      {
                        "bin_start": 24.333,
                        "bin_end": 25.38,
                        "count": 2
                      }
                    ]
                  }
                },
                {
                  "name": "texture_worst",
                  "dtype": "float64",
                  "stats": {
                    "unique_count": 5,
                    "nan_count": 0,
                    "min": "16.67",
                    "max": "26.5",
                    "histogram": [
                      {
                        "bin_start": 16.67,
                        "bin_end": 17.653000000000002,
                        "count": 2
                      },
                      {
                        "bin_start": 17.653000000000002,
                        "bin_end": 18.636000000000003,
                        "count": 0
                      },
                      {
                        "bin_start": 18.636000000000003,
                        "bin_end": 19.619,
                        "count": 0
                      },
                      {
                        "bin_start": 19.619,
                        "bin_end": 20.602,
                        "count": 0
                      },
                      {
                        "bin_start": 20.602,
                        "bin_end": 21.585,
                        "count": 0
                      },
                      {
                        "bin_start": 21.585,
                        "bin_end": 22.568,
                        "count": 0
                      },
                      {
                        "bin_start": 22.568,
                        "bin_end": 23.551000000000002,
                        "count": 1
                      },
                      {
                        "bin_start": 23.551000000000002,
                        "bin_end": 24.534,
                        "count": 0
                      },
                      {
                        "bin_start": 24.534,
                        "bin_end": 25.517000000000003,
                        "count": 0
                      },
                      {
                        "bin_start": 25.517000000000003,
                        "bin_end": 26.5,
                        "count": 2
                      }
                    ]
                  }
                },
                {
                  "name": "perimeter_worst",
                  "dtype": "float64",
                  "stats": {
                    "unique_count": 5,
                    "nan_count": 0,
                    "min": "98.87",
                    "max": "184.6",
                    "histogram": [
                      {
                        "bin_start": 98.87,
                        "bin_end": 107.443,
                        "count": 1
                      },
                      {
                        "bin_start": 107.443,
                        "bin_end": 116.016,
                        "count": 0
                      },
                      {
                        "bin_start": 116.016,
                        "bin_end": 124.589,
                        "count": 0
                      },
                      {
                        "bin_start": 124.589,
                        "bin_end": 133.162,
                        "count": 0
                      },
                      {
                        "bin_start": 133.162,
                        "bin_end": 141.735,
                        "count": 0
                      },
                      {
                        "bin_start": 141.735,
                        "bin_end": 150.308,
                        "count": 0
                      },
                      {
                        "bin_start": 150.308,
                        "bin_end": 158.881,
                        "count": 3
                      },
                      {
                        "bin_start": 158.881,
                        "bin_end": 167.454,
                        "count": 0
                      },
                      {
                        "bin_start": 167.454,
                        "bin_end": 176.027,
                        "count": 0
                      },
                      {
                        "bin_start": 176.027,
                        "bin_end": 184.6,
                        "count": 1
                      }
                    ]
                  }
                },
                {
                  "name": "area_worst",
                  "dtype": "float64",
                  "stats": {
                    "unique_count": 5,
                    "nan_count": 0,
                    "min": "567.7",
                    "max": "2019.0",
                    "histogram": [
                      {
                        "bin_start": 567.7,
                        "bin_end": 712.83,
                        "count": 1
                      },
                      {
                        "bin_start": 712.83,
                        "bin_end": 857.96,
                        "count": 0
                      },
                      {
                        "bin_start": 857.96,
                        "bin_end": 1003.09,
                        "count": 0
                      },
                      {
                        "bin_start": 1003.09,
                        "bin_end": 1148.22,
                        "count": 0
                      },
                      {
                        "bin_start": 1148.22,
                        "bin_end": 1293.35,
                        "count": 0
                      },
                      {
                        "bin_start": 1293.35,
                        "bin_end": 1438.48,
                        "count": 0
                      },
                      {
                        "bin_start": 1438.48,
                        "bin_end": 1583.6100000000001,
                        "count": 1
                      },
                      {
                        "bin_start": 1583.6100000000001,
                        "bin_end": 1728.74,
                        "count": 1
                      },
                      {
                        "bin_start": 1728.74,
                        "bin_end": 1873.8700000000001,
                        "count": 0
                      },
                      {
                        "bin_start": 1873.8700000000001,
                        "bin_end": 2019,
                        "count": 2
                      }
                    ]
                  }
                },
                {
                  "name": "smoothness_worst",
                  "dtype": "float64",
                  "stats": {
                    "unique_count": 5,
                    "nan_count": 0,
                    "min": "0.1238",
                    "max": "0.2098",
                    "histogram": [
                      {
                        "bin_start": 0.1238,
                        "bin_end": 0.1324,
                        "count": 1
                      },
                      {
                        "bin_start": 0.1324,
                        "bin_end": 0.141,
                        "count": 1
                      },
                      {
                        "bin_start": 0.141,
                        "bin_end": 0.14959999999999998,
                        "count": 1
                      },
                      {
                        "bin_start": 0.14959999999999998,
                        "bin_end": 0.1582,
                        "count": 0
                      },
                      {
                        "bin_start": 0.1582,
                        "bin_end": 0.1668,
                        "count": 1
                      },
                      {
                        "bin_start": 0.1668,
                        "bin_end": 0.1754,
                        "count": 0
                      },
                      {
                        "bin_start": 0.1754,
                        "bin_end": 0.184,
                        "count": 0
                      },
                      {
                        "bin_start": 0.184,
                        "bin_end": 0.1926,
                        "count": 0
                      },
                      {
                        "bin_start": 0.1926,
                        "bin_end": 0.2012,
                        "count": 0
                      },
                      {
                        "bin_start": 0.2012,
                        "bin_end": 0.2098,
                        "count": 1
                      }
                    ]
                  }
                },
                {
                  "name": "compactness_worst",
                  "dtype": "float64",
                  "stats": {
                    "unique_count": 5,
                    "nan_count": 0,
                    "min": "0.1866",
                    "max": "0.8663",
                    "histogram": [
                      {
                        "bin_start": 0.1866,
                        "bin_end": 0.25456999999999996,
                        "count": 2
                      },
                      {
                        "bin_start": 0.25456999999999996,
                        "bin_end": 0.32254,
                        "count": 0
                      },
                      {
                        "bin_start": 0.32254,
                        "bin_end": 0.39051,
                        "count": 0
                      },
                      {
                        "bin_start": 0.39051,
                        "bin_end": 0.45848,
                        "count": 1
                      },
                      {
                        "bin_start": 0.45848,
                        "bin_end": 0.52645,
                        "count": 0
                      },
                      {
                        "bin_start": 0.52645,
                        "bin_end": 0.59442,
                        "count": 0
                      },
                      {
                        "bin_start": 0.59442,
                        "bin_end": 0.66239,
                        "count": 0
                      },
                      {
                        "bin_start": 0.66239,
                        "bin_end": 0.73036,
                        "count": 1
                      },
                      {
                        "bin_start": 0.73036,
                        "bin_end": 0.79833,
                        "count": 0
                      },
                      {
                        "bin_start": 0.79833,
                        "bin_end": 0.8663,
                        "count": 1
                      }
                    ]
                  }
                },
                {
                  "name": "concavity_worst",
                  "dtype": "float64",
                  "stats": {
                    "unique_count": 5,
                    "nan_count": 0,
                    "min": "0.2416",
                    "max": "0.7119",
                    "histogram": [
                      {
                        "bin_start": 0.2416,
                        "bin_end": 0.28863,
                        "count": 1
                      },
                      {
                        "bin_start": 0.28863,
                        "bin_end": 0.33566,
                        "count": 0
                      },
                      {
                        "bin_start": 0.33566,
                        "bin_end": 0.38269,
                        "count": 0
                      },
                      {
                        "bin_start": 0.38269,
                        "bin_end": 0.42972,
                        "count": 1
                      },
                      {
                        "bin_start": 0.42972,
                        "bin_end": 0.47675,
                        "count": 1
                      },
                      {
                        "bin_start": 0.47675,
                        "bin_end": 0.52378,
                        "count": 0
                      },
                      {
                        "bin_start": 0.52378,
                        "bin_end": 0.5708099999999999,
                        "count": 0
                      },
                      {
                        "bin_start": 0.5708099999999999,
                        "bin_end": 0.61784,
                        "count": 0
                      },
                      {
                        "bin_start": 0.61784,
                        "bin_end": 0.66487,
                        "count": 0
                      },
                      {
                        "bin_start": 0.66487,
                        "bin_end": 0.7119,
                        "count": 2
                      }
                    ]
                  }
                },
                {
                  "name": "concave points_worst",
                  "dtype": "float64",
                  "stats": {
                    "unique_count": 5,
                    "nan_count": 0,
                    "min": "0.1625",
                    "max": "0.2654",
                    "histogram": [
                      {
                        "bin_start": 0.1625,
                        "bin_end": 0.17279,
                        "count": 1
                      },
                      {
                        "bin_start": 0.17279,
                        "bin_end": 0.18308000000000002,
                        "count": 0
                      },
                      {
                        "bin_start": 0.18308000000000002,
                        "bin_end": 0.19337000000000001,
                        "count": 1
                      },
                      {
                        "bin_start": 0.19337000000000001,
                        "bin_end": 0.20366,
                        "count": 0
                      },
                      {
                        "bin_start": 0.20366,
                        "bin_end": 0.21395000000000003,
                        "count": 0
                      },
                      {
                        "bin_start": 0.21395000000000003,
                        "bin_end": 0.22424000000000002,
                        "count": 0
                      },
                      {
                        "bin_start": 0.22424000000000002,
                        "bin_end": 0.23453000000000002,
                        "count": 0
                      },
                      {
                        "bin_start": 0.23453000000000002,
                        "bin_end": 0.24482000000000004,
                        "count": 1
                      },
                      {
                        "bin_start": 0.24482000000000004,
                        "bin_end": 0.25511000000000006,
                        "count": 0
                      },
                      {
                        "bin_start": 0.25511000000000006,
                        "bin_end": 0.2654,
                        "count": 2
                      }
                    ]
                  }
                },
                {
                  "name": "symmetry_worst",
                  "dtype": "float64",
                  "stats": {
                    "unique_count": 5,
                    "nan_count": 0,
                    "min": "0.2364",
                    "max": "0.6638",
                    "histogram": [
                      {
                        "bin_start": 0.2364,
                        "bin_end": 0.27914,
                        "count": 2
                      },
                      {
                        "bin_start": 0.27914,
                        "bin_end": 0.32188,
                        "count": 0
                      },
                      {
                        "bin_start": 0.32188,
                        "bin_end": 0.36461999999999994,
                        "count": 1
                      },
                      {
                        "bin_start": 0.36461999999999994,
                        "bin_end": 0.40735999999999994,
                        "count": 0
                      },
                      {
                        "bin_start": 0.40735999999999994,
                        "bin_end": 0.45009999999999994,
                        "count": 0
                      },
                      {
                        "bin_start": 0.45009999999999994,
                        "bin_end": 0.49283999999999994,
                        "count": 1
                      },
                      {
                        "bin_start": 0.49283999999999994,
                        "bin_end": 0.53558,
                        "count": 0
                      },
                      {
                        "bin_start": 0.53558,
                        "bin_end": 0.57832,
                        "count": 0
                      },
                      {
                        "bin_start": 0.57832,
                        "bin_end": 0.62106,
                        "count": 0
                      },
                      {
                        "bin_start": 0.62106,
                        "bin_end": 0.6638,
                        "count": 1
                      }
                    ]
                  }
                },
                {
                  "name": "fractal_dimension_worst",
                  "dtype": "float64",
                  "stats": {
                    "unique_count": 5,
                    "nan_count": 0,
                    "min": "0.07678",
                    "max": "0.173",
                    "histogram": [
                      {
                        "bin_start": 0.07678,
                        "bin_end": 0.086402,
                        "count": 1
                      },
                      {
                        "bin_start": 0.086402,
                        "bin_end": 0.096024,
                        "count": 2
                      },
                      {
                        "bin_start": 0.096024,
                        "bin_end": 0.10564599999999999,
                        "count": 0
                      },
                      {
                        "bin_start": 0.10564599999999999,
                        "bin_end": 0.115268,
                        "count": 0
                      },
                      {
                        "bin_start": 0.115268,
                        "bin_end": 0.12489,
                        "count": 1
                      },
                      {
                        "bin_start": 0.12489,
                        "bin_end": 0.134512,
                        "count": 0
                      },
                      {
                        "bin_start": 0.134512,
                        "bin_end": 0.14413399999999998,
                        "count": 0
                      },
                      {
                        "bin_start": 0.14413399999999998,
                        "bin_end": 0.153756,
                        "count": 0
                      },
                      {
                        "bin_start": 0.153756,
                        "bin_end": 0.16337799999999997,
                        "count": 0
                      },
                      {
                        "bin_start": 0.16337799999999997,
                        "bin_end": 0.173,
                        "count": 1
                      }
                    ]
                  }
                },
                {
                  "name": "Unnamed: 32",
                  "dtype": "float64",
                  "stats": {
                    "unique_count": 0,
                    "nan_count": 5,
                    "min": null,
                    "max": null,
                    "histogram": [
                      {
                        "bin_start": 0,
                        "bin_end": 0.1,
                        "count": 0
                      },
                      {
                        "bin_start": 0.1,
                        "bin_end": 0.2,
                        "count": 0
                      },
                      {
                        "bin_start": 0.2,
                        "bin_end": 0.30000000000000004,
                        "count": 0
                      },
                      {
                        "bin_start": 0.30000000000000004,
                        "bin_end": 0.4,
                        "count": 0
                      },
                      {
                        "bin_start": 0.4,
                        "bin_end": 0.5,
                        "count": 0
                      },
                      {
                        "bin_start": 0.5,
                        "bin_end": 0.6000000000000001,
                        "count": 0
                      },
                      {
                        "bin_start": 0.6000000000000001,
                        "bin_end": 0.7000000000000001,
                        "count": 0
                      },
                      {
                        "bin_start": 0.7000000000000001,
                        "bin_end": 0.8,
                        "count": 0
                      },
                      {
                        "bin_start": 0.8,
                        "bin_end": 0.9,
                        "count": 0
                      },
                      {
                        "bin_start": 0.9,
                        "bin_end": 1,
                        "count": 0
                      }
                    ]
                  }
                },
                {
                  "name": "_deepnote_index_column",
                  "dtype": "int64"
                }
              ],
              "rows_top": [
                {
                  "id": 842302,
                  "diagnosis": "M",
                  "radius_mean": 17.99,
                  "texture_mean": 10.38,
                  "perimeter_mean": 122.8,
                  "area_mean": 1001,
                  "smoothness_mean": 0.1184,
                  "compactness_mean": 0.2776,
                  "concavity_mean": 0.3001,
                  "concave points_mean": 0.1471,
                  "symmetry_mean": 0.2419,
                  "fractal_dimension_mean": 0.07871,
                  "radius_se": 1.095,
                  "texture_se": 0.9053,
                  "perimeter_se": 8.589,
                  "area_se": 153.4,
                  "smoothness_se": 0.006399,
                  "compactness_se": 0.04904,
                  "concavity_se": 0.05373,
                  "concave points_se": 0.01587,
                  "symmetry_se": 0.03003,
                  "fractal_dimension_se": 0.006193,
                  "radius_worst": 25.38,
                  "texture_worst": 17.33,
                  "perimeter_worst": 184.6,
                  "area_worst": 2019,
                  "smoothness_worst": 0.1622,
                  "compactness_worst": 0.6656,
                  "concavity_worst": 0.7119,
                  "concave points_worst": 0.2654,
                  "symmetry_worst": 0.4601,
                  "fractal_dimension_worst": 0.1189,
                  "Unnamed: 32": "nan",
                  "_deepnote_index_column": 0
                },
                {
                  "id": 842517,
                  "diagnosis": "M",
                  "radius_mean": 20.57,
                  "texture_mean": 17.77,
                  "perimeter_mean": 132.9,
                  "area_mean": 1326,
                  "smoothness_mean": 0.08474,
                  "compactness_mean": 0.07864,
                  "concavity_mean": 0.0869,
                  "concave points_mean": 0.07017,
                  "symmetry_mean": 0.1812,
                  "fractal_dimension_mean": 0.05667,
                  "radius_se": 0.5435,
                  "texture_se": 0.7339,
                  "perimeter_se": 3.398,
                  "area_se": 74.08,
                  "smoothness_se": 0.005225,
                  "compactness_se": 0.01308,
                  "concavity_se": 0.0186,
                  "concave points_se": 0.0134,
                  "symmetry_se": 0.01389,
                  "fractal_dimension_se": 0.003532,
                  "radius_worst": 24.99,
                  "texture_worst": 23.41,
                  "perimeter_worst": 158.8,
                  "area_worst": 1956,
                  "smoothness_worst": 0.1238,
                  "compactness_worst": 0.1866,
                  "concavity_worst": 0.2416,
                  "concave points_worst": 0.186,
                  "symmetry_worst": 0.275,
                  "fractal_dimension_worst": 0.08902,
                  "Unnamed: 32": "nan",
                  "_deepnote_index_column": 1
                },
                {
                  "id": 84300903,
                  "diagnosis": "M",
                  "radius_mean": 19.69,
                  "texture_mean": 21.25,
                  "perimeter_mean": 130,
                  "area_mean": 1203,
                  "smoothness_mean": 0.1096,
                  "compactness_mean": 0.1599,
                  "concavity_mean": 0.1974,
                  "concave points_mean": 0.1279,
                  "symmetry_mean": 0.2069,
                  "fractal_dimension_mean": 0.05999,
                  "radius_se": 0.7456,
                  "texture_se": 0.7869,
                  "perimeter_se": 4.585,
                  "area_se": 94.03,
                  "smoothness_se": 0.00615,
                  "compactness_se": 0.04006,
                  "concavity_se": 0.03832,
                  "concave points_se": 0.02058,
                  "symmetry_se": 0.0225,
                  "fractal_dimension_se": 0.004571,
                  "radius_worst": 23.57,
                  "texture_worst": 25.53,
                  "perimeter_worst": 152.5,
                  "area_worst": 1709,
                  "smoothness_worst": 0.1444,
                  "compactness_worst": 0.4245,
                  "concavity_worst": 0.4504,
                  "concave points_worst": 0.243,
                  "symmetry_worst": 0.3613,
                  "fractal_dimension_worst": 0.08758,
                  "Unnamed: 32": "nan",
                  "_deepnote_index_column": 2
                },
                {
                  "id": 84348301,
                  "diagnosis": "M",
                  "radius_mean": 11.42,
                  "texture_mean": 20.38,
                  "perimeter_mean": 77.58,
                  "area_mean": 386.1,
                  "smoothness_mean": 0.1425,
                  "compactness_mean": 0.2839,
                  "concavity_mean": 0.2414,
                  "concave points_mean": 0.1052,
                  "symmetry_mean": 0.2597,
                  "fractal_dimension_mean": 0.09744,
                  "radius_se": 0.4956,
                  "texture_se": 1.156,
                  "perimeter_se": 3.445,
                  "area_se": 27.23,
                  "smoothness_se": 0.00911,
                  "compactness_se": 0.07458,
                  "concavity_se": 0.05661,
                  "concave points_se": 0.01867,
                  "symmetry_se": 0.05963,
                  "fractal_dimension_se": 0.009208,
                  "radius_worst": 14.91,
                  "texture_worst": 26.5,
                  "perimeter_worst": 98.87,
                  "area_worst": 567.7,
                  "smoothness_worst": 0.2098,
                  "compactness_worst": 0.8663,
                  "concavity_worst": 0.6869,
                  "concave points_worst": 0.2575,
                  "symmetry_worst": 0.6638,
                  "fractal_dimension_worst": 0.173,
                  "Unnamed: 32": "nan",
                  "_deepnote_index_column": 3
                },
                {
                  "id": 84358402,
                  "diagnosis": "M",
                  "radius_mean": 20.29,
                  "texture_mean": 14.34,
                  "perimeter_mean": 135.1,
                  "area_mean": 1297,
                  "smoothness_mean": 0.1003,
                  "compactness_mean": 0.1328,
                  "concavity_mean": 0.198,
                  "concave points_mean": 0.1043,
                  "symmetry_mean": 0.1809,
                  "fractal_dimension_mean": 0.05883,
                  "radius_se": 0.7572,
                  "texture_se": 0.7813,
                  "perimeter_se": 5.438,
                  "area_se": 94.44,
                  "smoothness_se": 0.01149,
                  "compactness_se": 0.02461,
                  "concavity_se": 0.05688,
                  "concave points_se": 0.01885,
                  "symmetry_se": 0.01756,
                  "fractal_dimension_se": 0.005115,
                  "radius_worst": 22.54,
                  "texture_worst": 16.67,
                  "perimeter_worst": 152.2,
                  "area_worst": 1575,
                  "smoothness_worst": 0.1374,
                  "compactness_worst": 0.205,
                  "concavity_worst": 0.4,
                  "concave points_worst": 0.1625,
                  "symmetry_worst": 0.2364,
                  "fractal_dimension_worst": 0.07678,
                  "Unnamed: 32": "nan",
                  "_deepnote_index_column": 4
                }
              ],
              "rows_bottom": null
            },
            "text/plain": "         id diagnosis  radius_mean  texture_mean  perimeter_mean  area_mean  \\\n0    842302         M        17.99         10.38          122.80     1001.0   \n1    842517         M        20.57         17.77          132.90     1326.0   \n2  84300903         M        19.69         21.25          130.00     1203.0   \n3  84348301         M        11.42         20.38           77.58      386.1   \n4  84358402         M        20.29         14.34          135.10     1297.0   \n\n   smoothness_mean  compactness_mean  concavity_mean  concave points_mean  \\\n0          0.11840           0.27760          0.3001              0.14710   \n1          0.08474           0.07864          0.0869              0.07017   \n2          0.10960           0.15990          0.1974              0.12790   \n3          0.14250           0.28390          0.2414              0.10520   \n4          0.10030           0.13280          0.1980              0.10430   \n\n   ...  texture_worst  perimeter_worst  area_worst  smoothness_worst  \\\n0  ...          17.33           184.60      2019.0            0.1622   \n1  ...          23.41           158.80      1956.0            0.1238   \n2  ...          25.53           152.50      1709.0            0.1444   \n3  ...          26.50            98.87       567.7            0.2098   \n4  ...          16.67           152.20      1575.0            0.1374   \n\n   compactness_worst  concavity_worst  concave points_worst  symmetry_worst  \\\n0             0.6656           0.7119                0.2654          0.4601   \n1             0.1866           0.2416                0.1860          0.2750   \n2             0.4245           0.4504                0.2430          0.3613   \n3             0.8663           0.6869                0.2575          0.6638   \n4             0.2050           0.4000                0.1625          0.2364   \n\n   fractal_dimension_worst  Unnamed: 32  \n0                  0.11890          NaN  \n1                  0.08902          NaN  \n2                  0.08758          NaN  \n3                  0.17300          NaN  \n4                  0.07678          NaN  \n\n[5 rows x 33 columns]",
            "text/html": "<div>\n<style scoped>\n    .dataframe tbody tr th:only-of-type {\n        vertical-align: middle;\n    }\n\n    .dataframe tbody tr th {\n        vertical-align: top;\n    }\n\n    .dataframe thead th {\n        text-align: right;\n    }\n</style>\n<table border=\"1\" class=\"dataframe\">\n  <thead>\n    <tr style=\"text-align: right;\">\n      <th></th>\n      <th>id</th>\n      <th>diagnosis</th>\n      <th>radius_mean</th>\n      <th>texture_mean</th>\n      <th>perimeter_mean</th>\n      <th>area_mean</th>\n      <th>smoothness_mean</th>\n      <th>compactness_mean</th>\n      <th>concavity_mean</th>\n      <th>concave points_mean</th>\n      <th>...</th>\n      <th>texture_worst</th>\n      <th>perimeter_worst</th>\n      <th>area_worst</th>\n      <th>smoothness_worst</th>\n      <th>compactness_worst</th>\n      <th>concavity_worst</th>\n      <th>concave points_worst</th>\n      <th>symmetry_worst</th>\n      <th>fractal_dimension_worst</th>\n      <th>Unnamed: 32</th>\n    </tr>\n  </thead>\n  <tbody>\n    <tr>\n      <th>0</th>\n      <td>842302</td>\n      <td>M</td>\n      <td>17.99</td>\n      <td>10.38</td>\n      <td>122.80</td>\n      <td>1001.0</td>\n      <td>0.11840</td>\n      <td>0.27760</td>\n      <td>0.3001</td>\n      <td>0.14710</td>\n      <td>...</td>\n      <td>17.33</td>\n      <td>184.60</td>\n      <td>2019.0</td>\n      <td>0.1622</td>\n      <td>0.6656</td>\n      <td>0.7119</td>\n      <td>0.2654</td>\n      <td>0.4601</td>\n      <td>0.11890</td>\n      <td>NaN</td>\n    </tr>\n    <tr>\n      <th>1</th>\n      <td>842517</td>\n      <td>M</td>\n      <td>20.57</td>\n      <td>17.77</td>\n      <td>132.90</td>\n      <td>1326.0</td>\n      <td>0.08474</td>\n      <td>0.07864</td>\n      <td>0.0869</td>\n      <td>0.07017</td>\n      <td>...</td>\n      <td>23.41</td>\n      <td>158.80</td>\n      <td>1956.0</td>\n      <td>0.1238</td>\n      <td>0.1866</td>\n      <td>0.2416</td>\n      <td>0.1860</td>\n      <td>0.2750</td>\n      <td>0.08902</td>\n      <td>NaN</td>\n    </tr>\n    <tr>\n      <th>2</th>\n      <td>84300903</td>\n      <td>M</td>\n      <td>19.69</td>\n      <td>21.25</td>\n      <td>130.00</td>\n      <td>1203.0</td>\n      <td>0.10960</td>\n      <td>0.15990</td>\n      <td>0.1974</td>\n      <td>0.12790</td>\n      <td>...</td>\n      <td>25.53</td>\n      <td>152.50</td>\n      <td>1709.0</td>\n      <td>0.1444</td>\n      <td>0.4245</td>\n      <td>0.4504</td>\n      <td>0.2430</td>\n      <td>0.3613</td>\n      <td>0.08758</td>\n      <td>NaN</td>\n    </tr>\n    <tr>\n      <th>3</th>\n      <td>84348301</td>\n      <td>M</td>\n      <td>11.42</td>\n      <td>20.38</td>\n      <td>77.58</td>\n      <td>386.1</td>\n      <td>0.14250</td>\n      <td>0.28390</td>\n      <td>0.2414</td>\n      <td>0.10520</td>\n      <td>...</td>\n      <td>26.50</td>\n      <td>98.87</td>\n      <td>567.7</td>\n      <td>0.2098</td>\n      <td>0.8663</td>\n      <td>0.6869</td>\n      <td>0.2575</td>\n      <td>0.6638</td>\n      <td>0.17300</td>\n      <td>NaN</td>\n    </tr>\n    <tr>\n      <th>4</th>\n      <td>84358402</td>\n      <td>M</td>\n      <td>20.29</td>\n      <td>14.34</td>\n      <td>135.10</td>\n      <td>1297.0</td>\n      <td>0.10030</td>\n      <td>0.13280</td>\n      <td>0.1980</td>\n      <td>0.10430</td>\n      <td>...</td>\n      <td>16.67</td>\n      <td>152.20</td>\n      <td>1575.0</td>\n      <td>0.1374</td>\n      <td>0.2050</td>\n      <td>0.4000</td>\n      <td>0.1625</td>\n      <td>0.2364</td>\n      <td>0.07678</td>\n      <td>NaN</td>\n    </tr>\n  </tbody>\n</table>\n<p>5 rows × 33 columns</p>\n</div>"
          },
          "metadata": {}
        }
      ]
    },
    {
      "cell_type": "code",
      "metadata": {
        "tags": [],
        "cell_id": "00031-c32836a4-2419-4f63-beed-1f319591e1fe",
        "deepnote_to_be_reexecuted": false,
        "source_hash": "10802c0d",
        "execution_millis": 145,
        "execution_start": 1618862384526,
        "deepnote_cell_type": "code"
      },
      "source": [
        "# we are removing the ID and the target from our dataset\n",
        "XII = XII.drop(columns=['id', 'diagnosis', 'Unnamed: 32'])\n",
        "XII.head()"
      ],
      "execution_count": null,
      "outputs": [
        {
          "output_type": "execute_result",
          "execution_count": 18,
          "data": {
            "application/vnd.deepnote.dataframe.v2+json": {
              "row_count": 5,
              "column_count": 30,
              "columns": [
                {
                  "name": "radius_mean",
                  "dtype": "float64",
                  "stats": {
                    "unique_count": 5,
                    "nan_count": 0,
                    "min": "11.42",
                    "max": "20.57",
                    "histogram": [
                      {
                        "bin_start": 11.42,
                        "bin_end": 12.335,
                        "count": 1
                      },
                      {
                        "bin_start": 12.335,
                        "bin_end": 13.25,
                        "count": 0
                      },
                      {
                        "bin_start": 13.25,
                        "bin_end": 14.165,
                        "count": 0
                      },
                      {
                        "bin_start": 14.165,
                        "bin_end": 15.08,
                        "count": 0
                      },
                      {
                        "bin_start": 15.08,
                        "bin_end": 15.995000000000001,
                        "count": 0
                      },
                      {
                        "bin_start": 15.995000000000001,
                        "bin_end": 16.91,
                        "count": 0
                      },
                      {
                        "bin_start": 16.91,
                        "bin_end": 17.825,
                        "count": 0
                      },
                      {
                        "bin_start": 17.825,
                        "bin_end": 18.740000000000002,
                        "count": 1
                      },
                      {
                        "bin_start": 18.740000000000002,
                        "bin_end": 19.655,
                        "count": 0
                      },
                      {
                        "bin_start": 19.655,
                        "bin_end": 20.57,
                        "count": 3
                      }
                    ]
                  }
                },
                {
                  "name": "texture_mean",
                  "dtype": "float64",
                  "stats": {
                    "unique_count": 5,
                    "nan_count": 0,
                    "min": "10.38",
                    "max": "21.25",
                    "histogram": [
                      {
                        "bin_start": 10.38,
                        "bin_end": 11.467,
                        "count": 1
                      },
                      {
                        "bin_start": 11.467,
                        "bin_end": 12.554,
                        "count": 0
                      },
                      {
                        "bin_start": 12.554,
                        "bin_end": 13.641000000000002,
                        "count": 0
                      },
                      {
                        "bin_start": 13.641000000000002,
                        "bin_end": 14.728000000000002,
                        "count": 1
                      },
                      {
                        "bin_start": 14.728000000000002,
                        "bin_end": 15.815000000000001,
                        "count": 0
                      },
                      {
                        "bin_start": 15.815000000000001,
                        "bin_end": 16.902,
                        "count": 0
                      },
                      {
                        "bin_start": 16.902,
                        "bin_end": 17.989,
                        "count": 1
                      },
                      {
                        "bin_start": 17.989,
                        "bin_end": 19.076,
                        "count": 0
                      },
                      {
                        "bin_start": 19.076,
                        "bin_end": 20.163,
                        "count": 0
                      },
                      {
                        "bin_start": 20.163,
                        "bin_end": 21.25,
                        "count": 2
                      }
                    ]
                  }
                },
                {
                  "name": "perimeter_mean",
                  "dtype": "float64",
                  "stats": {
                    "unique_count": 5,
                    "nan_count": 0,
                    "min": "77.58",
                    "max": "135.1",
                    "histogram": [
                      {
                        "bin_start": 77.58,
                        "bin_end": 83.332,
                        "count": 1
                      },
                      {
                        "bin_start": 83.332,
                        "bin_end": 89.084,
                        "count": 0
                      },
                      {
                        "bin_start": 89.084,
                        "bin_end": 94.836,
                        "count": 0
                      },
                      {
                        "bin_start": 94.836,
                        "bin_end": 100.588,
                        "count": 0
                      },
                      {
                        "bin_start": 100.588,
                        "bin_end": 106.34,
                        "count": 0
                      },
                      {
                        "bin_start": 106.34,
                        "bin_end": 112.092,
                        "count": 0
                      },
                      {
                        "bin_start": 112.092,
                        "bin_end": 117.844,
                        "count": 0
                      },
                      {
                        "bin_start": 117.844,
                        "bin_end": 123.596,
                        "count": 1
                      },
                      {
                        "bin_start": 123.596,
                        "bin_end": 129.348,
                        "count": 0
                      },
                      {
                        "bin_start": 129.348,
                        "bin_end": 135.1,
                        "count": 3
                      }
                    ]
                  }
                },
                {
                  "name": "area_mean",
                  "dtype": "float64",
                  "stats": {
                    "unique_count": 5,
                    "nan_count": 0,
                    "min": "386.1",
                    "max": "1326.0",
                    "histogram": [
                      {
                        "bin_start": 386.1,
                        "bin_end": 480.09000000000003,
                        "count": 1
                      },
                      {
                        "bin_start": 480.09000000000003,
                        "bin_end": 574.08,
                        "count": 0
                      },
                      {
                        "bin_start": 574.08,
                        "bin_end": 668.0699999999999,
                        "count": 0
                      },
                      {
                        "bin_start": 668.0699999999999,
                        "bin_end": 762.06,
                        "count": 0
                      },
                      {
                        "bin_start": 762.06,
                        "bin_end": 856.05,
                        "count": 0
                      },
                      {
                        "bin_start": 856.05,
                        "bin_end": 950.04,
                        "count": 0
                      },
                      {
                        "bin_start": 950.04,
                        "bin_end": 1044.03,
                        "count": 1
                      },
                      {
                        "bin_start": 1044.03,
                        "bin_end": 1138.02,
                        "count": 0
                      },
                      {
                        "bin_start": 1138.02,
                        "bin_end": 1232.01,
                        "count": 1
                      },
                      {
                        "bin_start": 1232.01,
                        "bin_end": 1326,
                        "count": 2
                      }
                    ]
                  }
                },
                {
                  "name": "smoothness_mean",
                  "dtype": "float64",
                  "stats": {
                    "unique_count": 5,
                    "nan_count": 0,
                    "min": "0.08474",
                    "max": "0.1425",
                    "histogram": [
                      {
                        "bin_start": 0.08474,
                        "bin_end": 0.090516,
                        "count": 1
                      },
                      {
                        "bin_start": 0.090516,
                        "bin_end": 0.09629199999999999,
                        "count": 0
                      },
                      {
                        "bin_start": 0.09629199999999999,
                        "bin_end": 0.10206799999999999,
                        "count": 1
                      },
                      {
                        "bin_start": 0.10206799999999999,
                        "bin_end": 0.107844,
                        "count": 0
                      },
                      {
                        "bin_start": 0.107844,
                        "bin_end": 0.11362,
                        "count": 1
                      },
                      {
                        "bin_start": 0.11362,
                        "bin_end": 0.11939599999999999,
                        "count": 1
                      },
                      {
                        "bin_start": 0.11939599999999999,
                        "bin_end": 0.125172,
                        "count": 0
                      },
                      {
                        "bin_start": 0.125172,
                        "bin_end": 0.13094799999999998,
                        "count": 0
                      },
                      {
                        "bin_start": 0.13094799999999998,
                        "bin_end": 0.13672399999999998,
                        "count": 0
                      },
                      {
                        "bin_start": 0.13672399999999998,
                        "bin_end": 0.1425,
                        "count": 1
                      }
                    ]
                  }
                },
                {
                  "name": "compactness_mean",
                  "dtype": "float64",
                  "stats": {
                    "unique_count": 5,
                    "nan_count": 0,
                    "min": "0.07864",
                    "max": "0.2839",
                    "histogram": [
                      {
                        "bin_start": 0.07864,
                        "bin_end": 0.099166,
                        "count": 1
                      },
                      {
                        "bin_start": 0.099166,
                        "bin_end": 0.11969199999999999,
                        "count": 0
                      },
                      {
                        "bin_start": 0.11969199999999999,
                        "bin_end": 0.140218,
                        "count": 1
                      },
                      {
                        "bin_start": 0.140218,
                        "bin_end": 0.160744,
                        "count": 1
                      },
                      {
                        "bin_start": 0.160744,
                        "bin_end": 0.18127,
                        "count": 0
                      },
                      {
                        "bin_start": 0.18127,
                        "bin_end": 0.20179599999999998,
                        "count": 0
                      },
                      {
                        "bin_start": 0.20179599999999998,
                        "bin_end": 0.22232200000000002,
                        "count": 0
                      },
                      {
                        "bin_start": 0.22232200000000002,
                        "bin_end": 0.242848,
                        "count": 0
                      },
                      {
                        "bin_start": 0.242848,
                        "bin_end": 0.263374,
                        "count": 0
                      },
                      {
                        "bin_start": 0.263374,
                        "bin_end": 0.2839,
                        "count": 2
                      }
                    ]
                  }
                },
                {
                  "name": "concavity_mean",
                  "dtype": "float64",
                  "stats": {
                    "unique_count": 5,
                    "nan_count": 0,
                    "min": "0.0869",
                    "max": "0.3001",
                    "histogram": [
                      {
                        "bin_start": 0.0869,
                        "bin_end": 0.10822000000000001,
                        "count": 1
                      },
                      {
                        "bin_start": 0.10822000000000001,
                        "bin_end": 0.12954,
                        "count": 0
                      },
                      {
                        "bin_start": 0.12954,
                        "bin_end": 0.15086,
                        "count": 0
                      },
                      {
                        "bin_start": 0.15086,
                        "bin_end": 0.17218,
                        "count": 0
                      },
                      {
                        "bin_start": 0.17218,
                        "bin_end": 0.1935,
                        "count": 0
                      },
                      {
                        "bin_start": 0.1935,
                        "bin_end": 0.21481999999999998,
                        "count": 2
                      },
                      {
                        "bin_start": 0.21481999999999998,
                        "bin_end": 0.23614,
                        "count": 0
                      },
                      {
                        "bin_start": 0.23614,
                        "bin_end": 0.25746,
                        "count": 1
                      },
                      {
                        "bin_start": 0.25746,
                        "bin_end": 0.27878000000000003,
                        "count": 0
                      },
                      {
                        "bin_start": 0.27878000000000003,
                        "bin_end": 0.3001,
                        "count": 1
                      }
                    ]
                  }
                },
                {
                  "name": "concave points_mean",
                  "dtype": "float64",
                  "stats": {
                    "unique_count": 5,
                    "nan_count": 0,
                    "min": "0.07017",
                    "max": "0.1471",
                    "histogram": [
                      {
                        "bin_start": 0.07017,
                        "bin_end": 0.077863,
                        "count": 1
                      },
                      {
                        "bin_start": 0.077863,
                        "bin_end": 0.085556,
                        "count": 0
                      },
                      {
                        "bin_start": 0.085556,
                        "bin_end": 0.093249,
                        "count": 0
                      },
                      {
                        "bin_start": 0.093249,
                        "bin_end": 0.100942,
                        "count": 0
                      },
                      {
                        "bin_start": 0.100942,
                        "bin_end": 0.10863500000000001,
                        "count": 2
                      },
                      {
                        "bin_start": 0.10863500000000001,
                        "bin_end": 0.116328,
                        "count": 0
                      },
                      {
                        "bin_start": 0.116328,
                        "bin_end": 0.124021,
                        "count": 0
                      },
                      {
                        "bin_start": 0.124021,
                        "bin_end": 0.131714,
                        "count": 1
                      },
                      {
                        "bin_start": 0.131714,
                        "bin_end": 0.139407,
                        "count": 0
                      },
                      {
                        "bin_start": 0.139407,
                        "bin_end": 0.1471,
                        "count": 1
                      }
                    ]
                  }
                },
                {
                  "name": "symmetry_mean",
                  "dtype": "float64",
                  "stats": {
                    "unique_count": 5,
                    "nan_count": 0,
                    "min": "0.1809",
                    "max": "0.2597",
                    "histogram": [
                      {
                        "bin_start": 0.1809,
                        "bin_end": 0.18878,
                        "count": 2
                      },
                      {
                        "bin_start": 0.18878,
                        "bin_end": 0.19666,
                        "count": 0
                      },
                      {
                        "bin_start": 0.19666,
                        "bin_end": 0.20454,
                        "count": 0
                      },
                      {
                        "bin_start": 0.20454,
                        "bin_end": 0.21242,
                        "count": 1
                      },
                      {
                        "bin_start": 0.21242,
                        "bin_end": 0.2203,
                        "count": 0
                      },
                      {
                        "bin_start": 0.2203,
                        "bin_end": 0.22818,
                        "count": 0
                      },
                      {
                        "bin_start": 0.22818,
                        "bin_end": 0.23606,
                        "count": 0
                      },
                      {
                        "bin_start": 0.23606,
                        "bin_end": 0.24394,
                        "count": 1
                      },
                      {
                        "bin_start": 0.24394,
                        "bin_end": 0.25182,
                        "count": 0
                      },
                      {
                        "bin_start": 0.25182,
                        "bin_end": 0.2597,
                        "count": 1
                      }
                    ]
                  }
                },
                {
                  "name": "fractal_dimension_mean",
                  "dtype": "float64",
                  "stats": {
                    "unique_count": 5,
                    "nan_count": 0,
                    "min": "0.05667",
                    "max": "0.09744",
                    "histogram": [
                      {
                        "bin_start": 0.05667,
                        "bin_end": 0.060746999999999995,
                        "count": 3
                      },
                      {
                        "bin_start": 0.060746999999999995,
                        "bin_end": 0.06482399999999999,
                        "count": 0
                      },
                      {
                        "bin_start": 0.06482399999999999,
                        "bin_end": 0.06890099999999999,
                        "count": 0
                      },
                      {
                        "bin_start": 0.06890099999999999,
                        "bin_end": 0.072978,
                        "count": 0
                      },
                      {
                        "bin_start": 0.072978,
                        "bin_end": 0.077055,
                        "count": 0
                      },
                      {
                        "bin_start": 0.077055,
                        "bin_end": 0.081132,
                        "count": 1
                      },
                      {
                        "bin_start": 0.081132,
                        "bin_end": 0.085209,
                        "count": 0
                      },
                      {
                        "bin_start": 0.085209,
                        "bin_end": 0.089286,
                        "count": 0
                      },
                      {
                        "bin_start": 0.089286,
                        "bin_end": 0.093363,
                        "count": 0
                      },
                      {
                        "bin_start": 0.093363,
                        "bin_end": 0.09744,
                        "count": 1
                      }
                    ]
                  }
                },
                {
                  "name": "radius_se",
                  "dtype": "float64",
                  "stats": {
                    "unique_count": 5,
                    "nan_count": 0,
                    "min": "0.4956",
                    "max": "1.095",
                    "histogram": [
                      {
                        "bin_start": 0.4956,
                        "bin_end": 0.5555399999999999,
                        "count": 2
                      },
                      {
                        "bin_start": 0.5555399999999999,
                        "bin_end": 0.61548,
                        "count": 0
                      },
                      {
                        "bin_start": 0.61548,
                        "bin_end": 0.6754199999999999,
                        "count": 0
                      },
                      {
                        "bin_start": 0.6754199999999999,
                        "bin_end": 0.73536,
                        "count": 0
                      },
                      {
                        "bin_start": 0.73536,
                        "bin_end": 0.7952999999999999,
                        "count": 2
                      },
                      {
                        "bin_start": 0.7952999999999999,
                        "bin_end": 0.85524,
                        "count": 0
                      },
                      {
                        "bin_start": 0.85524,
                        "bin_end": 0.9151799999999999,
                        "count": 0
                      },
                      {
                        "bin_start": 0.9151799999999999,
                        "bin_end": 0.97512,
                        "count": 0
                      },
                      {
                        "bin_start": 0.97512,
                        "bin_end": 1.0350599999999999,
                        "count": 0
                      },
                      {
                        "bin_start": 1.0350599999999999,
                        "bin_end": 1.095,
                        "count": 1
                      }
                    ]
                  }
                },
                {
                  "name": "texture_se",
                  "dtype": "float64",
                  "stats": {
                    "unique_count": 5,
                    "nan_count": 0,
                    "min": "0.7339",
                    "max": "1.156",
                    "histogram": [
                      {
                        "bin_start": 0.7339,
                        "bin_end": 0.77611,
                        "count": 1
                      },
                      {
                        "bin_start": 0.77611,
                        "bin_end": 0.8183199999999999,
                        "count": 2
                      },
                      {
                        "bin_start": 0.8183199999999999,
                        "bin_end": 0.86053,
                        "count": 0
                      },
                      {
                        "bin_start": 0.86053,
                        "bin_end": 0.90274,
                        "count": 0
                      },
                      {
                        "bin_start": 0.90274,
                        "bin_end": 0.94495,
                        "count": 1
                      },
                      {
                        "bin_start": 0.94495,
                        "bin_end": 0.9871599999999999,
                        "count": 0
                      },
                      {
                        "bin_start": 0.9871599999999999,
                        "bin_end": 1.02937,
                        "count": 0
                      },
                      {
                        "bin_start": 1.02937,
                        "bin_end": 1.07158,
                        "count": 0
                      },
                      {
                        "bin_start": 1.07158,
                        "bin_end": 1.1137899999999998,
                        "count": 0
                      },
                      {
                        "bin_start": 1.1137899999999998,
                        "bin_end": 1.156,
                        "count": 1
                      }
                    ]
                  }
                },
                {
                  "name": "perimeter_se",
                  "dtype": "float64",
                  "stats": {
                    "unique_count": 5,
                    "nan_count": 0,
                    "min": "3.398",
                    "max": "8.589",
                    "histogram": [
                      {
                        "bin_start": 3.398,
                        "bin_end": 3.9171000000000005,
                        "count": 2
                      },
                      {
                        "bin_start": 3.9171000000000005,
                        "bin_end": 4.4362,
                        "count": 0
                      },
                      {
                        "bin_start": 4.4362,
                        "bin_end": 4.9553,
                        "count": 1
                      },
                      {
                        "bin_start": 4.9553,
                        "bin_end": 5.474400000000001,
                        "count": 1
                      },
                      {
                        "bin_start": 5.474400000000001,
                        "bin_end": 5.993500000000001,
                        "count": 0
                      },
                      {
                        "bin_start": 5.993500000000001,
                        "bin_end": 6.512600000000001,
                        "count": 0
                      },
                      {
                        "bin_start": 6.512600000000001,
                        "bin_end": 7.031700000000001,
                        "count": 0
                      },
                      {
                        "bin_start": 7.031700000000001,
                        "bin_end": 7.550800000000001,
                        "count": 0
                      },
                      {
                        "bin_start": 7.550800000000001,
                        "bin_end": 8.0699,
                        "count": 0
                      },
                      {
                        "bin_start": 8.0699,
                        "bin_end": 8.589,
                        "count": 1
                      }
                    ]
                  }
                },
                {
                  "name": "area_se",
                  "dtype": "float64",
                  "stats": {
                    "unique_count": 5,
                    "nan_count": 0,
                    "min": "27.23",
                    "max": "153.4",
                    "histogram": [
                      {
                        "bin_start": 27.23,
                        "bin_end": 39.847,
                        "count": 1
                      },
                      {
                        "bin_start": 39.847,
                        "bin_end": 52.464,
                        "count": 0
                      },
                      {
                        "bin_start": 52.464,
                        "bin_end": 65.081,
                        "count": 0
                      },
                      {
                        "bin_start": 65.081,
                        "bin_end": 77.69800000000001,
                        "count": 1
                      },
                      {
                        "bin_start": 77.69800000000001,
                        "bin_end": 90.31500000000001,
                        "count": 0
                      },
                      {
                        "bin_start": 90.31500000000001,
                        "bin_end": 102.932,
                        "count": 2
                      },
                      {
                        "bin_start": 102.932,
                        "bin_end": 115.549,
                        "count": 0
                      },
                      {
                        "bin_start": 115.549,
                        "bin_end": 128.166,
                        "count": 0
                      },
                      {
                        "bin_start": 128.166,
                        "bin_end": 140.78300000000002,
                        "count": 0
                      },
                      {
                        "bin_start": 140.78300000000002,
                        "bin_end": 153.4,
                        "count": 1
                      }
                    ]
                  }
                },
                {
                  "name": "smoothness_se",
                  "dtype": "float64",
                  "stats": {
                    "unique_count": 5,
                    "nan_count": 0,
                    "min": "0.005225",
                    "max": "0.01149",
                    "histogram": [
                      {
                        "bin_start": 0.005225,
                        "bin_end": 0.0058515,
                        "count": 1
                      },
                      {
                        "bin_start": 0.0058515,
                        "bin_end": 0.006477999999999999,
                        "count": 2
                      },
                      {
                        "bin_start": 0.006477999999999999,
                        "bin_end": 0.0071045,
                        "count": 0
                      },
                      {
                        "bin_start": 0.0071045,
                        "bin_end": 0.007731,
                        "count": 0
                      },
                      {
                        "bin_start": 0.007731,
                        "bin_end": 0.0083575,
                        "count": 0
                      },
                      {
                        "bin_start": 0.0083575,
                        "bin_end": 0.008984,
                        "count": 0
                      },
                      {
                        "bin_start": 0.008984,
                        "bin_end": 0.009610500000000001,
                        "count": 1
                      },
                      {
                        "bin_start": 0.009610500000000001,
                        "bin_end": 0.010237,
                        "count": 0
                      },
                      {
                        "bin_start": 0.010237,
                        "bin_end": 0.010863500000000002,
                        "count": 0
                      },
                      {
                        "bin_start": 0.010863500000000002,
                        "bin_end": 0.01149,
                        "count": 1
                      }
                    ]
                  }
                },
                {
                  "name": "compactness_se",
                  "dtype": "float64",
                  "stats": {
                    "unique_count": 5,
                    "nan_count": 0,
                    "min": "0.01308",
                    "max": "0.07458",
                    "histogram": [
                      {
                        "bin_start": 0.01308,
                        "bin_end": 0.019229999999999997,
                        "count": 1
                      },
                      {
                        "bin_start": 0.019229999999999997,
                        "bin_end": 0.02538,
                        "count": 1
                      },
                      {
                        "bin_start": 0.02538,
                        "bin_end": 0.031529999999999996,
                        "count": 0
                      },
                      {
                        "bin_start": 0.031529999999999996,
                        "bin_end": 0.03768,
                        "count": 0
                      },
                      {
                        "bin_start": 0.03768,
                        "bin_end": 0.043829999999999994,
                        "count": 1
                      },
                      {
                        "bin_start": 0.043829999999999994,
                        "bin_end": 0.04998,
                        "count": 1
                      },
                      {
                        "bin_start": 0.04998,
                        "bin_end": 0.05612999999999999,
                        "count": 0
                      },
                      {
                        "bin_start": 0.05612999999999999,
                        "bin_end": 0.062279999999999995,
                        "count": 0
                      },
                      {
                        "bin_start": 0.062279999999999995,
                        "bin_end": 0.06842999999999999,
                        "count": 0
                      },
                      {
                        "bin_start": 0.06842999999999999,
                        "bin_end": 0.07458,
                        "count": 1
                      }
                    ]
                  }
                },
                {
                  "name": "concavity_se",
                  "dtype": "float64",
                  "stats": {
                    "unique_count": 5,
                    "nan_count": 0,
                    "min": "0.0186",
                    "max": "0.05688",
                    "histogram": [
                      {
                        "bin_start": 0.0186,
                        "bin_end": 0.022428,
                        "count": 1
                      },
                      {
                        "bin_start": 0.022428,
                        "bin_end": 0.026255999999999998,
                        "count": 0
                      },
                      {
                        "bin_start": 0.026255999999999998,
                        "bin_end": 0.030084,
                        "count": 0
                      },
                      {
                        "bin_start": 0.030084,
                        "bin_end": 0.033912,
                        "count": 0
                      },
                      {
                        "bin_start": 0.033912,
                        "bin_end": 0.037739999999999996,
                        "count": 0
                      },
                      {
                        "bin_start": 0.037739999999999996,
                        "bin_end": 0.041568,
                        "count": 1
                      },
                      {
                        "bin_start": 0.041568,
                        "bin_end": 0.045396,
                        "count": 0
                      },
                      {
                        "bin_start": 0.045396,
                        "bin_end": 0.049224000000000004,
                        "count": 0
                      },
                      {
                        "bin_start": 0.049224000000000004,
                        "bin_end": 0.053052,
                        "count": 0
                      },
                      {
                        "bin_start": 0.053052,
                        "bin_end": 0.05688,
                        "count": 3
                      }
                    ]
                  }
                },
                {
                  "name": "concave points_se",
                  "dtype": "float64",
                  "stats": {
                    "unique_count": 5,
                    "nan_count": 0,
                    "min": "0.0134",
                    "max": "0.02058",
                    "histogram": [
                      {
                        "bin_start": 0.0134,
                        "bin_end": 0.014118,
                        "count": 1
                      },
                      {
                        "bin_start": 0.014118,
                        "bin_end": 0.014836,
                        "count": 0
                      },
                      {
                        "bin_start": 0.014836,
                        "bin_end": 0.015554000000000002,
                        "count": 0
                      },
                      {
                        "bin_start": 0.015554000000000002,
                        "bin_end": 0.016272000000000002,
                        "count": 1
                      },
                      {
                        "bin_start": 0.016272000000000002,
                        "bin_end": 0.01699,
                        "count": 0
                      },
                      {
                        "bin_start": 0.01699,
                        "bin_end": 0.017708,
                        "count": 0
                      },
                      {
                        "bin_start": 0.017708,
                        "bin_end": 0.018426,
                        "count": 0
                      },
                      {
                        "bin_start": 0.018426,
                        "bin_end": 0.019144,
                        "count": 2
                      },
                      {
                        "bin_start": 0.019144,
                        "bin_end": 0.019862,
                        "count": 0
                      },
                      {
                        "bin_start": 0.019862,
                        "bin_end": 0.02058,
                        "count": 1
                      }
                    ]
                  }
                },
                {
                  "name": "symmetry_se",
                  "dtype": "float64",
                  "stats": {
                    "unique_count": 5,
                    "nan_count": 0,
                    "min": "0.01389",
                    "max": "0.05963",
                    "histogram": [
                      {
                        "bin_start": 0.01389,
                        "bin_end": 0.018464,
                        "count": 2
                      },
                      {
                        "bin_start": 0.018464,
                        "bin_end": 0.023038,
                        "count": 1
                      },
                      {
                        "bin_start": 0.023038,
                        "bin_end": 0.027611999999999998,
                        "count": 0
                      },
                      {
                        "bin_start": 0.027611999999999998,
                        "bin_end": 0.032186,
                        "count": 1
                      },
                      {
                        "bin_start": 0.032186,
                        "bin_end": 0.03676,
                        "count": 0
                      },
                      {
                        "bin_start": 0.03676,
                        "bin_end": 0.041333999999999996,
                        "count": 0
                      },
                      {
                        "bin_start": 0.041333999999999996,
                        "bin_end": 0.045908,
                        "count": 0
                      },
                      {
                        "bin_start": 0.045908,
                        "bin_end": 0.050482,
                        "count": 0
                      },
                      {
                        "bin_start": 0.050482,
                        "bin_end": 0.055056,
                        "count": 0
                      },
                      {
                        "bin_start": 0.055056,
                        "bin_end": 0.05963,
                        "count": 1
                      }
                    ]
                  }
                },
                {
                  "name": "fractal_dimension_se",
                  "dtype": "float64",
                  "stats": {
                    "unique_count": 5,
                    "nan_count": 0,
                    "min": "0.003532",
                    "max": "0.009208",
                    "histogram": [
                      {
                        "bin_start": 0.003532,
                        "bin_end": 0.0040996,
                        "count": 1
                      },
                      {
                        "bin_start": 0.0040996,
                        "bin_end": 0.0046672,
                        "count": 1
                      },
                      {
                        "bin_start": 0.0046672,
                        "bin_end": 0.0052347999999999995,
                        "count": 1
                      },
                      {
                        "bin_start": 0.0052347999999999995,
                        "bin_end": 0.005802399999999999,
                        "count": 0
                      },
                      {
                        "bin_start": 0.005802399999999999,
                        "bin_end": 0.006369999999999999,
                        "count": 1
                      },
                      {
                        "bin_start": 0.006369999999999999,
                        "bin_end": 0.0069375999999999995,
                        "count": 0
                      },
                      {
                        "bin_start": 0.0069375999999999995,
                        "bin_end": 0.0075052,
                        "count": 0
                      },
                      {
                        "bin_start": 0.0075052,
                        "bin_end": 0.0080728,
                        "count": 0
                      },
                      {
                        "bin_start": 0.0080728,
                        "bin_end": 0.0086404,
                        "count": 0
                      },
                      {
                        "bin_start": 0.0086404,
                        "bin_end": 0.009208,
                        "count": 1
                      }
                    ]
                  }
                },
                {
                  "name": "radius_worst",
                  "dtype": "float64",
                  "stats": {
                    "unique_count": 5,
                    "nan_count": 0,
                    "min": "14.91",
                    "max": "25.38",
                    "histogram": [
                      {
                        "bin_start": 14.91,
                        "bin_end": 15.957,
                        "count": 1
                      },
                      {
                        "bin_start": 15.957,
                        "bin_end": 17.004,
                        "count": 0
                      },
                      {
                        "bin_start": 17.004,
                        "bin_end": 18.051000000000002,
                        "count": 0
                      },
                      {
                        "bin_start": 18.051000000000002,
                        "bin_end": 19.098,
                        "count": 0
                      },
                      {
                        "bin_start": 19.098,
                        "bin_end": 20.145,
                        "count": 0
                      },
                      {
                        "bin_start": 20.145,
                        "bin_end": 21.192,
                        "count": 0
                      },
                      {
                        "bin_start": 21.192,
                        "bin_end": 22.239,
                        "count": 0
                      },
                      {
                        "bin_start": 22.239,
                        "bin_end": 23.286,
                        "count": 1
                      },
                      {
                        "bin_start": 23.286,
                        "bin_end": 24.333,
                        "count": 1
                      },
                      {
                        "bin_start": 24.333,
                        "bin_end": 25.38,
                        "count": 2
                      }
                    ]
                  }
                },
                {
                  "name": "texture_worst",
                  "dtype": "float64",
                  "stats": {
                    "unique_count": 5,
                    "nan_count": 0,
                    "min": "16.67",
                    "max": "26.5",
                    "histogram": [
                      {
                        "bin_start": 16.67,
                        "bin_end": 17.653000000000002,
                        "count": 2
                      },
                      {
                        "bin_start": 17.653000000000002,
                        "bin_end": 18.636000000000003,
                        "count": 0
                      },
                      {
                        "bin_start": 18.636000000000003,
                        "bin_end": 19.619,
                        "count": 0
                      },
                      {
                        "bin_start": 19.619,
                        "bin_end": 20.602,
                        "count": 0
                      },
                      {
                        "bin_start": 20.602,
                        "bin_end": 21.585,
                        "count": 0
                      },
                      {
                        "bin_start": 21.585,
                        "bin_end": 22.568,
                        "count": 0
                      },
                      {
                        "bin_start": 22.568,
                        "bin_end": 23.551000000000002,
                        "count": 1
                      },
                      {
                        "bin_start": 23.551000000000002,
                        "bin_end": 24.534,
                        "count": 0
                      },
                      {
                        "bin_start": 24.534,
                        "bin_end": 25.517000000000003,
                        "count": 0
                      },
                      {
                        "bin_start": 25.517000000000003,
                        "bin_end": 26.5,
                        "count": 2
                      }
                    ]
                  }
                },
                {
                  "name": "perimeter_worst",
                  "dtype": "float64",
                  "stats": {
                    "unique_count": 5,
                    "nan_count": 0,
                    "min": "98.87",
                    "max": "184.6",
                    "histogram": [
                      {
                        "bin_start": 98.87,
                        "bin_end": 107.443,
                        "count": 1
                      },
                      {
                        "bin_start": 107.443,
                        "bin_end": 116.016,
                        "count": 0
                      },
                      {
                        "bin_start": 116.016,
                        "bin_end": 124.589,
                        "count": 0
                      },
                      {
                        "bin_start": 124.589,
                        "bin_end": 133.162,
                        "count": 0
                      },
                      {
                        "bin_start": 133.162,
                        "bin_end": 141.735,
                        "count": 0
                      },
                      {
                        "bin_start": 141.735,
                        "bin_end": 150.308,
                        "count": 0
                      },
                      {
                        "bin_start": 150.308,
                        "bin_end": 158.881,
                        "count": 3
                      },
                      {
                        "bin_start": 158.881,
                        "bin_end": 167.454,
                        "count": 0
                      },
                      {
                        "bin_start": 167.454,
                        "bin_end": 176.027,
                        "count": 0
                      },
                      {
                        "bin_start": 176.027,
                        "bin_end": 184.6,
                        "count": 1
                      }
                    ]
                  }
                },
                {
                  "name": "area_worst",
                  "dtype": "float64",
                  "stats": {
                    "unique_count": 5,
                    "nan_count": 0,
                    "min": "567.7",
                    "max": "2019.0",
                    "histogram": [
                      {
                        "bin_start": 567.7,
                        "bin_end": 712.83,
                        "count": 1
                      },
                      {
                        "bin_start": 712.83,
                        "bin_end": 857.96,
                        "count": 0
                      },
                      {
                        "bin_start": 857.96,
                        "bin_end": 1003.09,
                        "count": 0
                      },
                      {
                        "bin_start": 1003.09,
                        "bin_end": 1148.22,
                        "count": 0
                      },
                      {
                        "bin_start": 1148.22,
                        "bin_end": 1293.35,
                        "count": 0
                      },
                      {
                        "bin_start": 1293.35,
                        "bin_end": 1438.48,
                        "count": 0
                      },
                      {
                        "bin_start": 1438.48,
                        "bin_end": 1583.6100000000001,
                        "count": 1
                      },
                      {
                        "bin_start": 1583.6100000000001,
                        "bin_end": 1728.74,
                        "count": 1
                      },
                      {
                        "bin_start": 1728.74,
                        "bin_end": 1873.8700000000001,
                        "count": 0
                      },
                      {
                        "bin_start": 1873.8700000000001,
                        "bin_end": 2019,
                        "count": 2
                      }
                    ]
                  }
                },
                {
                  "name": "smoothness_worst",
                  "dtype": "float64",
                  "stats": {
                    "unique_count": 5,
                    "nan_count": 0,
                    "min": "0.1238",
                    "max": "0.2098",
                    "histogram": [
                      {
                        "bin_start": 0.1238,
                        "bin_end": 0.1324,
                        "count": 1
                      },
                      {
                        "bin_start": 0.1324,
                        "bin_end": 0.141,
                        "count": 1
                      },
                      {
                        "bin_start": 0.141,
                        "bin_end": 0.14959999999999998,
                        "count": 1
                      },
                      {
                        "bin_start": 0.14959999999999998,
                        "bin_end": 0.1582,
                        "count": 0
                      },
                      {
                        "bin_start": 0.1582,
                        "bin_end": 0.1668,
                        "count": 1
                      },
                      {
                        "bin_start": 0.1668,
                        "bin_end": 0.1754,
                        "count": 0
                      },
                      {
                        "bin_start": 0.1754,
                        "bin_end": 0.184,
                        "count": 0
                      },
                      {
                        "bin_start": 0.184,
                        "bin_end": 0.1926,
                        "count": 0
                      },
                      {
                        "bin_start": 0.1926,
                        "bin_end": 0.2012,
                        "count": 0
                      },
                      {
                        "bin_start": 0.2012,
                        "bin_end": 0.2098,
                        "count": 1
                      }
                    ]
                  }
                },
                {
                  "name": "compactness_worst",
                  "dtype": "float64",
                  "stats": {
                    "unique_count": 5,
                    "nan_count": 0,
                    "min": "0.1866",
                    "max": "0.8663",
                    "histogram": [
                      {
                        "bin_start": 0.1866,
                        "bin_end": 0.25456999999999996,
                        "count": 2
                      },
                      {
                        "bin_start": 0.25456999999999996,
                        "bin_end": 0.32254,
                        "count": 0
                      },
                      {
                        "bin_start": 0.32254,
                        "bin_end": 0.39051,
                        "count": 0
                      },
                      {
                        "bin_start": 0.39051,
                        "bin_end": 0.45848,
                        "count": 1
                      },
                      {
                        "bin_start": 0.45848,
                        "bin_end": 0.52645,
                        "count": 0
                      },
                      {
                        "bin_start": 0.52645,
                        "bin_end": 0.59442,
                        "count": 0
                      },
                      {
                        "bin_start": 0.59442,
                        "bin_end": 0.66239,
                        "count": 0
                      },
                      {
                        "bin_start": 0.66239,
                        "bin_end": 0.73036,
                        "count": 1
                      },
                      {
                        "bin_start": 0.73036,
                        "bin_end": 0.79833,
                        "count": 0
                      },
                      {
                        "bin_start": 0.79833,
                        "bin_end": 0.8663,
                        "count": 1
                      }
                    ]
                  }
                },
                {
                  "name": "concavity_worst",
                  "dtype": "float64",
                  "stats": {
                    "unique_count": 5,
                    "nan_count": 0,
                    "min": "0.2416",
                    "max": "0.7119",
                    "histogram": [
                      {
                        "bin_start": 0.2416,
                        "bin_end": 0.28863,
                        "count": 1
                      },
                      {
                        "bin_start": 0.28863,
                        "bin_end": 0.33566,
                        "count": 0
                      },
                      {
                        "bin_start": 0.33566,
                        "bin_end": 0.38269,
                        "count": 0
                      },
                      {
                        "bin_start": 0.38269,
                        "bin_end": 0.42972,
                        "count": 1
                      },
                      {
                        "bin_start": 0.42972,
                        "bin_end": 0.47675,
                        "count": 1
                      },
                      {
                        "bin_start": 0.47675,
                        "bin_end": 0.52378,
                        "count": 0
                      },
                      {
                        "bin_start": 0.52378,
                        "bin_end": 0.5708099999999999,
                        "count": 0
                      },
                      {
                        "bin_start": 0.5708099999999999,
                        "bin_end": 0.61784,
                        "count": 0
                      },
                      {
                        "bin_start": 0.61784,
                        "bin_end": 0.66487,
                        "count": 0
                      },
                      {
                        "bin_start": 0.66487,
                        "bin_end": 0.7119,
                        "count": 2
                      }
                    ]
                  }
                },
                {
                  "name": "concave points_worst",
                  "dtype": "float64",
                  "stats": {
                    "unique_count": 5,
                    "nan_count": 0,
                    "min": "0.1625",
                    "max": "0.2654",
                    "histogram": [
                      {
                        "bin_start": 0.1625,
                        "bin_end": 0.17279,
                        "count": 1
                      },
                      {
                        "bin_start": 0.17279,
                        "bin_end": 0.18308000000000002,
                        "count": 0
                      },
                      {
                        "bin_start": 0.18308000000000002,
                        "bin_end": 0.19337000000000001,
                        "count": 1
                      },
                      {
                        "bin_start": 0.19337000000000001,
                        "bin_end": 0.20366,
                        "count": 0
                      },
                      {
                        "bin_start": 0.20366,
                        "bin_end": 0.21395000000000003,
                        "count": 0
                      },
                      {
                        "bin_start": 0.21395000000000003,
                        "bin_end": 0.22424000000000002,
                        "count": 0
                      },
                      {
                        "bin_start": 0.22424000000000002,
                        "bin_end": 0.23453000000000002,
                        "count": 0
                      },
                      {
                        "bin_start": 0.23453000000000002,
                        "bin_end": 0.24482000000000004,
                        "count": 1
                      },
                      {
                        "bin_start": 0.24482000000000004,
                        "bin_end": 0.25511000000000006,
                        "count": 0
                      },
                      {
                        "bin_start": 0.25511000000000006,
                        "bin_end": 0.2654,
                        "count": 2
                      }
                    ]
                  }
                },
                {
                  "name": "symmetry_worst",
                  "dtype": "float64",
                  "stats": {
                    "unique_count": 5,
                    "nan_count": 0,
                    "min": "0.2364",
                    "max": "0.6638",
                    "histogram": [
                      {
                        "bin_start": 0.2364,
                        "bin_end": 0.27914,
                        "count": 2
                      },
                      {
                        "bin_start": 0.27914,
                        "bin_end": 0.32188,
                        "count": 0
                      },
                      {
                        "bin_start": 0.32188,
                        "bin_end": 0.36461999999999994,
                        "count": 1
                      },
                      {
                        "bin_start": 0.36461999999999994,
                        "bin_end": 0.40735999999999994,
                        "count": 0
                      },
                      {
                        "bin_start": 0.40735999999999994,
                        "bin_end": 0.45009999999999994,
                        "count": 0
                      },
                      {
                        "bin_start": 0.45009999999999994,
                        "bin_end": 0.49283999999999994,
                        "count": 1
                      },
                      {
                        "bin_start": 0.49283999999999994,
                        "bin_end": 0.53558,
                        "count": 0
                      },
                      {
                        "bin_start": 0.53558,
                        "bin_end": 0.57832,
                        "count": 0
                      },
                      {
                        "bin_start": 0.57832,
                        "bin_end": 0.62106,
                        "count": 0
                      },
                      {
                        "bin_start": 0.62106,
                        "bin_end": 0.6638,
                        "count": 1
                      }
                    ]
                  }
                },
                {
                  "name": "fractal_dimension_worst",
                  "dtype": "float64",
                  "stats": {
                    "unique_count": 5,
                    "nan_count": 0,
                    "min": "0.07678",
                    "max": "0.173",
                    "histogram": [
                      {
                        "bin_start": 0.07678,
                        "bin_end": 0.086402,
                        "count": 1
                      },
                      {
                        "bin_start": 0.086402,
                        "bin_end": 0.096024,
                        "count": 2
                      },
                      {
                        "bin_start": 0.096024,
                        "bin_end": 0.10564599999999999,
                        "count": 0
                      },
                      {
                        "bin_start": 0.10564599999999999,
                        "bin_end": 0.115268,
                        "count": 0
                      },
                      {
                        "bin_start": 0.115268,
                        "bin_end": 0.12489,
                        "count": 1
                      },
                      {
                        "bin_start": 0.12489,
                        "bin_end": 0.134512,
                        "count": 0
                      },
                      {
                        "bin_start": 0.134512,
                        "bin_end": 0.14413399999999998,
                        "count": 0
                      },
                      {
                        "bin_start": 0.14413399999999998,
                        "bin_end": 0.153756,
                        "count": 0
                      },
                      {
                        "bin_start": 0.153756,
                        "bin_end": 0.16337799999999997,
                        "count": 0
                      },
                      {
                        "bin_start": 0.16337799999999997,
                        "bin_end": 0.173,
                        "count": 1
                      }
                    ]
                  }
                },
                {
                  "name": "_deepnote_index_column",
                  "dtype": "int64"
                }
              ],
              "rows_top": [
                {
                  "radius_mean": 17.99,
                  "texture_mean": 10.38,
                  "perimeter_mean": 122.8,
                  "area_mean": 1001,
                  "smoothness_mean": 0.1184,
                  "compactness_mean": 0.2776,
                  "concavity_mean": 0.3001,
                  "concave points_mean": 0.1471,
                  "symmetry_mean": 0.2419,
                  "fractal_dimension_mean": 0.07871,
                  "radius_se": 1.095,
                  "texture_se": 0.9053,
                  "perimeter_se": 8.589,
                  "area_se": 153.4,
                  "smoothness_se": 0.006399,
                  "compactness_se": 0.04904,
                  "concavity_se": 0.05373,
                  "concave points_se": 0.01587,
                  "symmetry_se": 0.03003,
                  "fractal_dimension_se": 0.006193,
                  "radius_worst": 25.38,
                  "texture_worst": 17.33,
                  "perimeter_worst": 184.6,
                  "area_worst": 2019,
                  "smoothness_worst": 0.1622,
                  "compactness_worst": 0.6656,
                  "concavity_worst": 0.7119,
                  "concave points_worst": 0.2654,
                  "symmetry_worst": 0.4601,
                  "fractal_dimension_worst": 0.1189,
                  "_deepnote_index_column": 0
                },
                {
                  "radius_mean": 20.57,
                  "texture_mean": 17.77,
                  "perimeter_mean": 132.9,
                  "area_mean": 1326,
                  "smoothness_mean": 0.08474,
                  "compactness_mean": 0.07864,
                  "concavity_mean": 0.0869,
                  "concave points_mean": 0.07017,
                  "symmetry_mean": 0.1812,
                  "fractal_dimension_mean": 0.05667,
                  "radius_se": 0.5435,
                  "texture_se": 0.7339,
                  "perimeter_se": 3.398,
                  "area_se": 74.08,
                  "smoothness_se": 0.005225,
                  "compactness_se": 0.01308,
                  "concavity_se": 0.0186,
                  "concave points_se": 0.0134,
                  "symmetry_se": 0.01389,
                  "fractal_dimension_se": 0.003532,
                  "radius_worst": 24.99,
                  "texture_worst": 23.41,
                  "perimeter_worst": 158.8,
                  "area_worst": 1956,
                  "smoothness_worst": 0.1238,
                  "compactness_worst": 0.1866,
                  "concavity_worst": 0.2416,
                  "concave points_worst": 0.186,
                  "symmetry_worst": 0.275,
                  "fractal_dimension_worst": 0.08902,
                  "_deepnote_index_column": 1
                },
                {
                  "radius_mean": 19.69,
                  "texture_mean": 21.25,
                  "perimeter_mean": 130,
                  "area_mean": 1203,
                  "smoothness_mean": 0.1096,
                  "compactness_mean": 0.1599,
                  "concavity_mean": 0.1974,
                  "concave points_mean": 0.1279,
                  "symmetry_mean": 0.2069,
                  "fractal_dimension_mean": 0.05999,
                  "radius_se": 0.7456,
                  "texture_se": 0.7869,
                  "perimeter_se": 4.585,
                  "area_se": 94.03,
                  "smoothness_se": 0.00615,
                  "compactness_se": 0.04006,
                  "concavity_se": 0.03832,
                  "concave points_se": 0.02058,
                  "symmetry_se": 0.0225,
                  "fractal_dimension_se": 0.004571,
                  "radius_worst": 23.57,
                  "texture_worst": 25.53,
                  "perimeter_worst": 152.5,
                  "area_worst": 1709,
                  "smoothness_worst": 0.1444,
                  "compactness_worst": 0.4245,
                  "concavity_worst": 0.4504,
                  "concave points_worst": 0.243,
                  "symmetry_worst": 0.3613,
                  "fractal_dimension_worst": 0.08758,
                  "_deepnote_index_column": 2
                },
                {
                  "radius_mean": 11.42,
                  "texture_mean": 20.38,
                  "perimeter_mean": 77.58,
                  "area_mean": 386.1,
                  "smoothness_mean": 0.1425,
                  "compactness_mean": 0.2839,
                  "concavity_mean": 0.2414,
                  "concave points_mean": 0.1052,
                  "symmetry_mean": 0.2597,
                  "fractal_dimension_mean": 0.09744,
                  "radius_se": 0.4956,
                  "texture_se": 1.156,
                  "perimeter_se": 3.445,
                  "area_se": 27.23,
                  "smoothness_se": 0.00911,
                  "compactness_se": 0.07458,
                  "concavity_se": 0.05661,
                  "concave points_se": 0.01867,
                  "symmetry_se": 0.05963,
                  "fractal_dimension_se": 0.009208,
                  "radius_worst": 14.91,
                  "texture_worst": 26.5,
                  "perimeter_worst": 98.87,
                  "area_worst": 567.7,
                  "smoothness_worst": 0.2098,
                  "compactness_worst": 0.8663,
                  "concavity_worst": 0.6869,
                  "concave points_worst": 0.2575,
                  "symmetry_worst": 0.6638,
                  "fractal_dimension_worst": 0.173,
                  "_deepnote_index_column": 3
                },
                {
                  "radius_mean": 20.29,
                  "texture_mean": 14.34,
                  "perimeter_mean": 135.1,
                  "area_mean": 1297,
                  "smoothness_mean": 0.1003,
                  "compactness_mean": 0.1328,
                  "concavity_mean": 0.198,
                  "concave points_mean": 0.1043,
                  "symmetry_mean": 0.1809,
                  "fractal_dimension_mean": 0.05883,
                  "radius_se": 0.7572,
                  "texture_se": 0.7813,
                  "perimeter_se": 5.438,
                  "area_se": 94.44,
                  "smoothness_se": 0.01149,
                  "compactness_se": 0.02461,
                  "concavity_se": 0.05688,
                  "concave points_se": 0.01885,
                  "symmetry_se": 0.01756,
                  "fractal_dimension_se": 0.005115,
                  "radius_worst": 22.54,
                  "texture_worst": 16.67,
                  "perimeter_worst": 152.2,
                  "area_worst": 1575,
                  "smoothness_worst": 0.1374,
                  "compactness_worst": 0.205,
                  "concavity_worst": 0.4,
                  "concave points_worst": 0.1625,
                  "symmetry_worst": 0.2364,
                  "fractal_dimension_worst": 0.07678,
                  "_deepnote_index_column": 4
                }
              ],
              "rows_bottom": null
            },
            "text/plain": "   radius_mean  texture_mean  perimeter_mean  area_mean  smoothness_mean  \\\n0        17.99         10.38          122.80     1001.0          0.11840   \n1        20.57         17.77          132.90     1326.0          0.08474   \n2        19.69         21.25          130.00     1203.0          0.10960   \n3        11.42         20.38           77.58      386.1          0.14250   \n4        20.29         14.34          135.10     1297.0          0.10030   \n\n   compactness_mean  concavity_mean  concave points_mean  symmetry_mean  \\\n0           0.27760          0.3001              0.14710         0.2419   \n1           0.07864          0.0869              0.07017         0.1812   \n2           0.15990          0.1974              0.12790         0.2069   \n3           0.28390          0.2414              0.10520         0.2597   \n4           0.13280          0.1980              0.10430         0.1809   \n\n   fractal_dimension_mean  ...  radius_worst  texture_worst  perimeter_worst  \\\n0                 0.07871  ...         25.38          17.33           184.60   \n1                 0.05667  ...         24.99          23.41           158.80   \n2                 0.05999  ...         23.57          25.53           152.50   \n3                 0.09744  ...         14.91          26.50            98.87   \n4                 0.05883  ...         22.54          16.67           152.20   \n\n   area_worst  smoothness_worst  compactness_worst  concavity_worst  \\\n0      2019.0            0.1622             0.6656           0.7119   \n1      1956.0            0.1238             0.1866           0.2416   \n2      1709.0            0.1444             0.4245           0.4504   \n3       567.7            0.2098             0.8663           0.6869   \n4      1575.0            0.1374             0.2050           0.4000   \n\n   concave points_worst  symmetry_worst  fractal_dimension_worst  \n0                0.2654          0.4601                  0.11890  \n1                0.1860          0.2750                  0.08902  \n2                0.2430          0.3613                  0.08758  \n3                0.2575          0.6638                  0.17300  \n4                0.1625          0.2364                  0.07678  \n\n[5 rows x 30 columns]",
            "text/html": "<div>\n<style scoped>\n    .dataframe tbody tr th:only-of-type {\n        vertical-align: middle;\n    }\n\n    .dataframe tbody tr th {\n        vertical-align: top;\n    }\n\n    .dataframe thead th {\n        text-align: right;\n    }\n</style>\n<table border=\"1\" class=\"dataframe\">\n  <thead>\n    <tr style=\"text-align: right;\">\n      <th></th>\n      <th>radius_mean</th>\n      <th>texture_mean</th>\n      <th>perimeter_mean</th>\n      <th>area_mean</th>\n      <th>smoothness_mean</th>\n      <th>compactness_mean</th>\n      <th>concavity_mean</th>\n      <th>concave points_mean</th>\n      <th>symmetry_mean</th>\n      <th>fractal_dimension_mean</th>\n      <th>...</th>\n      <th>radius_worst</th>\n      <th>texture_worst</th>\n      <th>perimeter_worst</th>\n      <th>area_worst</th>\n      <th>smoothness_worst</th>\n      <th>compactness_worst</th>\n      <th>concavity_worst</th>\n      <th>concave points_worst</th>\n      <th>symmetry_worst</th>\n      <th>fractal_dimension_worst</th>\n    </tr>\n  </thead>\n  <tbody>\n    <tr>\n      <th>0</th>\n      <td>17.99</td>\n      <td>10.38</td>\n      <td>122.80</td>\n      <td>1001.0</td>\n      <td>0.11840</td>\n      <td>0.27760</td>\n      <td>0.3001</td>\n      <td>0.14710</td>\n      <td>0.2419</td>\n      <td>0.07871</td>\n      <td>...</td>\n      <td>25.38</td>\n      <td>17.33</td>\n      <td>184.60</td>\n      <td>2019.0</td>\n      <td>0.1622</td>\n      <td>0.6656</td>\n      <td>0.7119</td>\n      <td>0.2654</td>\n      <td>0.4601</td>\n      <td>0.11890</td>\n    </tr>\n    <tr>\n      <th>1</th>\n      <td>20.57</td>\n      <td>17.77</td>\n      <td>132.90</td>\n      <td>1326.0</td>\n      <td>0.08474</td>\n      <td>0.07864</td>\n      <td>0.0869</td>\n      <td>0.07017</td>\n      <td>0.1812</td>\n      <td>0.05667</td>\n      <td>...</td>\n      <td>24.99</td>\n      <td>23.41</td>\n      <td>158.80</td>\n      <td>1956.0</td>\n      <td>0.1238</td>\n      <td>0.1866</td>\n      <td>0.2416</td>\n      <td>0.1860</td>\n      <td>0.2750</td>\n      <td>0.08902</td>\n    </tr>\n    <tr>\n      <th>2</th>\n      <td>19.69</td>\n      <td>21.25</td>\n      <td>130.00</td>\n      <td>1203.0</td>\n      <td>0.10960</td>\n      <td>0.15990</td>\n      <td>0.1974</td>\n      <td>0.12790</td>\n      <td>0.2069</td>\n      <td>0.05999</td>\n      <td>...</td>\n      <td>23.57</td>\n      <td>25.53</td>\n      <td>152.50</td>\n      <td>1709.0</td>\n      <td>0.1444</td>\n      <td>0.4245</td>\n      <td>0.4504</td>\n      <td>0.2430</td>\n      <td>0.3613</td>\n      <td>0.08758</td>\n    </tr>\n    <tr>\n      <th>3</th>\n      <td>11.42</td>\n      <td>20.38</td>\n      <td>77.58</td>\n      <td>386.1</td>\n      <td>0.14250</td>\n      <td>0.28390</td>\n      <td>0.2414</td>\n      <td>0.10520</td>\n      <td>0.2597</td>\n      <td>0.09744</td>\n      <td>...</td>\n      <td>14.91</td>\n      <td>26.50</td>\n      <td>98.87</td>\n      <td>567.7</td>\n      <td>0.2098</td>\n      <td>0.8663</td>\n      <td>0.6869</td>\n      <td>0.2575</td>\n      <td>0.6638</td>\n      <td>0.17300</td>\n    </tr>\n    <tr>\n      <th>4</th>\n      <td>20.29</td>\n      <td>14.34</td>\n      <td>135.10</td>\n      <td>1297.0</td>\n      <td>0.10030</td>\n      <td>0.13280</td>\n      <td>0.1980</td>\n      <td>0.10430</td>\n      <td>0.1809</td>\n      <td>0.05883</td>\n      <td>...</td>\n      <td>22.54</td>\n      <td>16.67</td>\n      <td>152.20</td>\n      <td>1575.0</td>\n      <td>0.1374</td>\n      <td>0.2050</td>\n      <td>0.4000</td>\n      <td>0.1625</td>\n      <td>0.2364</td>\n      <td>0.07678</td>\n    </tr>\n  </tbody>\n</table>\n<p>5 rows × 30 columns</p>\n</div>"
          },
          "metadata": {}
        }
      ]
    },
    {
      "cell_type": "markdown",
      "source": [
        "## Preparando o conjunto de dados"
      ],
      "metadata": {
        "tags": [],
        "cell_id": "00033-edee7752-d520-46da-b67a-4643deb4e073",
        "deepnote_cell_type": "markdown"
      }
    },
    {
      "cell_type": "markdown",
      "source": [
        "Separando em conjunto de treinamento e conjunto de teste"
      ],
      "metadata": {
        "tags": [],
        "cell_id": "00034-50b921c0-5bbe-42dc-b161-b83d62b1db7a",
        "deepnote_cell_type": "markdown"
      }
    },
    {
      "cell_type": "code",
      "metadata": {
        "tags": [],
        "cell_id": "00031-650b94b1-ae64-47ec-885c-c1bc82d285e3",
        "deepnote_to_be_reexecuted": false,
        "source_hash": "58abba77",
        "execution_millis": 8,
        "execution_start": 1618862386344,
        "deepnote_cell_type": "code"
      },
      "source": [
        "XII_training_raw, XII_test_raw = splitDataset(XII, 0.9)"
      ],
      "execution_count": null,
      "outputs": []
    },
    {
      "cell_type": "markdown",
      "source": [
        "Normalizando os dados"
      ],
      "metadata": {
        "tags": [],
        "cell_id": "00036-1da8bdb8-185a-4832-bd41-8ad1c3d22f28",
        "deepnote_cell_type": "markdown"
      }
    },
    {
      "cell_type": "code",
      "metadata": {
        "tags": [],
        "cell_id": "00032-84f4312e-cdf4-44c5-8b13-67a9d1b9fed7",
        "deepnote_to_be_reexecuted": false,
        "source_hash": "b35e9e80",
        "execution_millis": 18,
        "execution_start": 1618862386989,
        "deepnote_cell_type": "code"
      },
      "source": [
        "# XII_training_norm = meanNormalization(XII_training_raw)\n",
        "# XII_test_norm = meanNormalization(XII_test_raw)\n",
        "\n",
        "from sklearn.preprocessing import StandardScaler\n",
        "scaler = StandardScaler()\n",
        "# Fit on training set only.\n",
        "scaler.fit(XII_training_raw)\n",
        "# Apply transform to both the training set and the test set.\n",
        "XII_training_norm = scaler.transform(XII_training_raw)\n",
        "XII_test_norm = scaler.transform(XII_test_raw)"
      ],
      "execution_count": null,
      "outputs": []
    },
    {
      "cell_type": "markdown",
      "source": [
        "Agora podemos verificar que temos média perto de zero e desvio padrão igual a 1"
      ],
      "metadata": {
        "tags": [],
        "cell_id": "00038-c82c9708-6ab7-4e9b-9fd9-5509fbd02f48",
        "deepnote_cell_type": "markdown"
      }
    },
    {
      "cell_type": "code",
      "metadata": {
        "tags": [],
        "cell_id": "00035-e42c138d-dad5-4547-9288-1b1b9f65e938",
        "deepnote_to_be_reexecuted": false,
        "source_hash": "56e7746",
        "execution_millis": 15,
        "execution_start": 1618862388698,
        "deepnote_cell_type": "code"
      },
      "source": [
        "np.mean(XII_training_norm),np.std(XII_training_norm)"
      ],
      "execution_count": null,
      "outputs": [
        {
          "output_type": "execute_result",
          "execution_count": 21,
          "data": {
            "text/plain": "(-1.2692393432563638e-17, 1.0)"
          },
          "metadata": {}
        }
      ]
    },
    {
      "cell_type": "markdown",
      "source": [
        "### PCA\n",
        "\n",
        "Utilizamos a biblioteca do scikit learning para redução de dimensionalidade"
      ],
      "metadata": {
        "tags": [],
        "cell_id": "00040-d8d0b85f-f735-4885-b9da-efb709ed1d5c",
        "deepnote_cell_type": "markdown"
      }
    },
    {
      "cell_type": "code",
      "metadata": {
        "tags": [],
        "cell_id": "00035-aad51abc-4041-4f13-b217-39a239d0dc65",
        "deepnote_to_be_reexecuted": false,
        "source_hash": "576f8a99",
        "execution_millis": 144,
        "execution_start": 1618862389547,
        "deepnote_cell_type": "code"
      },
      "source": [
        "from sklearn.decomposition import PCA\n",
        "\n",
        "# pedimos ao PCA que encontre um subconjunto com variancia maior que 99%\n",
        "pca = PCA(n_components = 0.99)\n",
        "\n",
        "pca.fit(XII_training_norm)\n",
        "\n",
        "XII_training = pca.transform(XII_training_norm)\n",
        "XII_test = pca.transform(XII_test_norm)\n",
        "print('número de componentes')\n",
        "print(XII_training.shape[1])"
      ],
      "execution_count": null,
      "outputs": [
        {
          "name": "stdout",
          "text": "número de componentes\n17\n",
          "output_type": "stream"
        }
      ]
    },
    {
      "cell_type": "markdown",
      "source": [
        "Podemos visualizar a variancia pelo número de componentes"
      ],
      "metadata": {
        "tags": [],
        "cell_id": "00043-26c1915c-4b03-44a7-845d-b4c6e897172d",
        "deepnote_cell_type": "markdown"
      }
    },
    {
      "cell_type": "code",
      "metadata": {
        "tags": [],
        "cell_id": "00037-bdb9cb28-5524-4f98-8150-67d2f80fad66",
        "deepnote_to_be_reexecuted": false,
        "source_hash": "9a75dd59",
        "execution_millis": 241,
        "execution_start": 1618862390985,
        "deepnote_cell_type": "code"
      },
      "source": [
        "plt.plot(np.cumsum(pca.explained_variance_ratio_))\n",
        "plt.xlabel('number of components')\n",
        "plt.ylabel('cumulative explained variance')"
      ],
      "execution_count": null,
      "outputs": [
        {
          "output_type": "execute_result",
          "execution_count": 23,
          "data": {
            "text/plain": "Text(0, 0.5, 'cumulative explained variance')"
          },
          "metadata": {}
        },
        {
          "data": {
            "text/plain": "<Figure size 432x288 with 1 Axes>",
            "image/png": "[encoded data removed]"
          },
          "metadata": {
            "needs_background": "light"
          },
          "output_type": "display_data"
        }
      ]
    },
    {
      "cell_type": "markdown",
      "source": [
        "Realizamos uma implementação própria do PCA para entendimento do método, que pode ser vista abaixo, mas optamos por utilizar nas análises apenas a solução fornecida pela biblioteca.\n"
      ],
      "metadata": {
        "tags": [],
        "cell_id": "00045-a0a3534d-e92c-4406-9421-361ebf2faf3b",
        "deepnote_cell_type": "markdown"
      }
    },
    {
      "cell_type": "code",
      "metadata": {
        "tags": [],
        "cell_id": "00035-04f7d79c-f824-4bd8-a512-ea6721b985b8",
        "deepnote_to_be_reexecuted": false,
        "source_hash": "97acecb6",
        "execution_millis": 6,
        "execution_start": 1618862392400,
        "deepnote_cell_type": "code"
      },
      "source": [
        "# XII_training = XII_training_norm.copy()\n",
        "# XII_test = XII_test.copy()\n",
        "\n",
        "# m = XII_training.shape[1]\n",
        "# for i in range(m):\n",
        "#     XII_training[:,i] = featureScaling(XII_training_norm[:,i])\n",
        "#     XII_test[:,i] = featureScaling(XII_test[:,i])\n",
        "\n",
        "\n",
        "# m = XII_training.shape[1]\n",
        "# sigma  = (1/m) * XII_training.T.dot(XII_training)\n",
        "# U,S,V = np.linalg.svd(sigma, full_matrices=True)\n",
        "\n",
        "# k = S.shape[0]\n",
        "# for i in range(k):\n",
        "#     calc = np.sum(S[:i]) / np.sum(S)\n",
        "#     print(i, calc)\n",
        "#     if 1 - calc <= 0.01:\n",
        "#         best_k = i\n",
        "#         break\n",
        "\n",
        "# Ureduce = U[:, :best_k]\n",
        "# z = XII_training.dot(Ureduce)\n",
        "# z.shape"
      ],
      "execution_count": null,
      "outputs": []
    },
    {
      "cell_type": "markdown",
      "source": [
        "### Análise do cotovelo\n",
        "\n",
        "Tendo o conjunto um total de 17 dimensões, fica um pouco complicado uma determinação visual para um bom valor de k.\n",
        "\n",
        "Fazemos a análise do cotovelo para encontrar um bom valor de k."
      ],
      "metadata": {
        "tags": [],
        "cell_id": "00047-f54a85e2-f828-4bb2-8266-1cbb79f88345",
        "deepnote_cell_type": "markdown"
      }
    },
    {
      "cell_type": "code",
      "metadata": {
        "tags": [],
        "cell_id": "00041-6ebab21d-cfe0-4501-a9b7-4b2cfe649ab6",
        "deepnote_to_be_reexecuted": false,
        "source_hash": "e9e5c310",
        "execution_millis": 1715,
        "execution_start": 1618862393657,
        "deepnote_cell_type": "code"
      },
      "source": [
        "sse = elbowAnalysis(XII_training)\n",
        "\n",
        "plt.figure()\n",
        "plt.plot(sse[:,0], sse[:,1], 'bo')\n",
        "plt.plot(sse[:,0], sse[:,1], 'b--')\n",
        "plt.grid(True)\n",
        "plt.xlabel(\"número de clusters\")\n",
        "plt.ylabel(\"soma de erros quadrados\")\n",
        "plt.show()"
      ],
      "execution_count": null,
      "outputs": [
        {
          "data": {
            "text/plain": "<Figure size 432x288 with 1 Axes>",
            "image/png": "[encoded data removed]"
          },
          "metadata": {
            "needs_background": "light"
          },
          "output_type": "display_data"
        }
      ]
    },
    {
      "cell_type": "markdown",
      "source": [
        "Vemos que 6 é um bom valor de k."
      ],
      "metadata": {
        "tags": [],
        "cell_id": "00049-85fa4289-1d74-480b-ace7-58eccfdb21e3",
        "deepnote_cell_type": "markdown"
      }
    },
    {
      "cell_type": "markdown",
      "source": [
        "### Análise da Silhueta\n",
        "\n",
        "Podemos confirmar o valor encontrado anteriormente fazendo a análise de coesão dos clusters."
      ],
      "metadata": {
        "tags": [],
        "cell_id": "00054-8eeb8071-0aa2-432b-96e2-22f0ce197782",
        "deepnote_cell_type": "markdown"
      }
    },
    {
      "cell_type": "code",
      "metadata": {
        "tags": [],
        "cell_id": "00054-f5267faa-9e76-4405-8274-925c679b6bcd",
        "deepnote_to_be_reexecuted": false,
        "source_hash": "b2cccafa",
        "execution_millis": 6247,
        "execution_start": 1618862396468,
        "deepnote_cell_type": "code"
      },
      "source": [
        "X_silhouette = XII_training.copy()\n",
        "\n",
        "range_n_clusters = [2, 3, 4, 5, 6, 7, 8]\n",
        "silhoutteAnalysis(X_silhouette, range_n_clusters, tolerance=0.0005, n_epoch=250)"
      ],
      "execution_count": null,
      "outputs": [
        {
          "name": "stdout",
          "text": "For n_clusters = 2 The average silhouette_score is : 0.13648698650288682\n",
          "output_type": "stream"
        },
        {
          "data": {
            "text/plain": "<Figure size 432x288 with 1 Axes>",
            "image/png": "[encoded data removed]"
          },
          "metadata": {
            "needs_background": "light"
          },
          "output_type": "display_data"
        },
        {
          "name": "stdout",
          "text": "For n_clusters = 3 The average silhouette_score is : 0.07595969651731212\n",
          "output_type": "stream"
        },
        {
          "data": {
            "text/plain": "<Figure size 432x288 with 1 Axes>",
            "image/png": "[encoded data removed]"
          },
          "metadata": {
            "needs_background": "light"
          },
          "output_type": "display_data"
        },
        {
          "name": "stdout",
          "text": "For n_clusters = 4 The average silhouette_score is : 0.08891019037426509\n",
          "output_type": "stream"
        },
        {
          "data": {
            "text/plain": "<Figure size 432x288 with 1 Axes>",
            "image/png": "[encoded data removed]"
          },
          "metadata": {
            "needs_background": "light"
          },
          "output_type": "display_data"
        },
        {
          "name": "stdout",
          "text": "For n_clusters = 5 The average silhouette_score is : 0.08217397582352018\n",
          "output_type": "stream"
        },
        {
          "data": {
            "text/plain": "<Figure size 432x288 with 1 Axes>",
            "image/png": "[encoded data removed]"
          },
          "metadata": {
            "needs_background": "light"
          },
          "output_type": "display_data"
        },
        {
          "name": "stdout",
          "text": "For n_clusters = 6 The average silhouette_score is : 0.14458199084048073\n",
          "output_type": "stream"
        },
        {
          "data": {
            "text/plain": "<Figure size 432x288 with 1 Axes>",
            "image/png": "[encoded data removed]"
          },
          "metadata": {
            "needs_background": "light"
          },
          "output_type": "display_data"
        },
        {
          "name": "stdout",
          "text": "For n_clusters = 7 The average silhouette_score is : 0.13732841558598133\n",
          "output_type": "stream"
        },
        {
          "data": {
            "text/plain": "<Figure size 432x288 with 1 Axes>",
            "image/png": "[encoded data removed]"
          },
          "metadata": {
            "needs_background": "light"
          },
          "output_type": "display_data"
        },
        {
          "name": "stdout",
          "text": "For n_clusters = 8 The average silhouette_score is : 0.11330953153751448\n",
          "output_type": "stream"
        },
        {
          "data": {
            "text/plain": "<Figure size 432x288 with 1 Axes>",
            "image/png": "[encoded data removed]"
          },
          "metadata": {
            "needs_background": "light"
          },
          "output_type": "display_data"
        }
      ]
    },
    {
      "cell_type": "markdown",
      "source": [
        "O modelo não converge tão bem quanto o problema da parte I, o melhor resultado que tivemos foi com 6 clusters que teve um score de 0.1445."
      ],
      "metadata": {
        "tags": [],
        "cell_id": "00056-eee6d4ae-f026-4080-9ced-92dc7e4b857f",
        "deepnote_cell_type": "markdown"
      }
    },
    {
      "cell_type": "markdown",
      "source": [
        "### Treinamento do modelo"
      ],
      "metadata": {
        "tags": [],
        "cell_id": "00056-34962dfe-7578-47ad-b997-d06f1c1e87a1",
        "deepnote_cell_type": "markdown"
      }
    },
    {
      "cell_type": "code",
      "metadata": {
        "tags": [],
        "cell_id": "00042-45cecc5e-6ccc-4623-8032-cb0a9484d88a",
        "deepnote_to_be_reexecuted": false,
        "source_hash": "c02c45f5",
        "execution_millis": 451,
        "execution_start": 1618862405796,
        "deepnote_cell_type": "code"
      },
      "source": [
        "k = 6\n",
        "n_epoch = 100\n",
        "centroids_array, ind = k_means(XII_training, k, tolerance=0.001, n_epoch=n_epoch)\n",
        "centroids_array = np.array(centroids_array)"
      ],
      "execution_count": null,
      "outputs": []
    },
    {
      "cell_type": "markdown",
      "source": [
        "### Validando o modelo"
      ],
      "metadata": {
        "tags": [],
        "cell_id": "00059-3494225a-be10-40db-9ad6-2c1c4670ef56",
        "deepnote_cell_type": "markdown"
      }
    },
    {
      "cell_type": "code",
      "metadata": {
        "tags": [],
        "cell_id": "00052-8a7f6113-2ddb-4dd1-a9c9-13a25be73a8a",
        "deepnote_to_be_reexecuted": false,
        "source_hash": "f13f93b8",
        "execution_millis": 18,
        "execution_start": 1618862406583,
        "deepnote_cell_type": "code"
      },
      "source": [
        "index = len(centroids_array) -1\n",
        "centroids = centroids_array[index,:,:]\n",
        "k = 3\n",
        "cluster_labels, buckets_test = assign_cluster(XII_test, k, centroids)"
      ],
      "execution_count": null,
      "outputs": []
    },
    {
      "cell_type": "code",
      "metadata": {
        "tags": [],
        "cell_id": "00061-e1b7b7d6-085c-4539-b388-4a96cad580b4",
        "deepnote_to_be_reexecuted": false,
        "source_hash": "c50e97ae",
        "execution_millis": 28,
        "execution_start": 1618862407304,
        "deepnote_cell_type": "code"
      },
      "source": [
        "df = pd.DataFrame(np.insert(XII_test, 2, cluster_labels, axis=1))\n",
        "\n",
        "d = 0\n",
        "\n",
        "for i in range(k):\n",
        "    X_linha = df.loc[df[2] == i].drop(columns=[2]).values\n",
        "\n",
        "    d += np.sum(np.sum((X_linha - centroids[i])**2, axis=1)**0.5)\n",
        "\n",
        "print('Soma de erros quadrados:')\n",
        "print(d)"
      ],
      "execution_count": null,
      "outputs": [
        {
          "name": "stdout",
          "text": "Soma de erros quadrados:\n239.80724111198418\n",
          "output_type": "stream"
        }
      ]
    },
    {
      "cell_type": "markdown",
      "source": [
        "## Contribução Individual\n",
        "William: Responsável pela implementação do algoritmo do k-means, pela análise da silhueta e pelo PCA.\n",
        "\n",
        "Ismael: Responsável pela implementação do algoritmo da clusterização hierárquica e pelo método do cotovelo."
      ],
      "metadata": {
        "tags": [],
        "cell_id": "00057-3a073c47-c2fd-4363-9181-a38cd7555995",
        "deepnote_cell_type": "markdown"
      }
    },
    {
      "cell_type": "markdown",
      "source": [
        "<a style='text-decoration:none;line-height:16px;display:flex;color:#5B5B62;padding:10px;justify-content:end;' href='https://deepnote.com?utm_source=created-in-deepnote-cell&projectId=c868fb48-964e-4083-a3f6-d09a9b8e14ec' target=\"_blank\">\n",
        "<img alt='Created in deepnote.com' style='display:inline;max-height:16px;margin:0px;margin-right:7.5px;' src='data:image/svg+xml;base64,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' > </img>\n",
        "Created in <span style='font-weight:600;margin-left:4px;'>Deepnote</span></a>"
      ],
      "metadata": {
        "tags": [],
        "created_in_deepnote_cell": true,
        "deepnote_cell_type": "markdown"
      }
    }
  ],
  "nbformat": 4,
  "nbformat_minor": 0,
  "metadata": {
    "colab": {
      "name": "P1-MC886-kmeans.ipynb",
      "provenance": [],
      "collapsed_sections": []
    },
    "kernelspec": {
      "name": "python3",
      "display_name": "Python 3"
    },
    "language_info": {
      "name": "python"
    },
    "deepnote_notebook_id": "2d554818-aa10-4c7e-9a28-09af9d1e8dfa",
    "deepnote": {},
    "deepnote_execution_queue": []
  }
}