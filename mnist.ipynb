{
 "cells": [
  {
   "cell_type": "markdown",
   "metadata": {
    "cell_id": "00003-8fccdba8-2d4c-4b33-8e09-aba9433238b9",
    "deepnote_cell_type": "code",
    "deepnote_to_be_reexecuted": false,
    "execution_millis": 2,
    "execution_start": 1621901233893,
    "source_hash": "ef7ad9ef",
    "tags": []
   },
   "source": [
    "# MNIST Classificator\n",
    "\n",
    "* Ismael Pereira\n",
    "* Willian Hayashida"
   ]
  },
  {
   "cell_type": "code",
   "execution_count": 28,
   "metadata": {
    "cell_id": "00004-c376bf7b-0263-4e48-a336-b5b7a1635d11",
    "deepnote_cell_type": "code",
    "deepnote_to_be_reexecuted": false,
    "execution_millis": 73,
    "execution_start": 1621903097787,
    "source_hash": "f97522b6",
    "tags": []
   },
   "outputs": [
    {
     "name": "stdout",
     "output_type": "stream",
     "text": [
      "(1797, 64) (1797,)\n"
     ]
    }
   ],
   "source": [
    "from sklearn.datasets import load_digits\n",
    "from sklearn.model_selection import train_test_split\n",
    "import matplotlib.pyplot as plt\n",
    "import numpy as np\n",
    "\n",
    "digits = load_digits()\n",
    "\n",
    "test_size = int((0.1)* float(digits.target.shape[0]))\n",
    "\n",
    "print(digits.data.shape, digits.target.shape)"
   ]
  },
  {
   "cell_type": "code",
   "execution_count": 10,
   "metadata": {
    "cell_id": "00005-9cb5e4a3-e041-4663-ac30-2e919deb1f4b",
    "deepnote_cell_type": "code",
    "deepnote_to_be_reexecuted": false,
    "execution_millis": 8,
    "execution_start": 1621903098306,
    "source_hash": "c49a3e33",
    "tags": []
   },
   "outputs": [
    {
     "data": {
      "text/plain": [
       "((1797, 64), (1797,))"
      ]
     },
     "execution_count": 10,
     "metadata": {},
     "output_type": "execute_result"
    }
   ],
   "source": [
    "digits.data.shape, digits.target.shape"
   ]
  },
  {
   "cell_type": "markdown",
   "metadata": {
    "cell_id": "00005-66470896-23a9-4d32-96cf-5cdc6b428fab",
    "deepnote_cell_type": "markdown",
    "tags": []
   },
   "source": [
    "## Splitting Dataset"
   ]
  },
  {
   "cell_type": "code",
   "execution_count": 11,
   "metadata": {
    "cell_id": "00005-90ebd72a-377e-46fb-a951-47568fa8300d",
    "deepnote_cell_type": "code",
    "deepnote_to_be_reexecuted": false,
    "execution_millis": 1,
    "execution_start": 1621903098922,
    "source_hash": "8bbc1d2f",
    "tags": []
   },
   "outputs": [],
   "source": [
    "train_data, test_data, train_labels, test_labels = train_test_split(digits.data, digits.target, test_size=0.10, random_state=42)"
   ]
  },
  {
   "cell_type": "code",
   "execution_count": 12,
   "metadata": {
    "cell_id": "00008-90bd8014-63c8-403b-93fb-99b658a4007f",
    "deepnote_cell_type": "code",
    "deepnote_to_be_reexecuted": false,
    "execution_millis": 7,
    "execution_start": 1621903099688,
    "source_hash": "3596f773",
    "tags": []
   },
   "outputs": [
    {
     "data": {
      "text/plain": [
       "(1617, 64)"
      ]
     },
     "execution_count": 12,
     "metadata": {},
     "output_type": "execute_result"
    }
   ],
   "source": [
    "train_data.shape"
   ]
  },
  {
   "cell_type": "code",
   "execution_count": 13,
   "metadata": {
    "cell_id": "00007-80a94590-e30d-43bd-865a-b78a5ce852ac",
    "deepnote_cell_type": "code",
    "deepnote_to_be_reexecuted": false,
    "execution_millis": 4,
    "execution_start": 1621903100528,
    "source_hash": "fa78b5fc",
    "tags": []
   },
   "outputs": [],
   "source": [
    "class_names = [0, 1, 2, 3, 4, 5, 6, 7, 8, 9]"
   ]
  },
  {
   "cell_type": "markdown",
   "metadata": {
    "cell_id": "00009-bf592f3a-0cf2-4684-820f-42d8ad913c30",
    "deepnote_cell_type": "markdown",
    "tags": []
   },
   "source": [
    "## Exploring data"
   ]
  },
  {
   "cell_type": "code",
   "execution_count": 14,
   "metadata": {
    "cell_id": "00005-3483a9b3-caef-40df-832d-e3861572af2a",
    "deepnote_cell_type": "code",
    "deepnote_to_be_reexecuted": false,
    "execution_millis": 1101,
    "execution_start": 1621903142702,
    "source_hash": "b04c7c3a",
    "tags": []
   },
   "outputs": [
    {
     "data": {
      "image/png": "[encoded data removed]",
      "text/plain": [
       "<Figure size 720x720 with 15 Axes>"
      ]
     },
     "metadata": {},
     "output_type": "display_data"
    }
   ],
   "source": [
    "plt.figure(figsize=(10,10))\n",
    "for i in range(15):\n",
    "    plt.subplot(5,5,i+1)\n",
    "    plt.xticks([])\n",
    "    plt.yticks([])\n",
    "    plt.grid(False)\n",
    "    plt.xlabel(class_names[train_labels[i]])\n",
    "    plt.imshow(train_data.reshape(1617, 8, 8)[i], cmap=plt.cm.gray_r, interpolation='nearest')"
   ]
  },
  {
   "cell_type": "code",
   "execution_count": 15,
   "metadata": {
    "cell_id": "00011-0583606c-ccf4-4d05-a5a2-43fafffe86bf",
    "deepnote_cell_type": "code",
    "deepnote_to_be_reexecuted": false,
    "execution_millis": 3,
    "execution_start": 1621903163255,
    "source_hash": "e24de26",
    "tags": []
   },
   "outputs": [],
   "source": [
    "train_data = train_data / 16.0\n",
    "test_data = test_data / 16.0"
   ]
  },
  {
   "cell_type": "code",
   "execution_count": 16,
   "metadata": {
    "cell_id": "00013-11335b73-3606-4166-8e7c-07a548c9d333",
    "deepnote_cell_type": "code",
    "deepnote_to_be_reexecuted": false,
    "execution_millis": 10,
    "execution_start": 1621903551985,
    "source_hash": "e69bb6ce",
    "tags": []
   },
   "outputs": [
    {
     "data": {
      "text/plain": [
       "array([0.    , 0.    , 0.8125, 1.    , 1.    , 0.3125, 0.    , 0.    ,\n",
       "       0.    , 0.3125, 0.9375, 0.375 , 0.6875, 0.8125, 0.    , 0.    ,\n",
       "       0.    , 0.    , 0.125 , 0.125 , 0.8125, 0.5   , 0.    , 0.    ,\n",
       "       0.    , 0.    , 0.25  , 1.    , 0.9375, 0.125 , 0.    , 0.    ,\n",
       "       0.    , 0.    , 0.1875, 0.6875, 0.9375, 1.    , 0.3125, 0.    ,\n",
       "       0.    , 0.    , 0.    , 0.    , 0.125 , 0.9375, 0.6875, 0.    ,\n",
       "       0.    , 0.    , 0.1875, 0.25  , 0.5625, 1.    , 0.375 , 0.    ,\n",
       "       0.    , 0.    , 0.9375, 1.    , 1.    , 0.625 , 0.    , 0.    ])"
      ]
     },
     "execution_count": 16,
     "metadata": {},
     "output_type": "execute_result"
    }
   ],
   "source": [
    "train_data[0]"
   ]
  },
  {
   "cell_type": "markdown",
   "metadata": {
    "cell_id": "00013-7c47ce49-be0a-4e51-b2f0-5c3eaf1d6543",
    "deepnote_cell_type": "markdown",
    "tags": []
   },
   "source": [
    "## One-Hot Encoding the labels"
   ]
  },
  {
   "cell_type": "code",
   "execution_count": 17,
   "metadata": {
    "cell_id": "00012-1d74b430-3341-4848-9e45-15b3fd8349ec",
    "deepnote_cell_type": "code",
    "deepnote_to_be_reexecuted": false,
    "execution_millis": 3,
    "execution_start": 1621903168725,
    "source_hash": "cbb0e978",
    "tags": []
   },
   "outputs": [
    {
     "name": "stderr",
     "output_type": "stream",
     "text": [
      "C:\\Program Files\\Anaconda3\\lib\\site-packages\\sklearn\\preprocessing\\_encoders.py:415: FutureWarning: The handling of integer data will change in version 0.22. Currently, the categories are determined based on the range [0, max(values)], while in the future they will be determined based on the unique values.\n",
      "If you want the future behaviour and silence this warning, you can specify \"categories='auto'\".\n",
      "In case you used a LabelEncoder before this OneHotEncoder to convert the categories to integers, then you can now use the OneHotEncoder directly.\n",
      "  warnings.warn(msg, FutureWarning)\n",
      "C:\\Program Files\\Anaconda3\\lib\\site-packages\\sklearn\\preprocessing\\_encoders.py:415: FutureWarning: The handling of integer data will change in version 0.22. Currently, the categories are determined based on the range [0, max(values)], while in the future they will be determined based on the unique values.\n",
      "If you want the future behaviour and silence this warning, you can specify \"categories='auto'\".\n",
      "In case you used a LabelEncoder before this OneHotEncoder to convert the categories to integers, then you can now use the OneHotEncoder directly.\n",
      "  warnings.warn(msg, FutureWarning)\n"
     ]
    }
   ],
   "source": [
    "from sklearn.preprocessing import OneHotEncoder\n",
    "\n",
    "encoder = OneHotEncoder()\n",
    "train_labels_onehot = encoder.fit_transform(train_labels.reshape(-1, 1))\n",
    "train_labels_onehot = train_labels_onehot.toarray()\n",
    "\n",
    "encoder = OneHotEncoder()\n",
    "test_labels_onehot = encoder.fit_transform(test_labels.reshape(-1, 1))\n",
    "test_labels_onehot = test_labels_onehot.toarray()"
   ]
  },
  {
   "cell_type": "code",
   "execution_count": 18,
   "metadata": {
    "cell_id": "00013-d0e01cf0-de10-4be7-9cb5-91286e907239",
    "deepnote_cell_type": "code",
    "deepnote_to_be_reexecuted": false,
    "execution_millis": 9,
    "execution_start": 1621903170204,
    "source_hash": "d6418a2",
    "tags": []
   },
   "outputs": [
    {
     "data": {
      "text/plain": [
       "array([0., 0., 0., 0., 0., 0., 0., 0., 1., 0.])"
      ]
     },
     "execution_count": 18,
     "metadata": {},
     "output_type": "execute_result"
    }
   ],
   "source": [
    "train_labels_onehot[2]"
   ]
  },
  {
   "cell_type": "code",
   "execution_count": 20,
   "metadata": {
    "cell_id": "00015-91a214ba-9db6-424a-b2d1-876604f52e08",
    "deepnote_cell_type": "code",
    "deepnote_to_be_reexecuted": false,
    "execution_millis": 1,
    "execution_start": 1621903304734,
    "source_hash": "71804fef",
    "tags": []
   },
   "outputs": [],
   "source": [
    "X_train = train_data\n",
    "Y_train = train_labels\n",
    "\n",
    "X_test = test_data\n",
    "Y_test = test_labels"
   ]
  },
  {
   "cell_type": "markdown",
   "metadata": {
    "cell_id": "00016-be67614e-10e4-48a6-9169-68f4c38a2e96",
    "deepnote_cell_type": "markdown",
    "tags": []
   },
   "source": [
    "## Auxiliar Functions"
   ]
  },
  {
   "cell_type": "code",
   "execution_count": 21,
   "metadata": {
    "cell_id": "00018-4564312c-e97d-4eab-b24d-03f9e8d268ac",
    "deepnote_cell_type": "code",
    "deepnote_to_be_reexecuted": false,
    "execution_millis": 14,
    "execution_start": 1621903305351,
    "source_hash": "d004c119",
    "tags": []
   },
   "outputs": [],
   "source": [
    "from sklearn.metrics import confusion_matrix\n",
    "def plot_confusion_matrix(cm,\n",
    "                          target_names,\n",
    "                          title='Confusion matrix',\n",
    "                          cmap=None,\n",
    "                          normalize=True):\n",
    "    \"\"\"\n",
    "    given a sklearn confusion matrix (cm), make a nice plot\n",
    "\n",
    "    Arguments\n",
    "    ---------\n",
    "    cm:           confusion matrix from sklearn.metrics.confusion_matrix\n",
    "\n",
    "    target_names: given classification classes such as [0, 1, 2]\n",
    "                  the class names, for example: ['high', 'medium', 'low']\n",
    "\n",
    "    title:        the text to display at the top of the matrix\n",
    "\n",
    "    cmap:         the gradient of the values displayed from matplotlib.pyplot.cm\n",
    "                  see http://matplotlib.org/examples/color/colormaps_reference.html\n",
    "                  plt.get_cmap('jet') or plt.cm.Blues\n",
    "\n",
    "    normalize:    If False, plot the raw numbers\n",
    "                  If True, plot the proportions\n",
    "\n",
    "    Usage\n",
    "    -----\n",
    "    plot_confusion_matrix(cm           = cm,                  # confusion matrix created by\n",
    "                                                              # sklearn.metrics.confusion_matrix\n",
    "                          normalize    = True,                # show proportions\n",
    "                          target_names = y_labels_vals,       # list of names of the classes\n",
    "                          title        = best_estimator_name) # title of graph\n",
    "\n",
    "    Citiation\n",
    "    ---------\n",
    "    http://scikit-learn.org/stable/auto_examples/model_selection/plot_confusion_matrix.html\n",
    "\n",
    "    \"\"\"\n",
    "    import matplotlib.pyplot as plt\n",
    "    import numpy as np\n",
    "    import itertools\n",
    "\n",
    "    accuracy = np.trace(cm) / float(np.sum(cm))\n",
    "    misclass = 1 - accuracy\n",
    "\n",
    "    if cmap is None:\n",
    "        cmap = plt.get_cmap('Blues')\n",
    "\n",
    "    plt.figure(figsize=(8, 6))\n",
    "    plt.imshow(cm, interpolation='nearest', cmap=cmap)\n",
    "    plt.title(title)\n",
    "    plt.colorbar()\n",
    "\n",
    "    if target_names is not None:\n",
    "        tick_marks = np.arange(len(target_names))\n",
    "        plt.xticks(tick_marks, target_names, rotation=45)\n",
    "        plt.yticks(tick_marks, target_names)\n",
    "\n",
    "    if normalize:\n",
    "        cm = cm.astype('float') / cm.sum(axis=1)[:, np.newaxis]\n",
    "\n",
    "\n",
    "    thresh = cm.max() / 1.5 if normalize else cm.max() / 2\n",
    "    for i, j in itertools.product(range(cm.shape[0]), range(cm.shape[1])):\n",
    "        if normalize:\n",
    "            plt.text(j, i, \"{:0.4f}\".format(cm[i, j]),\n",
    "                     horizontalalignment=\"center\",\n",
    "                     color=\"white\" if cm[i, j] > thresh else \"black\")\n",
    "        else:\n",
    "            plt.text(j, i, \"{:,}\".format(cm[i, j]),\n",
    "                     horizontalalignment=\"center\",\n",
    "                     color=\"white\" if cm[i, j] > thresh else \"black\")\n",
    "\n",
    "\n",
    "    plt.tight_layout()\n",
    "    plt.ylabel('True label')\n",
    "    plt.xlabel('Predicted label\\naccuracy={:0.4f}; misclass={:0.4f}'.format(accuracy, misclass))\n",
    "    plt.show()\n",
    "    "
   ]
  },
  {
   "cell_type": "markdown",
   "metadata": {
    "cell_id": "00019-db711711-d463-43b0-8934-fa97d52f4a0f",
    "deepnote_cell_type": "markdown",
    "tags": []
   },
   "source": [
    "## Softmax and Cost"
   ]
  },
  {
   "cell_type": "code",
   "execution_count": 22,
   "metadata": {
    "cell_id": "00020-3b0cdbdd-d40a-47d4-8def-1613f9e4c7ec",
    "deepnote_cell_type": "code",
    "deepnote_to_be_reexecuted": false,
    "execution_millis": 2,
    "execution_start": 1621903307863,
    "source_hash": "9977b9de",
    "tags": []
   },
   "outputs": [],
   "source": [
    "def softmax(x):\n",
    "  \"\"\"\n",
    "  :param x: k, m\n",
    "  \"\"\"\n",
    "  exp_x = np.exp(x - np.max(x, axis=0, keepdims=True))\n",
    "  return exp_x / np.sum(exp_x, axis=0, keepdims=True)\n",
    "\n",
    "def compute_cost(A2, Y):\n",
    "    m = Y.shape[1]\n",
    "    logprobs = np.multiply(np.log(A2 + 1e-15), Y)\n",
    "    cost = - np.sum(logprobs) / m\n",
    "    cost = np.squeeze(cost)\n",
    "\n",
    "    return cost\n",
    "\n",
    "def delta_ReLU(x):\n",
    "  return (x > 0) * 1\n"
   ]
  },
  {
   "cell_type": "markdown",
   "metadata": {
    "cell_id": "00021-e5c8b0d1-45a3-4a2b-8767-bc40c0b81a18",
    "deepnote_cell_type": "markdown",
    "tags": []
   },
   "source": [
    "## Optimizer"
   ]
  },
  {
   "cell_type": "code",
   "execution_count": 23,
   "metadata": {
    "cell_id": "00022-d79d3660-ea9f-491e-86e3-696f89c3b22b",
    "deepnote_cell_type": "code",
    "deepnote_to_be_reexecuted": false,
    "execution_millis": 2,
    "execution_start": 1621903368771,
    "source_hash": "e4fd6a5d",
    "tags": []
   },
   "outputs": [],
   "source": [
    "def inicialize_momentum(W, b):\n",
    "  vd = {}\n",
    "  for i in range(1, len(W)+1):\n",
    "    vd['dw' + str(i)] = np.zeros(W[i].shape)\n",
    "    vd['db' + str(i)] = np.zeros(b[i].shape)\n",
    "  \n",
    "  return vd\n",
    "\n",
    "def momentum(vd, grads, beta=0.9):\n",
    "  # unpack\n",
    "  dW = grads['dW']\n",
    "  db = grads['db']\n",
    "  \n",
    "  for i in range(1, len(dW) + 1):\n",
    "    vd['dw' + str(i)] = beta * vd['dw' + str(i)] + (1 - beta) * dW[i]\n",
    "    vd['db' + str(i)] = beta * vd['db' + str(i)] + (1 - beta) * db[i]\n",
    "  \n",
    "  return vd\n",
    "\n",
    "def RMSprop(sd, grads, beta=0.9):\n",
    "  # unpack\n",
    "  dW = grads['dW']\n",
    "  db = grads['db']\n",
    "  \n",
    "  for i in range(1, len(dW) + 1):\n",
    "    sd['dw' + str(i)] = beta * sd['dw' + str(i)] + (1 - beta) * (dW[i]**2)\n",
    "    sd['db' + str(i)] = beta * sd['db' + str(i)] + (1 - beta) * (db[i]**2)\n",
    "  return sd\n",
    "\n",
    "def bias_correction(vd, t, beta):\n",
    "  cvd ={}\n",
    "  for i in range(1, len(vd)//2+1):\n",
    "    cvd['dw' + str(i)] = vd['dw' + str(i)] / (1. - beta**t + 1e-15)\n",
    "    cvd['db' + str(i)] = vd['db' + str(i)] / (1. - beta**t + 1e-15) \n",
    "    \n",
    "  return cvd"
   ]
  },
  {
   "cell_type": "markdown",
   "metadata": {
    "cell_id": "00023-9d0730a3-e6a4-49e4-ab5b-9b7ea1f9961e",
    "deepnote_cell_type": "markdown",
    "tags": []
   },
   "source": [
    "## Logistic Regression"
   ]
  },
  {
   "cell_type": "code",
   "execution_count": 24,
   "metadata": {
    "cell_id": "00023-0b57d3bd-19cc-4da1-b470-1fc3c0e70f64",
    "deepnote_cell_type": "code",
    "deepnote_to_be_reexecuted": false,
    "execution_millis": 0,
    "execution_start": 1621903369782,
    "source_hash": "40758e4b",
    "tags": []
   },
   "outputs": [],
   "source": [
    "from sklearn.utils import shuffle\n",
    "\n",
    "\n",
    "def LR_model(X, Y, W, b, n_epochs=50, beta=0.9, alpha=0.25, lambd=0.1):\n",
    "  \n",
    "  n = X.shape[0]\n",
    "  m = X.shape[1]\n",
    "  \n",
    "  vdW = np.zeros(W.shape)\n",
    "  vdb = np.zeros(b.shape)\n",
    "  \n",
    "  costs = []\n",
    "  \n",
    "  for epoch in range(n_epochs):     \n",
    "    J = 0\n",
    "    for i in range(100):\n",
    "      \n",
    "      xi = X[:, i*(m//100):(i+1)*(m//100)].reshape((n, m//100)) # n, 500\n",
    "      yi = Y[i*(m//100):(i+1)*(m//100)].reshape((1, m//100)) # 1, 500\n",
    "      # xi = X[:, i].reshape((n,1))\n",
    "      # yi = Y[i].reshape((1,1))\n",
    "      \n",
    "      zi = np.dot(W, xi) + b # 1, 500\n",
    "      ai = 1 / (1 + np.exp(-zi)) # 1, 500\n",
    "      \n",
    "      # J += -(yi * np.log(1e-15 + ai) + (1 - yi)*np.log(1e-15 + 1 - ai))\n",
    "      \n",
    "      # gradient\n",
    "      dzi = ai - yi # 1, 500\n",
    "      dW = (1.0 / m) * np.dot(dzi, xi.T) + (lambd / m) * W # 1, n\n",
    "      db = (1.0 / m) * np.sum(dzi, axis=1, keepdims=True)\n",
    "\n",
    "      # alpha = 1.0 / (100 + m * (epoch/10 + 1) + i)\n",
    "      if epoch > n_epochs * 0.8:\n",
    "        alpha = 0.01\n",
    "      elif epoch > n_epochs * 0.6:\n",
    "        alpha = 0.05\n",
    "      elif epoch > n_epochs * 0.5:\n",
    "        alpha = 0.1\n",
    "      \n",
    "      \n",
    "      W = W - alpha * dW\n",
    "      b = b - alpha * db\n",
    "      \n",
    "    #calculate the cost function\n",
    "    aux = np.sum(np.square(W))\n",
    "    reg_cost = aux * lambd / (2 * m)\n",
    "    \n",
    "    #calculate loss\n",
    "    cost = compute_cost(ai, yi) + reg_cost\n",
    "    costs.append(cost)\n",
    "    \n",
    "    if epoch % 20 == 0:      \n",
    "      print(\"Epoch %i:\\tloss: %f\" % (epoch, cost))\n",
    "#   print(W.shape, b.shape, cost.shape)\n",
    "  return W, b\n",
    "\n"
   ]
  },
  {
   "cell_type": "code",
   "execution_count": 25,
   "metadata": {
    "cell_id": "00025-dc67a386-871b-4b2a-8611-af4fa0457df9",
    "deepnote_cell_type": "code",
    "deepnote_to_be_reexecuted": false,
    "execution_millis": 4,
    "execution_start": 1621903370472,
    "source_hash": "376a2368",
    "tags": []
   },
   "outputs": [],
   "source": [
    "def predict_LR(X, W, b):\n",
    "  zi = np.dot(W, X) + b\n",
    "  \n",
    "  ai = 1 / (1 + np.exp(-zi))\n",
    "  \n",
    "  predict = np.argmax(ai, axis=0)\n",
    "  \n",
    "  return predict "
   ]
  },
  {
   "cell_type": "markdown",
   "metadata": {
    "cell_id": "00026-0f62935d-aff9-47e9-9b17-94a7de627667",
    "deepnote_cell_type": "markdown",
    "tags": []
   },
   "source": [
    "### Training model"
   ]
  },
  {
   "cell_type": "code",
   "execution_count": 29,
   "metadata": {
    "cell_id": "00027-775c8a4f-e618-4b32-a1b2-70be4a98a34b",
    "deepnote_cell_type": "code",
    "deepnote_to_be_reexecuted": false,
    "execution_millis": 1,
    "execution_start": 1621905983546,
    "source_hash": "c3f1b42f",
    "tags": []
   },
   "outputs": [],
   "source": [
    "folds = 2\n",
    "n_epochs = 180\n",
    "\n",
    "alpha = 0.25\n",
    "lambd = 0.1\n",
    "\n",
    "W = np.random.rand(10, train_data.shape[1]) * 0.0001\n",
    "# b = np.random.rand(10)\n",
    "# W = np.zeros(shape=(10, train_data.shape[1]))\n",
    "b = np.zeros(shape=(10, 1))\n",
    "\n",
    "mean_W = np.zeros((10, train_data.shape[1]))\n",
    "mean_b = b = np.zeros(shape=(10, 1))\n",
    "\n",
    "# cost = np.zeros((10, n_epochs))\n",
    "accuracy_LR = []\n",
    "best_accuracy = 0.0"
   ]
  },
  {
   "cell_type": "code",
   "execution_count": 30,
   "metadata": {
    "cell_id": "00028-80bcdb89-ed01-41c0-8542-28f93dc79e57",
    "deepnote_cell_type": "code",
    "deepnote_to_be_reexecuted": false,
    "execution_millis": 16927,
    "execution_start": 1621905984158,
    "source_hash": "f5a38bb",
    "tags": []
   },
   "outputs": [
    {
     "name": "stdout",
     "output_type": "stream",
     "text": [
      "fold: 0 \n",
      "** class 0 **\n",
      "Epoch 0:\tloss: 0.235976\n",
      "Epoch 20:\tloss: 0.266693\n",
      "Epoch 40:\tloss: 0.177191\n",
      "Epoch 60:\tloss: 0.131530\n",
      "Epoch 80:\tloss: 0.105300\n",
      "Epoch 100:\tloss: 0.093056\n",
      "Epoch 120:\tloss: 0.089128\n",
      "Epoch 140:\tloss: 0.086553\n",
      "Epoch 160:\tloss: 0.085656\n",
      "** class 1 **\n",
      "Epoch 0:\tloss: 0.000002\n",
      "Epoch 20:\tloss: 0.000025\n",
      "Epoch 40:\tloss: 0.000051\n",
      "Epoch 60:\tloss: 0.000081\n",
      "Epoch 80:\tloss: 0.000110\n",
      "Epoch 100:\tloss: 0.000130\n",
      "Epoch 120:\tloss: 0.000137\n",
      "Epoch 140:\tloss: 0.000143\n",
      "Epoch 160:\tloss: 0.000145\n",
      "** class 2 **\n",
      "Epoch 0:\tloss: 0.081678\n",
      "Epoch 20:\tloss: 0.088586\n",
      "Epoch 40:\tloss: 0.051932\n",
      "Epoch 60:\tloss: 0.033999\n",
      "Epoch 80:\tloss: 0.024478\n",
      "Epoch 100:\tloss: 0.020350\n",
      "Epoch 120:\tloss: 0.019065\n",
      "Epoch 140:\tloss: 0.018237\n",
      "Epoch 160:\tloss: 0.017959\n",
      "** class 3 **\n",
      "Epoch 0:\tloss: 0.161701\n",
      "Epoch 20:\tloss: 0.206172\n",
      "Epoch 40:\tloss: 0.149240\n",
      "Epoch 60:\tloss: 0.116605\n",
      "Epoch 80:\tloss: 0.096249\n",
      "Epoch 100:\tloss: 0.086054\n",
      "Epoch 120:\tloss: 0.082625\n",
      "Epoch 140:\tloss: 0.080388\n",
      "Epoch 160:\tloss: 0.079608\n",
      "** class 4 **\n",
      "Epoch 0:\tloss: 0.167305\n",
      "Epoch 20:\tloss: 0.222413\n",
      "Epoch 40:\tloss: 0.158499\n",
      "Epoch 60:\tloss: 0.122409\n",
      "Epoch 80:\tloss: 0.100038\n",
      "Epoch 100:\tloss: 0.088956\n",
      "Epoch 120:\tloss: 0.085281\n",
      "Epoch 140:\tloss: 0.082862\n",
      "Epoch 160:\tloss: 0.082013\n",
      "** class 5 **\n",
      "Epoch 0:\tloss: 0.000002\n",
      "Epoch 20:\tloss: 0.000026\n",
      "Epoch 40:\tloss: 0.000051\n",
      "Epoch 60:\tloss: 0.000081\n",
      "Epoch 80:\tloss: 0.000113\n",
      "Epoch 100:\tloss: 0.000134\n",
      "Epoch 120:\tloss: 0.000143\n",
      "Epoch 140:\tloss: 0.000149\n",
      "Epoch 160:\tloss: 0.000151\n",
      "** class 6 **\n",
      "Epoch 0:\tloss: 0.164907\n",
      "Epoch 20:\tloss: 0.196991\n",
      "Epoch 40:\tloss: 0.134931\n",
      "Epoch 60:\tloss: 0.102441\n",
      "Epoch 80:\tloss: 0.083157\n",
      "Epoch 100:\tloss: 0.073685\n",
      "Epoch 120:\tloss: 0.070504\n",
      "Epoch 140:\tloss: 0.068449\n",
      "Epoch 160:\tloss: 0.067740\n",
      "** class 7 **\n",
      "Epoch 0:\tloss: 0.000002\n",
      "Epoch 20:\tloss: 0.000031\n",
      "Epoch 40:\tloss: 0.000064\n",
      "Epoch 60:\tloss: 0.000100\n",
      "Epoch 80:\tloss: 0.000133\n",
      "Epoch 100:\tloss: 0.000155\n",
      "Epoch 120:\tloss: 0.000163\n",
      "Epoch 140:\tloss: 0.000169\n",
      "Epoch 160:\tloss: 0.000171\n",
      "** class 8 **\n",
      "Epoch 0:\tloss: 0.248609\n",
      "Epoch 20:\tloss: 0.419507\n",
      "Epoch 40:\tloss: 0.377523\n",
      "Epoch 60:\tloss: 0.344346\n",
      "Epoch 80:\tloss: 0.318277\n",
      "Epoch 100:\tloss: 0.303498\n",
      "Epoch 120:\tloss: 0.298360\n",
      "Epoch 140:\tloss: 0.294855\n",
      "Epoch 160:\tloss: 0.293554\n",
      "** class 9 **\n",
      "Epoch 0:\tloss: 0.087928\n",
      "Epoch 20:\tloss: 0.139083\n",
      "Epoch 40:\tloss: 0.113359\n",
      "Epoch 60:\tloss: 0.096879\n",
      "Epoch 80:\tloss: 0.085672\n",
      "Epoch 100:\tloss: 0.079719\n",
      "Epoch 120:\tloss: 0.077647\n",
      "Epoch 140:\tloss: 0.076270\n",
      "Epoch 160:\tloss: 0.075795\n",
      "fold: 1 \n",
      "** class 0 **\n",
      "Epoch 0:\tloss: 0.084336\n",
      "Epoch 20:\tloss: 0.072644\n",
      "Epoch 40:\tloss: 0.065347\n",
      "Epoch 60:\tloss: 0.059886\n",
      "Epoch 80:\tloss: 0.055658\n",
      "Epoch 100:\tloss: 0.053261\n",
      "Epoch 120:\tloss: 0.052428\n",
      "Epoch 140:\tloss: 0.051860\n",
      "Epoch 160:\tloss: 0.051656\n",
      "** class 1 **\n",
      "Epoch 0:\tloss: 0.000147\n",
      "Epoch 20:\tloss: 0.000170\n",
      "Epoch 40:\tloss: 0.000192\n",
      "Epoch 60:\tloss: 0.000211\n",
      "Epoch 80:\tloss: 0.000229\n",
      "Epoch 100:\tloss: 0.000240\n",
      "Epoch 120:\tloss: 0.000244\n",
      "Epoch 140:\tloss: 0.000247\n",
      "Epoch 160:\tloss: 0.000248\n",
      "** class 2 **\n",
      "Epoch 0:\tloss: 0.017528\n",
      "Epoch 20:\tloss: 0.014107\n",
      "Epoch 40:\tloss: 0.012006\n",
      "Epoch 60:\tloss: 0.010517\n",
      "Epoch 80:\tloss: 0.009420\n",
      "Epoch 100:\tloss: 0.008823\n",
      "Epoch 120:\tloss: 0.008614\n",
      "Epoch 140:\tloss: 0.008472\n",
      "Epoch 160:\tloss: 0.008424\n",
      "** class 3 **\n",
      "Epoch 0:\tloss: 0.078640\n",
      "Epoch 20:\tloss: 0.068845\n",
      "Epoch 40:\tloss: 0.061775\n",
      "Epoch 60:\tloss: 0.056371\n",
      "Epoch 80:\tloss: 0.052128\n",
      "Epoch 100:\tloss: 0.049601\n",
      "Epoch 120:\tloss: 0.048668\n",
      "Epoch 140:\tloss: 0.048046\n",
      "Epoch 160:\tloss: 0.047825\n",
      "** class 4 **\n",
      "Epoch 0:\tloss: 0.080452\n",
      "Epoch 20:\tloss: 0.067639\n",
      "Epoch 40:\tloss: 0.060324\n",
      "Epoch 60:\tloss: 0.054802\n",
      "Epoch 80:\tloss: 0.050485\n",
      "Epoch 100:\tloss: 0.047955\n",
      "Epoch 120:\tloss: 0.047037\n",
      "Epoch 140:\tloss: 0.046422\n",
      "Epoch 160:\tloss: 0.046201\n",
      "** class 5 **\n",
      "Epoch 0:\tloss: 0.000153\n",
      "Epoch 20:\tloss: 0.000182\n",
      "Epoch 40:\tloss: 0.000209\n",
      "Epoch 60:\tloss: 0.000233\n",
      "Epoch 80:\tloss: 0.000254\n",
      "Epoch 100:\tloss: 0.000268\n",
      "Epoch 120:\tloss: 0.000274\n",
      "Epoch 140:\tloss: 0.000277\n",
      "Epoch 160:\tloss: 0.000279\n",
      "** class 6 **\n",
      "Epoch 0:\tloss: 0.067268\n",
      "Epoch 20:\tloss: 0.060823\n",
      "Epoch 40:\tloss: 0.054862\n",
      "Epoch 60:\tloss: 0.050254\n",
      "Epoch 80:\tloss: 0.046625\n",
      "Epoch 100:\tloss: 0.044476\n",
      "Epoch 120:\tloss: 0.043682\n",
      "Epoch 140:\tloss: 0.043150\n",
      "Epoch 160:\tloss: 0.042962\n",
      "** class 7 **\n",
      "Epoch 0:\tloss: 0.000173\n",
      "Epoch 20:\tloss: 0.000198\n",
      "Epoch 40:\tloss: 0.000220\n",
      "Epoch 60:\tloss: 0.000239\n",
      "Epoch 80:\tloss: 0.000256\n",
      "Epoch 100:\tloss: 0.000268\n",
      "Epoch 120:\tloss: 0.000272\n",
      "Epoch 140:\tloss: 0.000275\n",
      "Epoch 160:\tloss: 0.000276\n",
      "** class 8 **\n",
      "Epoch 0:\tloss: 0.290231\n",
      "Epoch 20:\tloss: 0.267647\n",
      "Epoch 40:\tloss: 0.255354\n",
      "Epoch 60:\tloss: 0.245411\n",
      "Epoch 80:\tloss: 0.237246\n",
      "Epoch 100:\tloss: 0.232223\n",
      "Epoch 120:\tloss: 0.230417\n",
      "Epoch 140:\tloss: 0.229217\n",
      "Epoch 160:\tloss: 0.228737\n",
      "** class 9 **\n",
      "Epoch 0:\tloss: 0.075746\n",
      "Epoch 20:\tloss: 0.073313\n",
      "Epoch 40:\tloss: 0.069782\n",
      "Epoch 60:\tloss: 0.066834\n",
      "Epoch 80:\tloss: 0.064351\n",
      "Epoch 100:\tloss: 0.062858\n",
      "Epoch 120:\tloss: 0.062312\n",
      "Epoch 140:\tloss: 0.061930\n",
      "Epoch 160:\tloss: 0.061797\n",
      "3.9240458011627197\n"
     ]
    }
   ],
   "source": [
    "import time\n",
    "\n",
    "m = digits.data.shape[0]\n",
    "\n",
    "for index_split in range(folds):\n",
    "  print(\"fold: %d \" % index_split)\n",
    "\n",
    "  u = index_split*200\n",
    "  v = (index_split+1)*200\n",
    "  \n",
    "  X_train = np.append(train_data[0:u], train_data[v:], axis=0)\n",
    "  X_validation = train_data[u:v]\n",
    "  Y_validation = train_labels[u:v]\n",
    "  \n",
    "  # train model\n",
    "  starter_time = time.time()\n",
    "  for i in range(10):\n",
    "    print(\"** class %i **\" % i)\n",
    "    Y_train = np.append(train_labels_onehot[0:u,i], train_labels_onehot[v:,i], axis=0)\n",
    "    W[i], b[i] = LR_model(X_train.T, \n",
    "                          Y_train.T, \n",
    "                          W[i].reshape(1, 64), \n",
    "                          b[i].reshape(1), \n",
    "                          n_epochs=n_epochs, \n",
    "                          alpha=alpha, \n",
    "                          lambd=0.1\n",
    "                         )\n",
    "  time_LR = time.time() - starter_time\n",
    "  \n",
    "  # validate model\n",
    "  Y_predicted = predict_LR(X_validation.T, W, b)  \n",
    "  \n",
    "  n_correct = sum(Y_validation == Y_predicted)\n",
    "  accuracy_LR.append(float(n_correct) / len(Y_predicted))\n",
    "  # update best model\n",
    "  if accuracy_LR[index_split] > best_accuracy:\n",
    "    best_accuracy = accuracy_LR[index_split]\n",
    "    LR_W_best = W.copy()\n",
    "    LR_b_best = b.copy()\n",
    "  \n",
    "  mean_W = mean_W + W\n",
    "  mean_b = mean_b + b\n",
    "\n",
    "mean_W = mean_W / folds\n",
    "mean_b = mean_b / folds\n",
    "print(time_LR)"
   ]
  },
  {
   "cell_type": "code",
   "execution_count": 31,
   "metadata": {
    "cell_id": "00031-4c799196-7f7e-4b69-90bb-7e57432a036e",
    "deepnote_cell_type": "code",
    "deepnote_to_be_reexecuted": false,
    "execution_millis": 4,
    "execution_start": 1621906006010,
    "source_hash": "2fcb1685",
    "tags": []
   },
   "outputs": [],
   "source": [
    "# LR_W_best\n",
    "LR_W_mean = mean_W.copy()\n",
    "LR_W_last = W.copy()\n",
    "\n",
    "LR_b_mean = mean_b.copy()\n",
    "LR_b_last = b.copy()"
   ]
  },
  {
   "cell_type": "code",
   "execution_count": 33,
   "metadata": {
    "cell_id": "00032-6346c524-f966-440e-b120-72cc075dbdfa",
    "deepnote_cell_type": "code",
    "deepnote_to_be_reexecuted": false,
    "execution_millis": 4,
    "execution_start": 1621906011847,
    "source_hash": "baa7aa17",
    "tags": []
   },
   "outputs": [],
   "source": [
    "X_train = train_data #60000, 784\n",
    "\n",
    "Y_train = train_labels # 60000, \n",
    "# LR_W_best, LR_W_mean & LR_W_last\n",
    "Y_predicted = predict_LR(X_validation.T, LR_W_best, LR_b_best.reshape(10,1)) # 60000,\n",
    "n_correct = sum(Y_validation == Y_predicted)\n",
    "\n",
    "cm =confusion_matrix(Y_validation, Y_predicted)\n"
   ]
  },
  {
   "cell_type": "code",
   "execution_count": 34,
   "metadata": {
    "cell_id": "00034-83894b3a-2ca4-47b1-a14c-bb56c542a2da",
    "deepnote_cell_type": "code",
    "deepnote_to_be_reexecuted": false,
    "execution_millis": 822,
    "execution_start": 1621906012446,
    "source_hash": "14ddb2b0",
    "tags": []
   },
   "outputs": [
    {
     "data": {
      "image/png": "[encoded data removed]",
      "text/plain": [
       "<Figure size 576x432 with 2 Axes>"
      ]
     },
     "metadata": {
      "needs_background": "light"
     },
     "output_type": "display_data"
    }
   ],
   "source": [
    "plot_confusion_matrix(cm           =  cm,\n",
    "                      normalize    = False,\n",
    "                      target_names = class_names,\n",
    "                      title        = \"Confusion Matrix\")"
   ]
  },
  {
   "cell_type": "markdown",
   "metadata": {
    "cell_id": "00034-926b45a7-0c1d-46cd-8dfa-12b5bbbef2de",
    "deepnote_cell_type": "markdown",
    "tags": []
   },
   "source": [
    "## Softmax Regression"
   ]
  },
  {
   "cell_type": "code",
   "execution_count": 35,
   "metadata": {
    "cell_id": "00035-9eed4bae-0dc5-4c06-9ee2-facda9bb38f0",
    "deepnote_cell_type": "code",
    "deepnote_to_be_reexecuted": false,
    "execution_millis": 0,
    "execution_start": 1621904475886,
    "source_hash": "9bef6593",
    "tags": []
   },
   "outputs": [],
   "source": [
    "def predict_MLR(X, W, b):\n",
    "  \"\"\"\n",
    "  :param X: data           (no features, no examples)\n",
    "  :param W: weights        (no classes, no features)\n",
    "  :param b: bias           (no classes, 1)\n",
    "  :return:\n",
    "  \"\"\"\n",
    "  # Y: k, m\n",
    "  y_pred = np.argmax(softmax(np.dot(W, X) + b), axis=0)\n",
    "  return y_pred\n",
    "\n",
    "\n",
    "def propagate(X, Y, W, b, lambd):\n",
    "  \"\"\"\n",
    "  :param X: data           (no featurs, no examples)\n",
    "  :param Y: one hot labels (no classes, no examples)\n",
    "  :param W: weights        (no classes, no features)\n",
    "  :param b: bias           (no classes, 1)\n",
    "  :return:\n",
    "  \"\"\"\n",
    "\n",
    "  # X: n, m\n",
    "  # Y: k, m\n",
    "  m = X.shape[1]  # getting no of rows\n",
    "\n",
    "  # Forward Prop\n",
    "  A = softmax(np.dot(W, X) + b) # shape: k, m\n",
    "\n",
    "  cost = (-1.0 / m) * np.sum(Y * np.log(1e-15 + A))\n",
    " \n",
    "  # backwar prop\n",
    "  dZ = A - Y # shape: k, m\n",
    "  dw = (1.0 / m) * np.dot(dZ, X.T) + (lambd / m) * W # k, n\n",
    "  db = (1.0 / m) * np.sum(dZ, axis=1, keepdims=True)\n",
    "  cost = np.squeeze(cost)\n",
    "  grads = {\"dw\": dw,\n",
    "           \"db\": db}\n",
    "  return grads, cost, np.argmax(A, axis=0)\n",
    "\n",
    "\n",
    "def MR_model(X, Y, W, b, n_epochs, alpha, lambd=0.1, beta=0.9):\n",
    "    \"\"\"\n",
    "    :param X: data           (no features, no examples)\n",
    "    :param Y: one hot labels (no classes, no examples)\n",
    "    :param W: weights        (no classes, no features)\n",
    "    :param b: bias           (no classes, 1)\n",
    "    :param n_epochs: number of iterations for gradient\n",
    "    :param alpha:\n",
    "    :return:\n",
    "    \"\"\"\n",
    "    \n",
    "    n = X.shape[0]  # getting no of rows\n",
    "    m = X.shape[1]  # getting no of rows\n",
    "\n",
    "    vdw = np.zeros(W.shape)\n",
    "    vdb = np.zeros(b.shape)\n",
    "    \n",
    "    costs = []\n",
    "    for epoch in range(n_epochs):\n",
    "      for i in range(100):\n",
    "        \n",
    "        xi = X[:, i*(m//100):(i+1)*(m//100)].reshape((n, m//100)) # n, 500\n",
    "        yi = Y[:, i*(m//100):(i+1)*(m//100)].reshape((10, m//100)) # 1, 500\n",
    "      \n",
    "      \n",
    "        grads, cost, A = propagate(xi, yi, W, b, lambd)\n",
    "        dw = grads[\"dw\"]\n",
    "        db = grads[\"db\"]\n",
    "        \n",
    "        vdw = beta * vdw + (1 - beta) * dw\n",
    "        vdb = beta * vdb + (1 - beta) * db\n",
    "        \n",
    "        W = W - alpha * vdw\n",
    "        b = b - alpha * vdb\n",
    "        \n",
    "        alpha = alpha * 0.99\n",
    "\n",
    "        cost += np.sum(np.square(W)) * lambd / (2 * m)\n",
    "        costs.append(cost)\n",
    "\n",
    "      if epoch % 50 == 0:\n",
    "        n_correct = np.sum(np.argmax(yi, axis=0) == A)\n",
    "        accuracy = float(n_correct) / len(A)  \n",
    "        \n",
    "        \n",
    "        print(\"Epoch %i:\\tloss: %f\\tacc: %f\" % (epoch, cost, accuracy))\n",
    "\n",
    "    return W, b, costs"
   ]
  },
  {
   "cell_type": "code",
   "execution_count": 42,
   "metadata": {
    "cell_id": "00036-64cf0527-6778-44a1-87fc-7554d7cbfe0c",
    "deepnote_cell_type": "code",
    "deepnote_to_be_reexecuted": false,
    "execution_millis": 2,
    "execution_start": 1621904543252,
    "source_hash": "c0fa5618",
    "tags": []
   },
   "outputs": [],
   "source": [
    "n_epochs = 200\n",
    "folds = 3\n",
    "\n",
    "# W = np.random.randn(10, train_data.shape[1]) * 0.00001\n",
    "# b = np.random.randn(1 ,10)\n",
    "W = np.zeros(shape=(10, train_data.shape[1]))\n",
    "b = np.zeros(shape=(10, 1))\n",
    "\n",
    "MLR_W_mean = np.zeros((10, train_data.shape[1]))\n",
    "MLR_b_mean = np.zeros(shape=(10, 1))\n",
    "\n",
    "MLR_costs = []\n",
    "\n",
    "MLR_accuracy = []\n",
    "best_accuracy = 0.0\n"
   ]
  },
  {
   "cell_type": "code",
   "execution_count": 43,
   "metadata": {
    "cell_id": "00037-bf835590-b15c-498a-8b32-eefd44bd95a9",
    "deepnote_cell_type": "code",
    "deepnote_to_be_reexecuted": false,
    "execution_millis": 3826,
    "execution_start": 1621904545372,
    "source_hash": "2a12ab76",
    "tags": []
   },
   "outputs": [
    {
     "name": "stdout",
     "output_type": "stream",
     "text": [
      "fold: 0 \n",
      "Epoch 0:\tloss: 0.774401\tacc: 1.000000\n",
      "Epoch 50:\tloss: 0.551627\tacc: 1.000000\n",
      "Epoch 100:\tloss: 0.551627\tacc: 1.000000\n",
      "Epoch 150:\tloss: 0.551627\tacc: 1.000000\n",
      "fold: 1 \n",
      "Epoch 0:\tloss: 0.397105\tacc: 1.000000\n",
      "Epoch 50:\tloss: 0.349901\tacc: 1.000000\n",
      "Epoch 100:\tloss: 0.349901\tacc: 1.000000\n",
      "Epoch 150:\tloss: 0.349901\tacc: 1.000000\n",
      "fold: 2 \n",
      "Epoch 0:\tloss: 0.310396\tacc: 1.000000\n",
      "Epoch 50:\tloss: 0.297769\tacc: 1.000000\n",
      "Epoch 100:\tloss: 0.297769\tacc: 1.000000\n",
      "Epoch 150:\tloss: 0.297769\tacc: 1.000000\n",
      "1.322065830230713\n"
     ]
    }
   ],
   "source": [
    "import time\n",
    "\n",
    "for index_split in range(folds):\n",
    "  print(\"fold: %d \" % index_split)\n",
    "  u = index_split * 200\n",
    "  v = (index_split + 1) * 200\n",
    "  # Separate set\n",
    "  X_train = np.append(train_data[0:u], train_data[v:], axis=0)  # shape: m, n\n",
    "  Y_train = np.append(train_labels_onehot[0:u], train_labels_onehot[v:], axis=0)  # shape: m, k\n",
    "  X_validation = train_data[u:v]\n",
    "  Y_validation = train_labels[u:v]\n",
    "  \n",
    "  # train model\n",
    "  starter_time = time.time()\n",
    "  W, b, cost = MR_model(X_train.T, Y_train.T, W, b, n_epochs, alpha=0.25, lambd=0.1, beta=0.88)\n",
    "  time_MLR = time.time() - starter_time\n",
    "  \n",
    "  # validate model\n",
    "  Y_predicted = predict_MLR(X_validation.T, W, b)\n",
    "  n_correct = sum(Y_validation == Y_predicted)\n",
    "  \n",
    "  MLR_costs.append(cost)\n",
    "  MLR_accuracy.append(float(n_correct) / len(Y_predicted))\n",
    "  \n",
    "  if MLR_accuracy[index_split] > best_accuracy:\n",
    "    best_accuracy = MLR_accuracy[index_split]\n",
    "    MLR_W_best = W.copy()\n",
    "    MLR_b_best = b.copy()\n",
    "\n",
    "  MLR_W_mean = MLR_W_mean + W\n",
    "  MLR_b_mean = MLR_b_mean + b\n",
    "  \n",
    "MLR_W_mean = MLR_W_mean / folds\n",
    "MLR_b_mean = MLR_b_mean / folds\n",
    "  \n",
    "    \n",
    "print(time_MLR)"
   ]
  },
  {
   "cell_type": "code",
   "execution_count": 44,
   "metadata": {
    "cell_id": "00038-8ec63d74-f9fb-4c22-bc92-24e76ce3dbd9",
    "deepnote_cell_type": "code",
    "deepnote_to_be_reexecuted": false,
    "execution_millis": 836,
    "execution_start": 1621904552126,
    "source_hash": "6ec8dba7",
    "tags": []
   },
   "outputs": [
    {
     "name": "stdout",
     "output_type": "stream",
     "text": [
      "[0.9, 0.92, 0.94]\n"
     ]
    },
    {
     "data": {
      "image/png": "[encoded data removed]",
      "text/plain": [
       "<Figure size 576x432 with 2 Axes>"
      ]
     },
     "metadata": {
      "needs_background": "light"
     },
     "output_type": "display_data"
    }
   ],
   "source": [
    "print(MLR_accuracy)\n",
    "# print(time_MLR)\n",
    "Y_predicted = predict_MLR(X_validation.T, MLR_W_best, MLR_b_best)\n",
    "\n",
    "cm =confusion_matrix(Y_predicted, Y_validation)\n",
    "\n",
    "plot_confusion_matrix(cm           =  cm,\n",
    "                      normalize    = False,\n",
    "                      target_names = class_names,\n",
    "                      title        = \"Confusion Matrix\")\n"
   ]
  },
  {
   "cell_type": "code",
   "execution_count": 45,
   "metadata": {
    "cell_id": "00039-fc54100f-4d5e-4dc0-8448-9877ccfb7862",
    "deepnote_cell_type": "code",
    "deepnote_to_be_reexecuted": false,
    "execution_millis": 4,
    "execution_start": 1621904978924,
    "source_hash": "512ce6fe",
    "tags": []
   },
   "outputs": [],
   "source": [
    "def multinomialSGD(X, Y, W, b, n_epochs=50, lambd=0.08, beta=0.87):\n",
    "  \"\"\"\n",
    "  :param X: data           (no features, no examples)\n",
    "  :param Y: one hot labels (no classes, no examples)\n",
    "  :param W: weights        (no classes, no features)\n",
    "  :param b: bias           (no classes, 1)\n",
    "  :param n_epochs: number of iterations for gradient\n",
    "  :param alpha:\n",
    "  :return:\n",
    "  \"\"\"\n",
    "  n = X.shape[0]\n",
    "  m = X.shape[1]\n",
    "  k = 10\n",
    "  \n",
    "  # X: n, m\n",
    "  # Y: k ,m\n",
    "  \n",
    "  cost = np.zeros(n_epochs)    \n",
    "  for epoch in range(n_epochs):     \n",
    "    J = 0.0\n",
    "    for i in range(m):\n",
    "      xi = X[:, i].reshape((n,1)) # n, 1\n",
    "      yi = Y[:, i].reshape((k, 1)) # shape: k, 1\n",
    "      \n",
    "      # forward prop\n",
    "      zi = np.dot(W, xi) + b # shape = k, 1\n",
    "      pk = softmax(zi) # shape = k, 1\n",
    "      # loss\n",
    "      J += np.sum(-yi * np.log(1e-15 + pk))\n",
    "      # derivatives \n",
    "      dzi = pk - yi # shape: k, 1  \n",
    "      dW = np.dot(dzi, xi.T) + (lambd / m) * W # shape: k, n\n",
    "      \n",
    "      alpha = 1.0 / (100.0 + m * (epoch/10 + 1) + i)\n",
    "      \n",
    "      W = W - alpha * dW\n",
    "      b = b - alpha * dzi\n",
    "    \n",
    "    cost[epoch] = (J / m) + np.sum(np.square(W)) * lambd / (2 * m)\n",
    "    if epoch % 10  == 0:\n",
    "      print(\"Cost after epoch %i: %f\" % (epoch, cost[epoch]))\n",
    "  return W, b, cost "
   ]
  },
  {
   "cell_type": "code",
   "execution_count": 46,
   "metadata": {
    "cell_id": "00040-2d79c8d3-9acc-4200-921d-e2fb62792005",
    "deepnote_cell_type": "code",
    "deepnote_to_be_reexecuted": false,
    "execution_millis": 0,
    "execution_start": 1621904979277,
    "source_hash": "f40645d0",
    "tags": []
   },
   "outputs": [],
   "source": [
    "n_epochs = 100\n",
    "\n",
    "folds = 4\n",
    "W = 0.0025 * np.random.randn(10, train_data.shape[1])\n",
    "b = np.zeros(shape=(10, 1))\n",
    "\n",
    "SGD_MLR_W_mean = np.zeros((10, train_data.shape[1]))\n",
    "SGD_MLR_b_mean = np.zeros(shape=(10, 1))\n",
    "\n",
    "SGD_MLR_costs = []\n",
    "\n",
    "SGD_MLR_accuracy = []\n",
    "best_accuracy = 0.0 "
   ]
  },
  {
   "cell_type": "code",
   "execution_count": 47,
   "metadata": {
    "cell_id": "00041-a2f71e59-2568-451c-a6f6-3936ccaaa716",
    "deepnote_cell_type": "code",
    "deepnote_to_be_reexecuted": false,
    "execution_millis": 20881,
    "execution_start": 1621904980039,
    "source_hash": "ce29119c",
    "tags": []
   },
   "outputs": [
    {
     "name": "stdout",
     "output_type": "stream",
     "text": [
      "fold: 0 \n",
      "Cost after epoch 0: 2.232887\n",
      "Cost after epoch 10: 1.503918\n",
      "Cost after epoch 20: 1.212530\n",
      "Cost after epoch 30: 1.057198\n",
      "Cost after epoch 40: 0.959907\n",
      "Cost after epoch 50: 0.892605\n",
      "Cost after epoch 60: 0.842856\n",
      "Cost after epoch 70: 0.804312\n",
      "Cost after epoch 80: 0.773389\n",
      "Cost after epoch 90: 0.747905\n",
      "fold: 1 \n",
      "Cost after epoch 0: 0.722487\n",
      "Cost after epoch 10: 0.626943\n",
      "Cost after epoch 20: 0.579791\n",
      "Cost after epoch 30: 0.550198\n",
      "Cost after epoch 40: 0.529312\n",
      "Cost after epoch 50: 0.513497\n",
      "Cost after epoch 60: 0.500945\n",
      "Cost after epoch 70: 0.490642\n",
      "Cost after epoch 80: 0.481971\n",
      "Cost after epoch 90: 0.474529\n",
      "fold: 2 \n",
      "Cost after epoch 0: 0.468904\n",
      "Cost after epoch 10: 0.436713\n",
      "Cost after epoch 20: 0.418887\n",
      "Cost after epoch 30: 0.406890\n",
      "Cost after epoch 40: 0.398009\n",
      "Cost after epoch 50: 0.391040\n",
      "Cost after epoch 60: 0.385352\n",
      "Cost after epoch 70: 0.380575\n",
      "Cost after epoch 80: 0.376477\n",
      "Cost after epoch 90: 0.372902\n",
      "fold: 3 \n",
      "Cost after epoch 0: 0.364941\n",
      "Cost after epoch 10: 0.348375\n",
      "Cost after epoch 20: 0.338797\n",
      "Cost after epoch 30: 0.332154\n",
      "Cost after epoch 40: 0.327129\n",
      "Cost after epoch 50: 0.323120\n",
      "Cost after epoch 60: 0.319804\n",
      "Cost after epoch 70: 0.316989\n",
      "Cost after epoch 80: 0.314552\n",
      "Cost after epoch 90: 0.312408\n",
      "4.5195152759552\n"
     ]
    }
   ],
   "source": [
    "import time\n",
    "\n",
    "for index_split in range(folds):\n",
    "  print(\"fold: %d \" % index_split)\n",
    "  u = index_split * 200\n",
    "  v = (index_split + 1) * 200\n",
    "\n",
    "  X_train = np.append(train_data[0:u], train_data[v:], axis=0)  # shape: m, n\n",
    "  Y_train = np.append(train_labels_onehot[0:u], train_labels_onehot[v:], axis=0)  # shape: m, k\n",
    "  Y_labels = np.append(train_labels[0:u], train_labels[v:], axis=0)  # shape: m, k\n",
    "  X_validation = train_data[u:v]\n",
    "  Y_validation = train_labels[u:v]\n",
    "  # train model\n",
    "  starter_time = time.time()\n",
    "  W, b, costs = multinomialSGD(X_train.T, Y_train.T, W, b, n_epochs)\n",
    "  time_SGD = time.time() - starter_time\n",
    "  # validate\n",
    "  Y_predicted = predict_MLR(X_validation.T, W, b)\n",
    "  \n",
    "  n_correct = sum(Y_validation == Y_predicted)\n",
    "  SGD_MLR_costs.append(cost)\n",
    "  SGD_MLR_accuracy.append(float(n_correct) / len(Y_predicted))\n",
    "  # update best model\n",
    "  if SGD_MLR_accuracy[index_split] > best_accuracy:\n",
    "    best_accuracy = SGD_MLR_accuracy[index_split]\n",
    "    SGD_MLR_W_best = W.copy()\n",
    "    SGD_MLR_b_best = b.copy()\n",
    "\n",
    "  SGD_MLR_W_mean = SGD_MLR_W_mean + W\n",
    "  SGD_MLR_b_mean = SGD_MLR_b_mean + b\n",
    "\n",
    "SGD_MLR_W_mean = SGD_MLR_W_mean / folds\n",
    "SGD_MLR_b_mean = SGD_MLR_b_mean / folds\n",
    "\n",
    "    \n",
    "print(time_SGD)"
   ]
  },
  {
   "cell_type": "code",
   "execution_count": 48,
   "metadata": {
    "cell_id": "00042-6f0afbfa-93c6-458d-a879-6158d100de3f",
    "deepnote_cell_type": "code",
    "deepnote_to_be_reexecuted": false,
    "execution_millis": 887,
    "execution_start": 1621905016331,
    "source_hash": "b92aa819",
    "tags": []
   },
   "outputs": [
    {
     "name": "stdout",
     "output_type": "stream",
     "text": [
      "[0.9, 0.925, 0.94, 0.945]\n"
     ]
    },
    {
     "data": {
      "image/png": "[encoded data removed]",
      "text/plain": [
       "<Figure size 576x432 with 2 Axes>"
      ]
     },
     "metadata": {
      "needs_background": "light"
     },
     "output_type": "display_data"
    }
   ],
   "source": [
    "print(SGD_MLR_accuracy)\n",
    "\n",
    "Y_predicted = predict_MLR(X_validation.T, SGD_MLR_W_best, SGD_MLR_b_best)\n",
    "cm = confusion_matrix(Y_validation, Y_predicted)\n",
    "\n",
    "plot_confusion_matrix(cm           =  cm,\n",
    "                      normalize    = False,\n",
    "                      target_names = class_names,\n",
    "                      title        = \"Confusion Matrix\")"
   ]
  },
  {
   "cell_type": "markdown",
   "metadata": {
    "created_in_deepnote_cell": true,
    "deepnote_cell_type": "markdown",
    "tags": []
   },
   "source": []
  }
 ],
 "metadata": {
  "language_info": {
   "codemirror_mode": {
    "name": "ipython",
    "version": 3
   },
   "file_extension": ".py",
   "mimetype": "text/x-python",
   "name": "python",
   "nbconvert_exporter": "python",
   "pygments_lexer": "ipython3",
   "version": "3.7.4"
  }
 },
 "nbformat": 4,
 "nbformat_minor": 2
}
