{
 "cells": [
  {
   "cell_type": "markdown",
   "metadata": {
    "cell_id": "00003-8fccdba8-2d4c-4b33-8e09-aba9433238b9",
    "deepnote_cell_type": "code",
    "deepnote_to_be_reexecuted": false,
    "execution_millis": 2,
    "execution_start": 1621901233893,
    "source_hash": "ef7ad9ef",
    "tags": []
   },
   "source": [
    "# MNIST Classificator\n",
    "\n",
    "* Ismael Pereira\n",
    "* Willian Hayashida"
   ]
  },
  {
   "cell_type": "code",
   "execution_count": 1,
   "metadata": {
    "cell_id": "00004-c376bf7b-0263-4e48-a336-b5b7a1635d11",
    "deepnote_cell_type": "code",
    "deepnote_to_be_reexecuted": false,
    "execution_millis": 73,
    "execution_start": 1621903097787,
    "source_hash": "f97522b6",
    "tags": []
   },
   "outputs": [
    {
     "name": "stdout",
     "output_type": "stream",
     "text": [
      "(1797, 64) (1797,)\n"
     ]
    }
   ],
   "source": [
    "from sklearn.datasets import load_digits\n",
    "from sklearn.model_selection import train_test_split\n",
    "import matplotlib.pyplot as plt\n",
    "import numpy as np\n",
    "\n",
    "digits = load_digits()\n",
    "\n",
    "test_size = int((0.1)* float(digits.target.shape[0]))\n",
    "\n",
    "print(digits.data.shape, digits.target.shape)"
   ]
  },
  {
   "cell_type": "code",
   "execution_count": 2,
   "metadata": {
    "cell_id": "00005-9cb5e4a3-e041-4663-ac30-2e919deb1f4b",
    "deepnote_cell_type": "code",
    "deepnote_to_be_reexecuted": false,
    "execution_millis": 8,
    "execution_start": 1621903098306,
    "source_hash": "c49a3e33",
    "tags": []
   },
   "outputs": [
    {
     "data": {
      "text/plain": [
       "((1797, 64), (1797,))"
      ]
     },
     "execution_count": 2,
     "metadata": {},
     "output_type": "execute_result"
    }
   ],
   "source": [
    "digits.data.shape, digits.target.shape"
   ]
  },
  {
   "cell_type": "markdown",
   "metadata": {
    "cell_id": "00005-66470896-23a9-4d32-96cf-5cdc6b428fab",
    "deepnote_cell_type": "markdown",
    "tags": []
   },
   "source": [
    "## Splitting Dataset"
   ]
  },
  {
   "cell_type": "code",
   "execution_count": 3,
   "metadata": {
    "cell_id": "00005-90ebd72a-377e-46fb-a951-47568fa8300d",
    "deepnote_cell_type": "code",
    "deepnote_to_be_reexecuted": false,
    "execution_millis": 1,
    "execution_start": 1621903098922,
    "source_hash": "8bbc1d2f",
    "tags": []
   },
   "outputs": [],
   "source": [
    "train_data, test_data, train_labels, test_labels = train_test_split(digits.data, digits.target, test_size=0.10, random_state=42)"
   ]
  },
  {
   "cell_type": "code",
   "execution_count": 4,
   "metadata": {
    "cell_id": "00008-90bd8014-63c8-403b-93fb-99b658a4007f",
    "deepnote_cell_type": "code",
    "deepnote_to_be_reexecuted": false,
    "execution_millis": 7,
    "execution_start": 1621903099688,
    "source_hash": "3596f773",
    "tags": []
   },
   "outputs": [
    {
     "data": {
      "text/plain": [
       "(1617, 64)"
      ]
     },
     "execution_count": 4,
     "metadata": {},
     "output_type": "execute_result"
    }
   ],
   "source": [
    "train_data.shape"
   ]
  },
  {
   "cell_type": "code",
   "execution_count": 5,
   "metadata": {
    "cell_id": "00007-80a94590-e30d-43bd-865a-b78a5ce852ac",
    "deepnote_cell_type": "code",
    "deepnote_to_be_reexecuted": false,
    "execution_millis": 4,
    "execution_start": 1621903100528,
    "source_hash": "fa78b5fc",
    "tags": []
   },
   "outputs": [],
   "source": [
    "class_names = [0, 1, 2, 3, 4, 5, 6, 7, 8, 9]"
   ]
  },
  {
   "cell_type": "markdown",
   "metadata": {
    "cell_id": "00009-bf592f3a-0cf2-4684-820f-42d8ad913c30",
    "deepnote_cell_type": "markdown",
    "tags": []
   },
   "source": [
    "## Exploring data"
   ]
  },
  {
   "cell_type": "code",
   "execution_count": 6,
   "metadata": {
    "cell_id": "00005-3483a9b3-caef-40df-832d-e3861572af2a",
    "deepnote_cell_type": "code",
    "deepnote_to_be_reexecuted": false,
    "execution_millis": 1101,
    "execution_start": 1621903142702,
    "source_hash": "b04c7c3a",
    "tags": []
   },
   "outputs": [
    {
     "data": {
      "image/png": "[encoded data removed]",
      "text/plain": [
       "<Figure size 720x720 with 15 Axes>"
      ]
     },
     "metadata": {},
     "output_type": "display_data"
    }
   ],
   "source": [
    "plt.figure(figsize=(10,10))\n",
    "for i in range(15):\n",
    "    plt.subplot(5,5,i+1)\n",
    "    plt.xticks([])\n",
    "    plt.yticks([])\n",
    "    plt.grid(False)\n",
    "    plt.xlabel(class_names[train_labels[i]])\n",
    "    plt.imshow(train_data.reshape(1617, 8, 8)[i], cmap=plt.cm.gray_r, interpolation='nearest')"
   ]
  },
  {
   "cell_type": "code",
   "execution_count": 7,
   "metadata": {
    "cell_id": "00011-0583606c-ccf4-4d05-a5a2-43fafffe86bf",
    "deepnote_cell_type": "code",
    "deepnote_to_be_reexecuted": false,
    "execution_millis": 3,
    "execution_start": 1621903163255,
    "source_hash": "e24de26",
    "tags": []
   },
   "outputs": [],
   "source": [
    "# Normalizing data\n",
    "train_data = train_data / 16.0\n",
    "test_data = test_data / 16.0"
   ]
  },
  {
   "cell_type": "code",
   "execution_count": 8,
   "metadata": {
    "cell_id": "00013-11335b73-3606-4166-8e7c-07a548c9d333",
    "deepnote_cell_type": "code",
    "deepnote_to_be_reexecuted": false,
    "execution_millis": 10,
    "execution_start": 1621903551985,
    "source_hash": "e69bb6ce",
    "tags": []
   },
   "outputs": [
    {
     "data": {
      "text/plain": [
       "array([0.    , 0.    , 0.8125, 1.    , 1.    , 0.3125, 0.    , 0.    ,\n",
       "       0.    , 0.3125, 0.9375, 0.375 , 0.6875, 0.8125, 0.    , 0.    ,\n",
       "       0.    , 0.    , 0.125 , 0.125 , 0.8125, 0.5   , 0.    , 0.    ,\n",
       "       0.    , 0.    , 0.25  , 1.    , 0.9375, 0.125 , 0.    , 0.    ,\n",
       "       0.    , 0.    , 0.1875, 0.6875, 0.9375, 1.    , 0.3125, 0.    ,\n",
       "       0.    , 0.    , 0.    , 0.    , 0.125 , 0.9375, 0.6875, 0.    ,\n",
       "       0.    , 0.    , 0.1875, 0.25  , 0.5625, 1.    , 0.375 , 0.    ,\n",
       "       0.    , 0.    , 0.9375, 1.    , 1.    , 0.625 , 0.    , 0.    ])"
      ]
     },
     "execution_count": 8,
     "metadata": {},
     "output_type": "execute_result"
    }
   ],
   "source": [
    "train_data[0]"
   ]
  },
  {
   "cell_type": "markdown",
   "metadata": {
    "cell_id": "00013-7c47ce49-be0a-4e51-b2f0-5c3eaf1d6543",
    "deepnote_cell_type": "markdown",
    "tags": []
   },
   "source": [
    "## One-Hot Encoding the labels"
   ]
  },
  {
   "cell_type": "code",
   "execution_count": 9,
   "metadata": {
    "cell_id": "00012-1d74b430-3341-4848-9e45-15b3fd8349ec",
    "deepnote_cell_type": "code",
    "deepnote_to_be_reexecuted": false,
    "execution_millis": 3,
    "execution_start": 1621903168725,
    "source_hash": "cbb0e978",
    "tags": []
   },
   "outputs": [
    {
     "name": "stderr",
     "output_type": "stream",
     "text": [
      "C:\\Program Files\\Anaconda3\\lib\\site-packages\\sklearn\\preprocessing\\_encoders.py:415: FutureWarning: The handling of integer data will change in version 0.22. Currently, the categories are determined based on the range [0, max(values)], while in the future they will be determined based on the unique values.\n",
      "If you want the future behaviour and silence this warning, you can specify \"categories='auto'\".\n",
      "In case you used a LabelEncoder before this OneHotEncoder to convert the categories to integers, then you can now use the OneHotEncoder directly.\n",
      "  warnings.warn(msg, FutureWarning)\n",
      "C:\\Program Files\\Anaconda3\\lib\\site-packages\\sklearn\\preprocessing\\_encoders.py:415: FutureWarning: The handling of integer data will change in version 0.22. Currently, the categories are determined based on the range [0, max(values)], while in the future they will be determined based on the unique values.\n",
      "If you want the future behaviour and silence this warning, you can specify \"categories='auto'\".\n",
      "In case you used a LabelEncoder before this OneHotEncoder to convert the categories to integers, then you can now use the OneHotEncoder directly.\n",
      "  warnings.warn(msg, FutureWarning)\n"
     ]
    }
   ],
   "source": [
    "from sklearn.preprocessing import OneHotEncoder\n",
    "\n",
    "encoder = OneHotEncoder()\n",
    "train_labels_onehot = encoder.fit_transform(train_labels.reshape(-1, 1))\n",
    "train_labels_onehot = train_labels_onehot.toarray()\n",
    "\n",
    "encoder = OneHotEncoder()\n",
    "test_labels_onehot = encoder.fit_transform(test_labels.reshape(-1, 1))\n",
    "test_labels_onehot = test_labels_onehot.toarray()"
   ]
  },
  {
   "cell_type": "code",
   "execution_count": 10,
   "metadata": {
    "cell_id": "00013-d0e01cf0-de10-4be7-9cb5-91286e907239",
    "deepnote_cell_type": "code",
    "deepnote_to_be_reexecuted": false,
    "execution_millis": 9,
    "execution_start": 1621903170204,
    "source_hash": "d6418a2",
    "tags": []
   },
   "outputs": [
    {
     "data": {
      "text/plain": [
       "array([0., 0., 0., 0., 0., 0., 0., 0., 1., 0.])"
      ]
     },
     "execution_count": 10,
     "metadata": {},
     "output_type": "execute_result"
    }
   ],
   "source": [
    "train_labels_onehot[2]"
   ]
  },
  {
   "cell_type": "code",
   "execution_count": 11,
   "metadata": {
    "cell_id": "00015-91a214ba-9db6-424a-b2d1-876604f52e08",
    "deepnote_cell_type": "code",
    "deepnote_to_be_reexecuted": false,
    "execution_millis": 1,
    "execution_start": 1621903304734,
    "source_hash": "71804fef",
    "tags": []
   },
   "outputs": [],
   "source": [
    "X_train = train_data\n",
    "Y_train = train_labels\n",
    "\n",
    "X_test = test_data\n",
    "Y_test = test_labels"
   ]
  },
  {
   "cell_type": "markdown",
   "metadata": {
    "cell_id": "00016-be67614e-10e4-48a6-9169-68f4c38a2e96",
    "deepnote_cell_type": "markdown",
    "tags": []
   },
   "source": [
    "## Auxiliar Functions"
   ]
  },
  {
   "cell_type": "code",
   "execution_count": 12,
   "metadata": {
    "cell_id": "00018-4564312c-e97d-4eab-b24d-03f9e8d268ac",
    "deepnote_cell_type": "code",
    "deepnote_to_be_reexecuted": false,
    "execution_millis": 14,
    "execution_start": 1621903305351,
    "source_hash": "d004c119",
    "tags": []
   },
   "outputs": [],
   "source": [
    "from sklearn.metrics import confusion_matrix\n",
    "def plot_confusion_matrix(cm,\n",
    "                          target_names,\n",
    "                          title='Confusion matrix',\n",
    "                          cmap=None,\n",
    "                          normalize=True):\n",
    "    \"\"\"\n",
    "    given a sklearn confusion matrix (cm), make a nice plot\n",
    "\n",
    "    Arguments\n",
    "    ---------\n",
    "    cm:           confusion matrix from sklearn.metrics.confusion_matrix\n",
    "\n",
    "    target_names: given classification classes such as [0, 1, 2]\n",
    "                  the class names, for example: ['high', 'medium', 'low']\n",
    "\n",
    "    title:        the text to display at the top of the matrix\n",
    "\n",
    "    cmap:         the gradient of the values displayed from matplotlib.pyplot.cm\n",
    "                  see http://matplotlib.org/examples/color/colormaps_reference.html\n",
    "                  plt.get_cmap('jet') or plt.cm.Blues\n",
    "\n",
    "    normalize:    If False, plot the raw numbers\n",
    "                  If True, plot the proportions\n",
    "\n",
    "    Usage\n",
    "    -----\n",
    "    plot_confusion_matrix(cm           = cm,                  # confusion matrix created by\n",
    "                                                              # sklearn.metrics.confusion_matrix\n",
    "                          normalize    = True,                # show proportions\n",
    "                          target_names = y_labels_vals,       # list of names of the classes\n",
    "                          title        = best_estimator_name) # title of graph\n",
    "\n",
    "    Citiation\n",
    "    ---------\n",
    "    http://scikit-learn.org/stable/auto_examples/model_selection/plot_confusion_matrix.html\n",
    "\n",
    "    \"\"\"\n",
    "    import matplotlib.pyplot as plt\n",
    "    import numpy as np\n",
    "    import itertools\n",
    "\n",
    "    accuracy = np.trace(cm) / float(np.sum(cm))\n",
    "    misclass = 1 - accuracy\n",
    "\n",
    "    if cmap is None:\n",
    "        cmap = plt.get_cmap('Blues')\n",
    "\n",
    "    plt.figure(figsize=(8, 6))\n",
    "    plt.imshow(cm, interpolation='nearest', cmap=cmap)\n",
    "    plt.title(title)\n",
    "    plt.colorbar()\n",
    "\n",
    "    if target_names is not None:\n",
    "        tick_marks = np.arange(len(target_names))\n",
    "        plt.xticks(tick_marks, target_names, rotation=45)\n",
    "        plt.yticks(tick_marks, target_names)\n",
    "\n",
    "    if normalize:\n",
    "        cm = cm.astype('float') / cm.sum(axis=1)[:, np.newaxis]\n",
    "\n",
    "\n",
    "    thresh = cm.max() / 1.5 if normalize else cm.max() / 2\n",
    "    for i, j in itertools.product(range(cm.shape[0]), range(cm.shape[1])):\n",
    "        if normalize:\n",
    "            plt.text(j, i, \"{:0.4f}\".format(cm[i, j]),\n",
    "                     horizontalalignment=\"center\",\n",
    "                     color=\"white\" if cm[i, j] > thresh else \"black\")\n",
    "        else:\n",
    "            plt.text(j, i, \"{:,}\".format(cm[i, j]),\n",
    "                     horizontalalignment=\"center\",\n",
    "                     color=\"white\" if cm[i, j] > thresh else \"black\")\n",
    "\n",
    "\n",
    "    plt.tight_layout()\n",
    "    plt.ylabel('True label')\n",
    "    plt.xlabel('Predicted label\\naccuracy={:0.4f}; misclass={:0.4f}'.format(accuracy, misclass))\n",
    "    plt.show()\n",
    "    "
   ]
  },
  {
   "cell_type": "markdown",
   "metadata": {
    "cell_id": "00019-db711711-d463-43b0-8934-fa97d52f4a0f",
    "deepnote_cell_type": "markdown",
    "tags": []
   },
   "source": [
    "## Softmax and Cost"
   ]
  },
  {
   "cell_type": "code",
   "execution_count": 13,
   "metadata": {
    "cell_id": "00020-3b0cdbdd-d40a-47d4-8def-1613f9e4c7ec",
    "deepnote_cell_type": "code",
    "deepnote_to_be_reexecuted": false,
    "execution_millis": 2,
    "execution_start": 1621903307863,
    "source_hash": "9977b9de",
    "tags": []
   },
   "outputs": [],
   "source": [
    "def softmax(x):\n",
    "  \"\"\"\n",
    "  :param x: k, m\n",
    "  \"\"\"\n",
    "  exp_x = np.exp(x - np.max(x, axis=0, keepdims=True))\n",
    "  return exp_x / np.sum(exp_x, axis=0, keepdims=True)\n",
    "\n",
    "def compute_cost(A2, Y):\n",
    "    m = Y.shape[1]\n",
    "    logprobs = np.multiply(np.log(A2 + 1e-15), Y)\n",
    "    cost = - np.sum(logprobs) / m\n",
    "    cost = np.squeeze(cost)\n",
    "\n",
    "    return cost\n",
    "\n",
    "def delta_ReLU(x):\n",
    "  return (x > 0) * 1\n"
   ]
  },
  {
   "cell_type": "markdown",
   "metadata": {
    "cell_id": "00021-e5c8b0d1-45a3-4a2b-8767-bc40c0b81a18",
    "deepnote_cell_type": "markdown",
    "tags": []
   },
   "source": [
    "## Optimizer"
   ]
  },
  {
   "cell_type": "code",
   "execution_count": 14,
   "metadata": {
    "cell_id": "00022-d79d3660-ea9f-491e-86e3-696f89c3b22b",
    "deepnote_cell_type": "code",
    "deepnote_to_be_reexecuted": false,
    "execution_millis": 2,
    "execution_start": 1621903368771,
    "source_hash": "e4fd6a5d",
    "tags": []
   },
   "outputs": [],
   "source": [
    "def inicialize_momentum(W, b):\n",
    "  vd = {}\n",
    "  for i in range(1, len(W)+1):\n",
    "    vd['dw' + str(i)] = np.zeros(W[i].shape)\n",
    "    vd['db' + str(i)] = np.zeros(b[i].shape)\n",
    "  \n",
    "  return vd\n",
    "\n",
    "def momentum(vd, grads, beta=0.9):\n",
    "  # unpack\n",
    "  dW = grads['dW']\n",
    "  db = grads['db']\n",
    "  \n",
    "  for i in range(1, len(dW) + 1):\n",
    "    vd['dw' + str(i)] = beta * vd['dw' + str(i)] + (1 - beta) * dW[i]\n",
    "    vd['db' + str(i)] = beta * vd['db' + str(i)] + (1 - beta) * db[i]\n",
    "  \n",
    "  return vd\n",
    "\n",
    "def RMSprop(sd, grads, beta=0.9):\n",
    "  # unpack\n",
    "  dW = grads['dW']\n",
    "  db = grads['db']\n",
    "  \n",
    "  for i in range(1, len(dW) + 1):\n",
    "    sd['dw' + str(i)] = beta * sd['dw' + str(i)] + (1 - beta) * (dW[i]**2)\n",
    "    sd['db' + str(i)] = beta * sd['db' + str(i)] + (1 - beta) * (db[i]**2)\n",
    "  return sd\n",
    "\n",
    "def bias_correction(vd, t, beta):\n",
    "  cvd ={}\n",
    "  for i in range(1, len(vd)//2+1):\n",
    "    cvd['dw' + str(i)] = vd['dw' + str(i)] / (1. - beta**t + 1e-15)\n",
    "    cvd['db' + str(i)] = vd['db' + str(i)] / (1. - beta**t + 1e-15) \n",
    "    \n",
    "  return cvd"
   ]
  },
  {
   "cell_type": "markdown",
   "metadata": {
    "cell_id": "00023-9d0730a3-e6a4-49e4-ab5b-9b7ea1f9961e",
    "deepnote_cell_type": "markdown",
    "tags": []
   },
   "source": [
    "## Logistic Regression"
   ]
  },
  {
   "cell_type": "code",
   "execution_count": 15,
   "metadata": {
    "cell_id": "00023-0b57d3bd-19cc-4da1-b470-1fc3c0e70f64",
    "deepnote_cell_type": "code",
    "deepnote_to_be_reexecuted": false,
    "execution_millis": 0,
    "execution_start": 1621903369782,
    "source_hash": "40758e4b",
    "tags": []
   },
   "outputs": [],
   "source": [
    "from sklearn.utils import shuffle\n",
    "\n",
    "\n",
    "def LR_model(X, Y, W, b, n_epochs=50, beta=0.9, alpha=0.25, lambd=0.1):\n",
    "  \n",
    "  n = X.shape[0]\n",
    "  m = X.shape[1]\n",
    "  \n",
    "  vdW = np.zeros(W.shape)\n",
    "  vdb = np.zeros(b.shape)\n",
    "  \n",
    "  costs = []\n",
    "  \n",
    "  for epoch in range(n_epochs):     \n",
    "    J = 0\n",
    "    for i in range(100):\n",
    "      \n",
    "      xi = X[:, i*(m//100):(i+1)*(m//100)].reshape((n, m//100)) # n, 500\n",
    "      yi = Y[i*(m//100):(i+1)*(m//100)].reshape((1, m//100)) # 1, 500\n",
    "      # xi = X[:, i].reshape((n,1))\n",
    "      # yi = Y[i].reshape((1,1))\n",
    "      \n",
    "      zi = np.dot(W, xi) + b # 1, 500\n",
    "      ai = 1 / (1 + np.exp(-zi)) # 1, 500\n",
    "      \n",
    "      # J += -(yi * np.log(1e-15 + ai) + (1 - yi)*np.log(1e-15 + 1 - ai))\n",
    "      \n",
    "      # gradient\n",
    "      dzi = ai - yi # 1, 500\n",
    "      dW = (1.0 / m) * np.dot(dzi, xi.T) + (lambd / m) * W # 1, n\n",
    "      db = (1.0 / m) * np.sum(dzi, axis=1, keepdims=True)\n",
    "\n",
    "      # alpha = 1.0 / (100 + m * (epoch/10 + 1) + i)\n",
    "      if epoch > n_epochs * 0.8:\n",
    "        alpha = 0.01\n",
    "      elif epoch > n_epochs * 0.6:\n",
    "        alpha = 0.05\n",
    "      elif epoch > n_epochs * 0.5:\n",
    "        alpha = 0.1\n",
    "      \n",
    "      \n",
    "      W = W - alpha * dW\n",
    "      b = b - alpha * db\n",
    "      \n",
    "    #calculate the cost function\n",
    "    aux = np.sum(np.square(W))\n",
    "    reg_cost = aux * lambd / (2 * m)\n",
    "    \n",
    "    #calculate loss\n",
    "    cost = compute_cost(ai, yi) + reg_cost\n",
    "    costs.append(cost)\n",
    "    \n",
    "    if epoch % 20 == 0:      \n",
    "      print(\"Epoch %i:\\tloss: %f\" % (epoch, cost))\n",
    "#   print(W.shape, b.shape, cost.shape)\n",
    "  return W, b\n",
    "\n"
   ]
  },
  {
   "cell_type": "code",
   "execution_count": 16,
   "metadata": {
    "cell_id": "00025-dc67a386-871b-4b2a-8611-af4fa0457df9",
    "deepnote_cell_type": "code",
    "deepnote_to_be_reexecuted": false,
    "execution_millis": 4,
    "execution_start": 1621903370472,
    "source_hash": "376a2368",
    "tags": []
   },
   "outputs": [],
   "source": [
    "def predict_LR(X, W, b):\n",
    "  zi = np.dot(W, X) + b\n",
    "  \n",
    "  ai = 1 / (1 + np.exp(-zi))\n",
    "  \n",
    "  predict = np.argmax(ai, axis=0)\n",
    "  \n",
    "  return predict "
   ]
  },
  {
   "cell_type": "markdown",
   "metadata": {
    "cell_id": "00026-0f62935d-aff9-47e9-9b17-94a7de627667",
    "deepnote_cell_type": "markdown",
    "tags": []
   },
   "source": [
    "### Training model"
   ]
  },
  {
   "cell_type": "code",
   "execution_count": 69,
   "metadata": {
    "cell_id": "00027-775c8a4f-e618-4b32-a1b2-70be4a98a34b",
    "deepnote_cell_type": "code",
    "deepnote_to_be_reexecuted": false,
    "execution_millis": 1,
    "execution_start": 1621905983546,
    "source_hash": "c3f1b42f",
    "tags": []
   },
   "outputs": [],
   "source": [
    "folds = 6\n",
    "n_epochs = 120\n",
    "\n",
    "alpha = 0.25\n",
    "lambd = 0.1\n",
    "\n",
    "W = np.random.rand(10, train_data.shape[1]) * 0.0001\n",
    "# b = np.random.rand(10)\n",
    "# W = np.zeros(shape=(10, train_data.shape[1]))\n",
    "b = np.zeros(shape=(10, 1))\n",
    "\n",
    "mean_W = np.zeros((10, train_data.shape[1]))\n",
    "mean_b = b = np.zeros(shape=(10, 1))\n",
    "\n",
    "# cost = np.zeros((10, n_epochs))\n",
    "accuracy_LR = []\n",
    "best_accuracy = 0.0"
   ]
  },
  {
   "cell_type": "code",
   "execution_count": 70,
   "metadata": {
    "cell_id": "00028-80bcdb89-ed01-41c0-8542-28f93dc79e57",
    "deepnote_cell_type": "code",
    "deepnote_to_be_reexecuted": false,
    "execution_millis": 16927,
    "execution_start": 1621905984158,
    "source_hash": "f5a38bb",
    "tags": []
   },
   "outputs": [
    {
     "name": "stdout",
     "output_type": "stream",
     "text": [
      "fold: 0 \n",
      "** class 0 **\n",
      "Epoch 0:\tloss: 0.235951\n",
      "Epoch 20:\tloss: 0.266691\n",
      "Epoch 40:\tloss: 0.177190\n",
      "Epoch 60:\tloss: 0.131530\n",
      "Epoch 80:\tloss: 0.121917\n",
      "Epoch 100:\tloss: 0.117437\n",
      "** class 1 **\n",
      "Epoch 0:\tloss: 0.000002\n",
      "Epoch 20:\tloss: 0.000025\n",
      "Epoch 40:\tloss: 0.000051\n",
      "Epoch 60:\tloss: 0.000081\n",
      "Epoch 80:\tloss: 0.000091\n",
      "Epoch 100:\tloss: 0.000096\n",
      "** class 2 **\n",
      "Epoch 0:\tloss: 0.081679\n",
      "Epoch 20:\tloss: 0.088585\n",
      "Epoch 40:\tloss: 0.051932\n",
      "Epoch 60:\tloss: 0.033999\n",
      "Epoch 80:\tloss: 0.030398\n",
      "Epoch 100:\tloss: 0.028751\n",
      "** class 3 **\n",
      "Epoch 0:\tloss: 0.161706\n",
      "Epoch 20:\tloss: 0.206180\n",
      "Epoch 40:\tloss: 0.149243\n",
      "Epoch 60:\tloss: 0.116607\n",
      "Epoch 80:\tloss: 0.108933\n",
      "Epoch 100:\tloss: 0.105366\n",
      "** class 4 **\n",
      "Epoch 0:\tloss: 0.167282\n",
      "Epoch 20:\tloss: 0.222412\n",
      "Epoch 40:\tloss: 0.158499\n",
      "Epoch 60:\tloss: 0.122409\n",
      "Epoch 80:\tloss: 0.114211\n",
      "Epoch 100:\tloss: 0.110361\n",
      "** class 5 **\n",
      "Epoch 0:\tloss: 0.000002\n",
      "Epoch 20:\tloss: 0.000026\n",
      "Epoch 40:\tloss: 0.000051\n",
      "Epoch 60:\tloss: 0.000081\n",
      "Epoch 80:\tloss: 0.000091\n",
      "Epoch 100:\tloss: 0.000096\n",
      "** class 6 **\n",
      "Epoch 0:\tloss: 0.164918\n",
      "Epoch 20:\tloss: 0.197000\n",
      "Epoch 40:\tloss: 0.134938\n",
      "Epoch 60:\tloss: 0.102446\n",
      "Epoch 80:\tloss: 0.094931\n",
      "Epoch 100:\tloss: 0.091507\n",
      "** class 7 **\n",
      "Epoch 0:\tloss: 0.000002\n",
      "Epoch 20:\tloss: 0.000031\n",
      "Epoch 40:\tloss: 0.000064\n",
      "Epoch 60:\tloss: 0.000100\n",
      "Epoch 80:\tloss: 0.000111\n",
      "Epoch 100:\tloss: 0.000116\n",
      "** class 8 **\n",
      "Epoch 0:\tloss: 0.248589\n",
      "Epoch 20:\tloss: 0.419488\n",
      "Epoch 40:\tloss: 0.377507\n",
      "Epoch 60:\tloss: 0.344333\n",
      "Epoch 80:\tloss: 0.335618\n",
      "Epoch 100:\tloss: 0.331260\n",
      "** class 9 **\n",
      "Epoch 0:\tloss: 0.087932\n",
      "Epoch 20:\tloss: 0.139088\n",
      "Epoch 40:\tloss: 0.113363\n",
      "Epoch 60:\tloss: 0.096883\n",
      "Epoch 80:\tloss: 0.092785\n",
      "Epoch 100:\tloss: 0.090833\n",
      "fold: 1 \n",
      "** class 0 **\n",
      "Epoch 0:\tloss: 0.114853\n",
      "Epoch 20:\tloss: 0.092914\n",
      "Epoch 40:\tloss: 0.079832\n",
      "Epoch 60:\tloss: 0.070674\n",
      "Epoch 80:\tloss: 0.068368\n",
      "Epoch 100:\tloss: 0.067241\n",
      "** class 1 **\n",
      "Epoch 0:\tloss: 0.000098\n",
      "Epoch 20:\tloss: 0.000126\n",
      "Epoch 40:\tloss: 0.000151\n",
      "Epoch 60:\tloss: 0.000174\n",
      "Epoch 80:\tloss: 0.000181\n",
      "Epoch 100:\tloss: 0.000185\n",
      "** class 2 **\n",
      "Epoch 0:\tloss: 0.027819\n",
      "Epoch 20:\tloss: 0.020493\n",
      "Epoch 40:\tloss: 0.016249\n",
      "Epoch 60:\tloss: 0.013478\n",
      "Epoch 80:\tloss: 0.012810\n",
      "Epoch 100:\tloss: 0.012484\n",
      "** class 3 **\n",
      "Epoch 0:\tloss: 0.103540\n",
      "Epoch 20:\tloss: 0.086063\n",
      "Epoch 40:\tloss: 0.074313\n",
      "Epoch 60:\tloss: 0.065849\n",
      "Epoch 80:\tloss: 0.063500\n",
      "Epoch 100:\tloss: 0.062376\n",
      "** class 4 **\n",
      "Epoch 0:\tloss: 0.107670\n",
      "Epoch 20:\tloss: 0.086036\n",
      "Epoch 40:\tloss: 0.073746\n",
      "Epoch 60:\tloss: 0.064948\n",
      "Epoch 80:\tloss: 0.062556\n",
      "Epoch 100:\tloss: 0.061405\n",
      "** class 5 **\n",
      "Epoch 0:\tloss: 0.000099\n",
      "Epoch 20:\tloss: 0.000132\n",
      "Epoch 40:\tloss: 0.000162\n",
      "Epoch 60:\tloss: 0.000190\n",
      "Epoch 80:\tloss: 0.000199\n",
      "Epoch 100:\tloss: 0.000203\n",
      "** class 6 **\n",
      "Epoch 0:\tloss: 0.090362\n",
      "Epoch 20:\tloss: 0.077186\n",
      "Epoch 40:\tloss: 0.066825\n",
      "Epoch 60:\tloss: 0.059327\n",
      "Epoch 80:\tloss: 0.057251\n",
      "Epoch 100:\tloss: 0.056253\n",
      "** class 7 **\n",
      "Epoch 0:\tloss: 0.000119\n",
      "Epoch 20:\tloss: 0.000150\n",
      "Epoch 40:\tloss: 0.000176\n",
      "Epoch 60:\tloss: 0.000201\n",
      "Epoch 80:\tloss: 0.000208\n",
      "Epoch 100:\tloss: 0.000211\n",
      "** class 8 **\n",
      "Epoch 0:\tloss: 0.327020\n",
      "Epoch 20:\tloss: 0.296269\n",
      "Epoch 40:\tloss: 0.278347\n",
      "Epoch 60:\tloss: 0.264136\n",
      "Epoch 80:\tloss: 0.259981\n",
      "Epoch 100:\tloss: 0.257988\n",
      "** class 9 **\n",
      "Epoch 0:\tloss: 0.090524\n",
      "Epoch 20:\tloss: 0.085043\n",
      "Epoch 40:\tloss: 0.079138\n",
      "Epoch 60:\tloss: 0.074475\n",
      "Epoch 80:\tloss: 0.073226\n",
      "Epoch 100:\tloss: 0.072594\n",
      "fold: 2 \n",
      "** class 0 **\n",
      "Epoch 0:\tloss: 0.067039\n",
      "Epoch 20:\tloss: 0.063018\n",
      "Epoch 40:\tloss: 0.058601\n",
      "Epoch 60:\tloss: 0.055038\n",
      "Epoch 80:\tloss: 0.054113\n",
      "Epoch 100:\tloss: 0.053651\n",
      "** class 1 **\n",
      "Epoch 0:\tloss: 0.000186\n",
      "Epoch 20:\tloss: 0.000206\n",
      "Epoch 40:\tloss: 0.000224\n",
      "Epoch 60:\tloss: 0.000240\n",
      "Epoch 80:\tloss: 0.000245\n",
      "Epoch 100:\tloss: 0.000247\n",
      "** class 2 **\n",
      "Epoch 0:\tloss: 0.012411\n",
      "Epoch 20:\tloss: 0.011393\n",
      "Epoch 40:\tloss: 0.010304\n",
      "Epoch 60:\tloss: 0.009464\n",
      "Epoch 80:\tloss: 0.009258\n",
      "Epoch 100:\tloss: 0.009151\n",
      "** class 3 **\n",
      "Epoch 0:\tloss: 0.062259\n",
      "Epoch 20:\tloss: 0.058606\n",
      "Epoch 40:\tloss: 0.054432\n",
      "Epoch 60:\tloss: 0.051063\n",
      "Epoch 80:\tloss: 0.050066\n",
      "Epoch 100:\tloss: 0.049581\n",
      "** class 4 **\n",
      "Epoch 0:\tloss: 0.061186\n",
      "Epoch 20:\tloss: 0.057312\n",
      "Epoch 40:\tloss: 0.053127\n",
      "Epoch 60:\tloss: 0.049709\n",
      "Epoch 80:\tloss: 0.048717\n",
      "Epoch 100:\tloss: 0.048231\n",
      "** class 5 **\n",
      "Epoch 0:\tloss: 0.000205\n",
      "Epoch 20:\tloss: 0.000231\n",
      "Epoch 40:\tloss: 0.000254\n",
      "Epoch 60:\tloss: 0.000275\n",
      "Epoch 80:\tloss: 0.000282\n",
      "Epoch 100:\tloss: 0.000285\n",
      "** class 6 **\n",
      "Epoch 0:\tloss: 0.055763\n",
      "Epoch 20:\tloss: 0.050853\n",
      "Epoch 40:\tloss: 0.047039\n",
      "Epoch 60:\tloss: 0.043979\n",
      "Epoch 80:\tloss: 0.043046\n",
      "Epoch 100:\tloss: 0.042591\n",
      "** class 7 **\n",
      "Epoch 0:\tloss: 0.000213\n",
      "Epoch 20:\tloss: 0.000235\n",
      "Epoch 40:\tloss: 0.000254\n",
      "Epoch 60:\tloss: 0.000271\n",
      "Epoch 80:\tloss: 0.000276\n",
      "Epoch 100:\tloss: 0.000279\n",
      "** class 8 **\n",
      "Epoch 0:\tloss: 0.258279\n",
      "Epoch 20:\tloss: 0.249526\n",
      "Epoch 40:\tloss: 0.239856\n",
      "Epoch 60:\tloss: 0.231836\n",
      "Epoch 80:\tloss: 0.229555\n",
      "Epoch 100:\tloss: 0.228432\n",
      "** class 9 **\n",
      "Epoch 0:\tloss: 0.071886\n",
      "Epoch 20:\tloss: 0.066161\n",
      "Epoch 40:\tloss: 0.062533\n",
      "Epoch 60:\tloss: 0.059551\n",
      "Epoch 80:\tloss: 0.058727\n",
      "Epoch 100:\tloss: 0.058307\n",
      "fold: 3 \n",
      "** class 0 **\n",
      "Epoch 0:\tloss: 0.053057\n",
      "Epoch 20:\tloss: 0.048089\n",
      "Epoch 40:\tloss: 0.045817\n",
      "Epoch 60:\tloss: 0.044047\n",
      "Epoch 80:\tloss: 0.043577\n",
      "Epoch 100:\tloss: 0.043341\n",
      "** class 1 **\n",
      "Epoch 0:\tloss: 0.000248\n",
      "Epoch 20:\tloss: 0.000264\n",
      "Epoch 40:\tloss: 0.000277\n",
      "Epoch 60:\tloss: 0.000290\n",
      "Epoch 80:\tloss: 0.000293\n",
      "Epoch 100:\tloss: 0.000295\n",
      "** class 2 **\n",
      "Epoch 0:\tloss: 0.009055\n",
      "Epoch 20:\tloss: 0.008277\n",
      "Epoch 40:\tloss: 0.007776\n",
      "Epoch 60:\tloss: 0.007377\n",
      "Epoch 80:\tloss: 0.007280\n",
      "Epoch 100:\tloss: 0.007229\n",
      "** class 3 **\n",
      "Epoch 0:\tloss: 0.049302\n",
      "Epoch 20:\tloss: 0.046618\n",
      "Epoch 40:\tloss: 0.044614\n",
      "Epoch 60:\tloss: 0.042914\n",
      "Epoch 80:\tloss: 0.042374\n",
      "Epoch 100:\tloss: 0.042111\n",
      "** class 4 **\n",
      "Epoch 0:\tloss: 0.047992\n",
      "Epoch 20:\tloss: 0.045099\n",
      "Epoch 40:\tloss: 0.042800\n",
      "Epoch 60:\tloss: 0.040887\n",
      "Epoch 80:\tloss: 0.040314\n",
      "Epoch 100:\tloss: 0.040033\n",
      "** class 5 **\n",
      "Epoch 0:\tloss: 0.000286\n",
      "Epoch 20:\tloss: 0.000303\n",
      "Epoch 40:\tloss: 0.000319\n",
      "Epoch 60:\tloss: 0.000333\n",
      "Epoch 80:\tloss: 0.000337\n",
      "Epoch 100:\tloss: 0.000339\n",
      "** class 6 **\n",
      "Epoch 0:\tloss: 0.042682\n",
      "Epoch 20:\tloss: 0.042385\n",
      "Epoch 40:\tloss: 0.040711\n",
      "Epoch 60:\tloss: 0.039216\n",
      "Epoch 80:\tloss: 0.038742\n",
      "Epoch 100:\tloss: 0.038510\n",
      "** class 7 **\n",
      "Epoch 0:\tloss: 0.000280\n",
      "Epoch 20:\tloss: 0.000294\n",
      "Epoch 40:\tloss: 0.000307\n",
      "Epoch 60:\tloss: 0.000318\n",
      "Epoch 80:\tloss: 0.000321\n",
      "Epoch 100:\tloss: 0.000323\n",
      "** class 8 **\n",
      "Epoch 0:\tloss: 0.226907\n",
      "Epoch 20:\tloss: 0.216092\n",
      "Epoch 40:\tloss: 0.210618\n",
      "Epoch 60:\tloss: 0.205998\n",
      "Epoch 80:\tloss: 0.204587\n",
      "Epoch 100:\tloss: 0.203913\n",
      "** class 9 **\n",
      "Epoch 0:\tloss: 0.058453\n",
      "Epoch 20:\tloss: 0.058143\n",
      "Epoch 40:\tloss: 0.056443\n",
      "Epoch 60:\tloss: 0.054910\n",
      "Epoch 80:\tloss: 0.054496\n",
      "Epoch 100:\tloss: 0.054277\n",
      "fold: 4 \n",
      "** class 0 **\n",
      "Epoch 0:\tloss: 0.043425\n",
      "Epoch 20:\tloss: 0.043326\n",
      "Epoch 40:\tloss: 0.042270\n",
      "Epoch 60:\tloss: 0.041292\n",
      "Epoch 80:\tloss: 0.041035\n",
      "Epoch 100:\tloss: 0.040906\n",
      "** class 1 **\n",
      "Epoch 0:\tloss: 0.000296\n",
      "Epoch 20:\tloss: 0.000306\n",
      "Epoch 40:\tloss: 0.000315\n",
      "Epoch 60:\tloss: 0.000323\n",
      "Epoch 80:\tloss: 0.000325\n",
      "Epoch 100:\tloss: 0.000326\n",
      "** class 2 **\n",
      "Epoch 0:\tloss: 0.007166\n",
      "Epoch 20:\tloss: 0.006743\n",
      "Epoch 40:\tloss: 0.006523\n",
      "Epoch 60:\tloss: 0.006343\n",
      "Epoch 80:\tloss: 0.006302\n",
      "Epoch 100:\tloss: 0.006280\n",
      "** class 3 **\n",
      "Epoch 0:\tloss: 0.041985\n",
      "Epoch 20:\tloss: 0.040538\n",
      "Epoch 40:\tloss: 0.039310\n",
      "Epoch 60:\tloss: 0.038231\n",
      "Epoch 80:\tloss: 0.037865\n",
      "Epoch 100:\tloss: 0.037688\n",
      "** class 4 **\n",
      "Epoch 0:\tloss: 0.039921\n",
      "Epoch 20:\tloss: 0.038639\n",
      "Epoch 40:\tloss: 0.037625\n",
      "Epoch 60:\tloss: 0.036764\n",
      "Epoch 80:\tloss: 0.036494\n",
      "Epoch 100:\tloss: 0.036364\n",
      "** class 5 **\n",
      "Epoch 0:\tloss: 0.000340\n",
      "Epoch 20:\tloss: 0.000351\n",
      "Epoch 40:\tloss: 0.000362\n",
      "Epoch 60:\tloss: 0.000371\n",
      "Epoch 80:\tloss: 0.000374\n",
      "Epoch 100:\tloss: 0.000375\n",
      "** class 6 **\n",
      "Epoch 0:\tloss: 0.038152\n",
      "Epoch 20:\tloss: 0.035279\n",
      "Epoch 40:\tloss: 0.033974\n",
      "Epoch 60:\tloss: 0.032918\n",
      "Epoch 80:\tloss: 0.032579\n",
      "Epoch 100:\tloss: 0.032411\n",
      "** class 7 **\n",
      "Epoch 0:\tloss: 0.000324\n",
      "Epoch 20:\tloss: 0.000333\n",
      "Epoch 40:\tloss: 0.000341\n",
      "Epoch 60:\tloss: 0.000349\n",
      "Epoch 80:\tloss: 0.000351\n",
      "Epoch 100:\tloss: 0.000352\n",
      "** class 8 **\n",
      "Epoch 0:\tloss: 0.204973\n",
      "Epoch 20:\tloss: 0.205700\n",
      "Epoch 40:\tloss: 0.203110\n",
      "Epoch 60:\tloss: 0.200818\n",
      "Epoch 80:\tloss: 0.200036\n",
      "Epoch 100:\tloss: 0.199685\n",
      "** class 9 **\n",
      "Epoch 0:\tloss: 0.053827\n",
      "Epoch 20:\tloss: 0.050746\n",
      "Epoch 40:\tloss: 0.049253\n",
      "Epoch 60:\tloss: 0.047957\n"
     ]
    },
    {
     "name": "stdout",
     "output_type": "stream",
     "text": [
      "Epoch 80:\tloss: 0.047618\n",
      "Epoch 100:\tloss: 0.047435\n",
      "fold: 5 \n",
      "** class 0 **\n",
      "Epoch 0:\tloss: 0.040936\n",
      "Epoch 20:\tloss: 0.040798\n",
      "Epoch 40:\tloss: 0.040268\n",
      "Epoch 60:\tloss: 0.039766\n",
      "Epoch 80:\tloss: 0.039638\n",
      "Epoch 100:\tloss: 0.039574\n",
      "** class 1 **\n",
      "Epoch 0:\tloss: 0.000327\n",
      "Epoch 20:\tloss: 0.000334\n",
      "Epoch 40:\tloss: 0.000340\n",
      "Epoch 60:\tloss: 0.000346\n",
      "Epoch 80:\tloss: 0.000348\n",
      "Epoch 100:\tloss: 0.000349\n",
      "** class 2 **\n",
      "Epoch 0:\tloss: 0.006336\n",
      "Epoch 20:\tloss: 0.006672\n",
      "Epoch 40:\tloss: 0.006574\n",
      "Epoch 60:\tloss: 0.006465\n",
      "Epoch 80:\tloss: 0.006439\n",
      "Epoch 100:\tloss: 0.006424\n",
      "** class 3 **\n",
      "Epoch 0:\tloss: 0.037249\n",
      "Epoch 20:\tloss: 0.034557\n",
      "Epoch 40:\tloss: 0.033739\n",
      "Epoch 60:\tloss: 0.033072\n",
      "Epoch 80:\tloss: 0.032849\n",
      "Epoch 100:\tloss: 0.032741\n",
      "** class 4 **\n",
      "Epoch 0:\tloss: 0.036210\n",
      "Epoch 20:\tloss: 0.034667\n",
      "Epoch 40:\tloss: 0.033887\n",
      "Epoch 60:\tloss: 0.033250\n",
      "Epoch 80:\tloss: 0.033047\n",
      "Epoch 100:\tloss: 0.032950\n",
      "** class 5 **\n",
      "Epoch 0:\tloss: 0.000376\n",
      "Epoch 20:\tloss: 0.000384\n",
      "Epoch 40:\tloss: 0.000392\n",
      "Epoch 60:\tloss: 0.000399\n",
      "Epoch 80:\tloss: 0.000401\n",
      "Epoch 100:\tloss: 0.000402\n",
      "** class 6 **\n",
      "Epoch 0:\tloss: 0.032251\n",
      "Epoch 20:\tloss: 0.030869\n",
      "Epoch 40:\tloss: 0.030078\n",
      "Epoch 60:\tloss: 0.029416\n",
      "Epoch 80:\tloss: 0.029201\n",
      "Epoch 100:\tloss: 0.029094\n",
      "** class 7 **\n",
      "Epoch 0:\tloss: 0.000353\n",
      "Epoch 20:\tloss: 0.000359\n",
      "Epoch 40:\tloss: 0.000364\n",
      "Epoch 60:\tloss: 0.000369\n",
      "Epoch 80:\tloss: 0.000370\n",
      "Epoch 100:\tloss: 0.000371\n",
      "** class 8 **\n",
      "Epoch 0:\tloss: 0.199460\n",
      "Epoch 20:\tloss: 0.196419\n",
      "Epoch 40:\tloss: 0.194979\n",
      "Epoch 60:\tloss: 0.193762\n",
      "Epoch 80:\tloss: 0.193363\n",
      "Epoch 100:\tloss: 0.193193\n",
      "** class 9 **\n",
      "Epoch 0:\tloss: 0.047526\n",
      "Epoch 20:\tloss: 0.047960\n",
      "Epoch 40:\tloss: 0.047597\n",
      "Epoch 60:\tloss: 0.047219\n",
      "Epoch 80:\tloss: 0.047134\n",
      "Epoch 100:\tloss: 0.047083\n",
      "2.6171233654022217\n"
     ]
    }
   ],
   "source": [
    "import time\n",
    "\n",
    "m = digits.data.shape[0]\n",
    "\n",
    "for index_split in range(folds):\n",
    "  print(\"fold: %d \" % index_split)\n",
    "\n",
    "  u = index_split*200\n",
    "  v = (index_split+1)*200\n",
    "  \n",
    "  X_train = np.append(train_data[0:u], train_data[v:], axis=0)\n",
    "  X_validation = train_data[u:v]\n",
    "  Y_validation = train_labels[u:v]\n",
    "  \n",
    "  # train model\n",
    "  starter_time = time.time()\n",
    "  for i in range(10):\n",
    "    print(\"** class %i **\" % i)\n",
    "    Y_train = np.append(train_labels_onehot[0:u,i], train_labels_onehot[v:,i], axis=0)\n",
    "    W[i], b[i] = LR_model(X_train.T, \n",
    "                          Y_train.T, \n",
    "                          W[i].reshape(1, 64), \n",
    "                          b[i].reshape(1), \n",
    "                          n_epochs=n_epochs, \n",
    "                          alpha=alpha, \n",
    "                          lambd=0.1\n",
    "                         )\n",
    "  time_LR = time.time() - starter_time\n",
    "  \n",
    "  # validate model\n",
    "  Y_predicted = predict_LR(X_validation.T, W, b)  \n",
    "  \n",
    "  n_correct = sum(Y_validation == Y_predicted)\n",
    "  accuracy_LR.append(float(n_correct) / len(Y_predicted))\n",
    "  # update best model\n",
    "  if accuracy_LR[index_split] > best_accuracy:\n",
    "    best_accuracy = accuracy_LR[index_split]\n",
    "    LR_W_best = W.copy()\n",
    "    LR_b_best = b.copy()\n",
    "  \n",
    "  mean_W = mean_W + W\n",
    "  mean_b = mean_b + b\n",
    "\n",
    "mean_W = mean_W / folds\n",
    "mean_b = mean_b / folds\n",
    "print(time_LR)"
   ]
  },
  {
   "cell_type": "code",
   "execution_count": 71,
   "metadata": {
    "cell_id": "00031-4c799196-7f7e-4b69-90bb-7e57432a036e",
    "deepnote_cell_type": "code",
    "deepnote_to_be_reexecuted": false,
    "execution_millis": 4,
    "execution_start": 1621906006010,
    "source_hash": "2fcb1685",
    "tags": []
   },
   "outputs": [],
   "source": [
    "# LR_W_best\n",
    "LR_W_mean = mean_W.copy()\n",
    "LR_W_last = W.copy()\n",
    "\n",
    "LR_b_mean = mean_b.copy()\n",
    "LR_b_last = b.copy()"
   ]
  },
  {
   "cell_type": "code",
   "execution_count": 72,
   "metadata": {
    "cell_id": "00032-6346c524-f966-440e-b120-72cc075dbdfa",
    "deepnote_cell_type": "code",
    "deepnote_to_be_reexecuted": false,
    "execution_millis": 4,
    "execution_start": 1621906011847,
    "source_hash": "baa7aa17",
    "tags": []
   },
   "outputs": [],
   "source": [
    "X_train = train_data\n",
    "\n",
    "Y_train = train_labels  \n",
    "# LR_W_best, LR_W_mean & LR_W_last\n",
    "Y_predicted = predict_LR(X_validation.T, LR_W_best, LR_b_best.reshape(10,1)) # 60000,\n",
    "n_correct = sum(Y_validation == Y_predicted)\n",
    "\n",
    "cm =confusion_matrix(Y_validation, Y_predicted)\n"
   ]
  },
  {
   "cell_type": "code",
   "execution_count": 73,
   "metadata": {
    "cell_id": "00034-83894b3a-2ca4-47b1-a14c-bb56c542a2da",
    "deepnote_cell_type": "code",
    "deepnote_to_be_reexecuted": false,
    "execution_millis": 822,
    "execution_start": 1621906012446,
    "source_hash": "14ddb2b0",
    "tags": []
   },
   "outputs": [
    {
     "data": {
      "image/png": "[encoded data removed]",
      "text/plain": [
       "<Figure size 576x432 with 2 Axes>"
      ]
     },
     "metadata": {
      "needs_background": "light"
     },
     "output_type": "display_data"
    }
   ],
   "source": [
    "plot_confusion_matrix(cm           =  cm,\n",
    "                      normalize    = False,\n",
    "                      target_names = class_names,\n",
    "                      title        = \"Confusion Matrix\")"
   ]
  },
  {
   "cell_type": "markdown",
   "metadata": {
    "cell_id": "00034-926b45a7-0c1d-46cd-8dfa-12b5bbbef2de",
    "deepnote_cell_type": "markdown",
    "tags": []
   },
   "source": [
    "## Softmax Regression"
   ]
  },
  {
   "cell_type": "code",
   "execution_count": 23,
   "metadata": {
    "cell_id": "00035-9eed4bae-0dc5-4c06-9ee2-facda9bb38f0",
    "deepnote_cell_type": "code",
    "deepnote_to_be_reexecuted": false,
    "execution_millis": 0,
    "execution_start": 1621904475886,
    "source_hash": "9bef6593",
    "tags": []
   },
   "outputs": [],
   "source": [
    "def predict_MLR(X, W, b):\n",
    "  \"\"\"\n",
    "  :param X: data           (no features, no examples)\n",
    "  :param W: weights        (no classes, no features)\n",
    "  :param b: bias           (no classes, 1)\n",
    "  :return:\n",
    "  \"\"\"\n",
    "  # Y: k, m\n",
    "  y_pred = np.argmax(softmax(np.dot(W, X) + b), axis=0)\n",
    "  return y_pred\n",
    "\n",
    "\n",
    "def propagate(X, Y, W, b, lambd):\n",
    "  \"\"\"\n",
    "  :param X: data           (no featurs, no examples)\n",
    "  :param Y: one hot labels (no classes, no examples)\n",
    "  :param W: weights        (no classes, no features)\n",
    "  :param b: bias           (no classes, 1)\n",
    "  :return:\n",
    "  \"\"\"\n",
    "\n",
    "  # X: n, m\n",
    "  # Y: k, m\n",
    "  m = X.shape[1]  # getting no of rows\n",
    "\n",
    "  # Forward Prop\n",
    "  A = softmax(np.dot(W, X) + b) # shape: k, m\n",
    "\n",
    "  cost = (-1.0 / m) * np.sum(Y * np.log(1e-15 + A))\n",
    " \n",
    "  # backwar prop\n",
    "  dZ = A - Y # shape: k, m\n",
    "  dw = (1.0 / m) * np.dot(dZ, X.T) + (lambd / m) * W # k, n\n",
    "  db = (1.0 / m) * np.sum(dZ, axis=1, keepdims=True)\n",
    "  cost = np.squeeze(cost)\n",
    "  grads = {\"dw\": dw,\n",
    "           \"db\": db}\n",
    "  return grads, cost, np.argmax(A, axis=0)\n",
    "\n",
    "\n",
    "def MR_model(X, Y, W, b, n_epochs, alpha, lambd=0.1, beta=0.9):\n",
    "    \"\"\"\n",
    "    :param X: data           (no features, no examples)\n",
    "    :param Y: one hot labels (no classes, no examples)\n",
    "    :param W: weights        (no classes, no features)\n",
    "    :param b: bias           (no classes, 1)\n",
    "    :param n_epochs: number of iterations for gradient\n",
    "    :param alpha:\n",
    "    :return:\n",
    "    \"\"\"\n",
    "    \n",
    "    n = X.shape[0]  # getting no of rows\n",
    "    m = X.shape[1]  # getting no of rows\n",
    "\n",
    "    vdw = np.zeros(W.shape)\n",
    "    vdb = np.zeros(b.shape)\n",
    "    \n",
    "    costs = []\n",
    "    for epoch in range(n_epochs):\n",
    "      for i in range(100):\n",
    "        \n",
    "        xi = X[:, i*(m//100):(i+1)*(m//100)].reshape((n, m//100)) # n, 500\n",
    "        yi = Y[:, i*(m//100):(i+1)*(m//100)].reshape((10, m//100)) # 1, 500\n",
    "      \n",
    "      \n",
    "        grads, cost, A = propagate(xi, yi, W, b, lambd)\n",
    "        dw = grads[\"dw\"]\n",
    "        db = grads[\"db\"]\n",
    "        \n",
    "        vdw = beta * vdw + (1 - beta) * dw\n",
    "        vdb = beta * vdb + (1 - beta) * db\n",
    "        \n",
    "        W = W - alpha * vdw\n",
    "        b = b - alpha * vdb\n",
    "        \n",
    "        alpha = alpha * 0.99\n",
    "\n",
    "        cost += np.sum(np.square(W)) * lambd / (2 * m)\n",
    "        costs.append(cost)\n",
    "\n",
    "      if epoch % 50 == 0:\n",
    "        n_correct = np.sum(np.argmax(yi, axis=0) == A)\n",
    "        accuracy = float(n_correct) / len(A)  \n",
    "        \n",
    "        \n",
    "        print(\"Epoch %i:\\tloss: %f\\tacc: %f\" % (epoch, cost, accuracy))\n",
    "\n",
    "    return W, b, costs"
   ]
  },
  {
   "cell_type": "code",
   "execution_count": 75,
   "metadata": {
    "cell_id": "00036-64cf0527-6778-44a1-87fc-7554d7cbfe0c",
    "deepnote_cell_type": "code",
    "deepnote_to_be_reexecuted": false,
    "execution_millis": 2,
    "execution_start": 1621904543252,
    "source_hash": "c0fa5618",
    "tags": []
   },
   "outputs": [],
   "source": [
    "n_epochs = 200\n",
    "folds = 6\n",
    "\n",
    "# W = np.random.randn(10, train_data.shape[1]) * 0.00001\n",
    "# b = np.random.randn(1 ,10)\n",
    "W = np.zeros(shape=(10, train_data.shape[1]))\n",
    "b = np.zeros(shape=(10, 1))\n",
    "\n",
    "MLR_W_mean = np.zeros((10, train_data.shape[1]))\n",
    "MLR_b_mean = np.zeros(shape=(10, 1))\n",
    "\n",
    "MLR_costs = []\n",
    "\n",
    "MLR_accuracy = []\n",
    "best_accuracy = 0.0\n"
   ]
  },
  {
   "cell_type": "code",
   "execution_count": 76,
   "metadata": {
    "cell_id": "00037-bf835590-b15c-498a-8b32-eefd44bd95a9",
    "deepnote_cell_type": "code",
    "deepnote_to_be_reexecuted": false,
    "execution_millis": 3826,
    "execution_start": 1621904545372,
    "source_hash": "2a12ab76",
    "tags": []
   },
   "outputs": [
    {
     "name": "stdout",
     "output_type": "stream",
     "text": [
      "fold: 0 \n",
      "Epoch 0:\tloss: 0.774401\tacc: 1.000000\n",
      "Epoch 50:\tloss: 0.551627\tacc: 1.000000\n",
      "Epoch 100:\tloss: 0.551627\tacc: 1.000000\n",
      "Epoch 150:\tloss: 0.551627\tacc: 1.000000\n",
      "fold: 1 \n",
      "Epoch 0:\tloss: 0.397105\tacc: 1.000000\n",
      "Epoch 50:\tloss: 0.349901\tacc: 1.000000\n",
      "Epoch 100:\tloss: 0.349901\tacc: 1.000000\n",
      "Epoch 150:\tloss: 0.349901\tacc: 1.000000\n",
      "fold: 2 \n",
      "Epoch 0:\tloss: 0.310396\tacc: 1.000000\n",
      "Epoch 50:\tloss: 0.297769\tacc: 1.000000\n",
      "Epoch 100:\tloss: 0.297769\tacc: 1.000000\n",
      "Epoch 150:\tloss: 0.297769\tacc: 1.000000\n",
      "fold: 3 \n",
      "Epoch 0:\tloss: 0.276409\tacc: 1.000000\n",
      "Epoch 50:\tloss: 0.268366\tacc: 1.000000\n",
      "Epoch 100:\tloss: 0.268366\tacc: 1.000000\n",
      "Epoch 150:\tloss: 0.268366\tacc: 1.000000\n",
      "fold: 4 \n",
      "Epoch 0:\tloss: 0.259268\tacc: 1.000000\n",
      "Epoch 50:\tloss: 0.261177\tacc: 1.000000\n",
      "Epoch 100:\tloss: 0.261177\tacc: 1.000000\n",
      "Epoch 150:\tloss: 0.261177\tacc: 1.000000\n",
      "fold: 5 \n",
      "Epoch 0:\tloss: 0.247106\tacc: 1.000000\n",
      "Epoch 50:\tloss: 0.252373\tacc: 1.000000\n",
      "Epoch 100:\tloss: 0.252373\tacc: 1.000000\n",
      "Epoch 150:\tloss: 0.252373\tacc: 1.000000\n",
      "1.3834099769592285\n"
     ]
    }
   ],
   "source": [
    "import time\n",
    "\n",
    "for index_split in range(folds):\n",
    "  print(\"fold: %d \" % index_split)\n",
    "  u = index_split * 200\n",
    "  v = (index_split + 1) * 200\n",
    "  # Separate set\n",
    "  X_train = np.append(train_data[0:u], train_data[v:], axis=0)  # shape: m, n\n",
    "  Y_train = np.append(train_labels_onehot[0:u], train_labels_onehot[v:], axis=0)  # shape: m, k\n",
    "  X_validation = train_data[u:v]\n",
    "  Y_validation = train_labels[u:v]\n",
    "  \n",
    "  # train model\n",
    "  starter_time = time.time()\n",
    "  W, b, cost = MR_model(X_train.T, Y_train.T, W, b, n_epochs, alpha=0.25, lambd=0.1, beta=0.88)\n",
    "  time_MLR = time.time() - starter_time\n",
    "  \n",
    "  # validate model\n",
    "  Y_predicted = predict_MLR(X_validation.T, W, b)\n",
    "  n_correct = sum(Y_validation == Y_predicted)\n",
    "  \n",
    "  MLR_costs.append(cost)\n",
    "  MLR_accuracy.append(float(n_correct) / len(Y_predicted))\n",
    "  \n",
    "  if MLR_accuracy[index_split] > best_accuracy:\n",
    "    best_accuracy = MLR_accuracy[index_split]\n",
    "    MLR_W_best = W.copy()\n",
    "    MLR_b_best = b.copy()\n",
    "\n",
    "  MLR_W_mean = MLR_W_mean + W\n",
    "  MLR_b_mean = MLR_b_mean + b\n",
    "  \n",
    "MLR_W_mean = MLR_W_mean / folds\n",
    "MLR_b_mean = MLR_b_mean / folds\n",
    "  \n",
    "    \n",
    "print(time_MLR)"
   ]
  },
  {
   "cell_type": "code",
   "execution_count": 77,
   "metadata": {
    "cell_id": "00038-8ec63d74-f9fb-4c22-bc92-24e76ce3dbd9",
    "deepnote_cell_type": "code",
    "deepnote_to_be_reexecuted": false,
    "execution_millis": 836,
    "execution_start": 1621904552126,
    "source_hash": "6ec8dba7",
    "tags": []
   },
   "outputs": [
    {
     "name": "stdout",
     "output_type": "stream",
     "text": [
      "[0.9, 0.92, 0.94, 0.94, 0.95, 0.975]\n"
     ]
    },
    {
     "data": {
      "image/png": "[encoded data removed]",
      "text/plain": [
       "<Figure size 576x432 with 2 Axes>"
      ]
     },
     "metadata": {
      "needs_background": "light"
     },
     "output_type": "display_data"
    }
   ],
   "source": [
    "print(MLR_accuracy)\n",
    "# print(time_MLR)\n",
    "Y_predicted = predict_MLR(X_validation.T, MLR_W_best, MLR_b_best)\n",
    "\n",
    "cm =confusion_matrix(Y_predicted, Y_validation)\n",
    "\n",
    "plot_confusion_matrix(cm           =  cm,\n",
    "                      normalize    = False,\n",
    "                      target_names = class_names,\n",
    "                      title        = \"Confusion Matrix\")\n"
   ]
  },
  {
   "cell_type": "code",
   "execution_count": 34,
   "metadata": {
    "cell_id": "00039-fc54100f-4d5e-4dc0-8448-9877ccfb7862",
    "deepnote_cell_type": "code",
    "deepnote_to_be_reexecuted": false,
    "execution_millis": 4,
    "execution_start": 1621904978924,
    "source_hash": "512ce6fe",
    "tags": []
   },
   "outputs": [],
   "source": [
    "def multinomialSGD(X, Y, W, b, n_epochs=50, lambd=0.08, beta=0.87):\n",
    "  \"\"\"\n",
    "  :param X: data           (no features, no examples)\n",
    "  :param Y: one hot labels (no classes, no examples)\n",
    "  :param W: weights        (no classes, no features)\n",
    "  :param b: bias           (no classes, 1)\n",
    "  :param n_epochs: number of iterations for gradient\n",
    "  :param alpha:\n",
    "  :return:\n",
    "  \"\"\"\n",
    "  n = X.shape[0]\n",
    "  m = X.shape[1]\n",
    "  k = 10\n",
    "  \n",
    "  # X: n, m\n",
    "  # Y: k ,m\n",
    "  \n",
    "  cost = np.zeros(n_epochs)    \n",
    "  for epoch in range(n_epochs):     \n",
    "    J = 0.0\n",
    "    for i in range(m):\n",
    "      xi = X[:, i].reshape((n,1)) # n, 1\n",
    "      yi = Y[:, i].reshape((k, 1)) # shape: k, 1\n",
    "      \n",
    "      # forward prop\n",
    "      zi = np.dot(W, xi) + b # shape = k, 1\n",
    "      pk = softmax(zi) # shape = k, 1\n",
    "      # loss\n",
    "      J += np.sum(-yi * np.log(1e-15 + pk))\n",
    "      # derivatives \n",
    "      dzi = pk - yi # shape: k, 1  \n",
    "      dW = np.dot(dzi, xi.T) + (lambd / m) * W # shape: k, n\n",
    "      \n",
    "      alpha = 1.0 / (100.0 + m * (epoch/10 + 1) + i)\n",
    "      \n",
    "      W = W - alpha * dW\n",
    "      b = b - alpha * dzi\n",
    "    \n",
    "    cost[epoch] = (J / m) + np.sum(np.square(W)) * lambd / (2 * m)\n",
    "    if epoch % 10  == 0:\n",
    "      print(\"Cost after epoch %i: %f\" % (epoch, cost[epoch]))\n",
    "  return W, b, cost "
   ]
  },
  {
   "cell_type": "code",
   "execution_count": 78,
   "metadata": {
    "cell_id": "00040-2d79c8d3-9acc-4200-921d-e2fb62792005",
    "deepnote_cell_type": "code",
    "deepnote_to_be_reexecuted": false,
    "execution_millis": 0,
    "execution_start": 1621904979277,
    "source_hash": "f40645d0",
    "tags": []
   },
   "outputs": [],
   "source": [
    "n_epochs = 80\n",
    "\n",
    "folds = 6\n",
    "W = 0.0025 * np.random.randn(10, train_data.shape[1])\n",
    "b = np.zeros(shape=(10, 1))\n",
    "\n",
    "SGD_MLR_W_mean = np.zeros((10, train_data.shape[1]))\n",
    "SGD_MLR_b_mean = np.zeros(shape=(10, 1))\n",
    "\n",
    "SGD_MLR_costs = []\n",
    "\n",
    "SGD_MLR_accuracy = []\n",
    "best_accuracy = 0.0 "
   ]
  },
  {
   "cell_type": "code",
   "execution_count": 79,
   "metadata": {
    "cell_id": "00041-a2f71e59-2568-451c-a6f6-3936ccaaa716",
    "deepnote_cell_type": "code",
    "deepnote_to_be_reexecuted": false,
    "execution_millis": 20881,
    "execution_start": 1621904980039,
    "source_hash": "ce29119c",
    "tags": []
   },
   "outputs": [
    {
     "name": "stdout",
     "output_type": "stream",
     "text": [
      "fold: 0 \n",
      "Cost after epoch 0: 2.236113\n",
      "Cost after epoch 10: 1.505602\n",
      "Cost after epoch 20: 1.213677\n",
      "Cost after epoch 30: 1.058095\n",
      "Cost after epoch 40: 0.960662\n",
      "Cost after epoch 50: 0.893267\n",
      "Cost after epoch 60: 0.843452\n",
      "Cost after epoch 70: 0.804859\n",
      "fold: 1 \n",
      "Cost after epoch 0: 0.769109\n",
      "Cost after epoch 10: 0.659053\n",
      "Cost after epoch 20: 0.605725\n",
      "Cost after epoch 30: 0.572608\n",
      "Cost after epoch 40: 0.549402\n",
      "Cost after epoch 50: 0.531922\n",
      "Cost after epoch 60: 0.518105\n",
      "Cost after epoch 70: 0.506803\n",
      "fold: 2 \n",
      "Cost after epoch 0: 0.497763\n",
      "Cost after epoch 10: 0.459994\n",
      "Cost after epoch 20: 0.439362\n",
      "Cost after epoch 30: 0.425596\n",
      "Cost after epoch 40: 0.415467\n",
      "Cost after epoch 50: 0.407555\n",
      "Cost after epoch 60: 0.401121\n",
      "Cost after epoch 70: 0.395735\n",
      "fold: 3 \n",
      "Cost after epoch 0: 0.386140\n",
      "Cost after epoch 10: 0.366695\n",
      "Cost after epoch 20: 0.355545\n",
      "Cost after epoch 30: 0.347861\n",
      "Cost after epoch 40: 0.342075\n",
      "Cost after epoch 50: 0.337477\n",
      "Cost after epoch 60: 0.333685\n",
      "Cost after epoch 70: 0.330474\n",
      "fold: 4 \n",
      "Cost after epoch 0: 0.328916\n",
      "Cost after epoch 10: 0.316412\n",
      "Cost after epoch 20: 0.309085\n",
      "Cost after epoch 30: 0.303948\n",
      "Cost after epoch 40: 0.300032\n",
      "Cost after epoch 50: 0.296889\n",
      "Cost after epoch 60: 0.294278\n",
      "Cost after epoch 70: 0.292052\n",
      "fold: 5 \n",
      "Cost after epoch 0: 0.300046\n",
      "Cost after epoch 10: 0.291379\n",
      "Cost after epoch 20: 0.286225\n",
      "Cost after epoch 30: 0.282572\n",
      "Cost after epoch 40: 0.279763\n",
      "Cost after epoch 50: 0.277494\n",
      "Cost after epoch 60: 0.275599\n",
      "Cost after epoch 70: 0.273975\n",
      "3.40700626373291\n"
     ]
    }
   ],
   "source": [
    "import time\n",
    "\n",
    "for index_split in range(folds):\n",
    "  print(\"fold: %d \" % index_split)\n",
    "  u = index_split * 200\n",
    "  v = (index_split + 1) * 200\n",
    "\n",
    "  X_train = np.append(train_data[0:u], train_data[v:], axis=0)  # shape: m, n\n",
    "  Y_train = np.append(train_labels_onehot[0:u], train_labels_onehot[v:], axis=0)  # shape: m, k\n",
    "  Y_labels = np.append(train_labels[0:u], train_labels[v:], axis=0)  # shape: m, k\n",
    "  X_validation = train_data[u:v]\n",
    "  Y_validation = train_labels[u:v]\n",
    "  # train model\n",
    "  starter_time = time.time()\n",
    "  W, b, costs = multinomialSGD(X_train.T, Y_train.T, W, b, n_epochs)\n",
    "  time_SGD = time.time() - starter_time\n",
    "  # validate\n",
    "  Y_predicted = predict_MLR(X_validation.T, W, b)\n",
    "  \n",
    "  n_correct = sum(Y_validation == Y_predicted)\n",
    "  SGD_MLR_costs.append(cost)\n",
    "  SGD_MLR_accuracy.append(float(n_correct) / len(Y_predicted))\n",
    "  # update best model\n",
    "  if SGD_MLR_accuracy[index_split] > best_accuracy:\n",
    "    best_accuracy = SGD_MLR_accuracy[index_split]\n",
    "    SGD_MLR_W_best = W.copy()\n",
    "    SGD_MLR_b_best = b.copy()\n",
    "\n",
    "  SGD_MLR_W_mean = SGD_MLR_W_mean + W\n",
    "  SGD_MLR_b_mean = SGD_MLR_b_mean + b\n",
    "\n",
    "SGD_MLR_W_mean = SGD_MLR_W_mean / folds\n",
    "SGD_MLR_b_mean = SGD_MLR_b_mean / folds\n",
    "\n",
    "    \n",
    "print(time_SGD)"
   ]
  },
  {
   "cell_type": "code",
   "execution_count": 80,
   "metadata": {
    "cell_id": "00042-6f0afbfa-93c6-458d-a879-6158d100de3f",
    "deepnote_cell_type": "code",
    "deepnote_to_be_reexecuted": false,
    "execution_millis": 887,
    "execution_start": 1621905016331,
    "source_hash": "b92aa819",
    "tags": []
   },
   "outputs": [
    {
     "name": "stdout",
     "output_type": "stream",
     "text": [
      "[0.895, 0.92, 0.935, 0.945, 0.95, 0.975]\n"
     ]
    },
    {
     "data": {
      "image/png": "[encoded data removed]",
      "text/plain": [
       "<Figure size 576x432 with 2 Axes>"
      ]
     },
     "metadata": {
      "needs_background": "light"
     },
     "output_type": "display_data"
    }
   ],
   "source": [
    "print(SGD_MLR_accuracy)\n",
    "\n",
    "Y_predicted = predict_MLR(X_validation.T, SGD_MLR_W_best, SGD_MLR_b_best)\n",
    "cm = confusion_matrix(Y_validation, Y_predicted)\n",
    "\n",
    "plot_confusion_matrix(cm           =  cm,\n",
    "                      normalize    = False,\n",
    "                      target_names = class_names,\n",
    "                      title        = \"Confusion Matrix\")"
   ]
  },
  {
   "cell_type": "markdown",
   "metadata": {},
   "source": [
    "# Neural Network - 1 hidden layer"
   ]
  },
  {
   "cell_type": "code",
   "execution_count": 50,
   "metadata": {},
   "outputs": [],
   "source": [
    "# hidden layer: tanh\n",
    "# output layer: softmax\n",
    "\n",
    "def forwardprop(X, W, b):\n",
    "  # Forward prop\n",
    "  Z = {}\n",
    "  A = {}\n",
    "  # ReLU\n",
    "  # n1, n * n, m\n",
    "  Z[1] = np.dot(W[1], X) + b[1] # n1, m\n",
    "  A[1] = Z[1] * (Z[1] > 0)\n",
    "#   A[0] = np.tanh(Z[0])\n",
    "  Z[2] = np.dot(W[2], A[1]) + b[2] # n2, m\n",
    "  A[2] = softmax(Z[2])\n",
    "  \n",
    "  return A, Z\n",
    "  \n",
    "def backprop(X, Y, W, b, A, Z, lambd=0.1):\n",
    "  m = X.shape[1]\n",
    "  dZ = {}\n",
    "  dW = {}\n",
    "  db = {}\n",
    "  \n",
    "  dZ[2] = A[2] - Y # n2, m  \n",
    "  dW[2] = (1.0/m) * np.dot(dZ[2], A[1].T) + (lambd / m) * W[2]  # n2, n1\n",
    "  db[2] = (1.0/m) * np.sum(dZ[2], axis=1, keepdims=True)\n",
    "  \n",
    "  #   dZ[0] = np.multiply(np.dot(W[1].T, dZ[1]),1 - np.square(A[0])) # n1, m\n",
    "  dZ[1] = np.multiply(np.dot(W[2].T, dZ[2]),delta_ReLU(Z[1])) # n1, m\n",
    "  dW[1] = (1.0/m) * np.dot(dZ[1], X.T) + (lambd / m) * W[1]  # n1, n\n",
    "  db[1] = (1.0/m) * np.sum(dZ[1], axis=1, keepdims=True)\n",
    "  \n",
    "  grads = {\n",
    "      'dW' : dW,\n",
    "      'db' : db\n",
    "  }\n",
    "  \n",
    "  return grads\n",
    "  \n",
    "def nn_one_layer(X, Y, W, b, n_epochs=50, alpha=0.01, lambd=0.1, beta=0.9):\n",
    "  m = X.shape[1]  # getting no of rows\n",
    "  l = len(W)\n",
    "  costs = []\n",
    "  \n",
    "  vd = inicialize_momentum(W, b)\n",
    "  \n",
    "  for epoch in range(n_epochs):\n",
    "    A, Z = forwardprop(X, W, b)\n",
    "  \n",
    "    grads = backprop(X, Y, W, b, A, Z)\n",
    "    \n",
    "    if epoch > n_epochs * 0.8:\n",
    "      alpha = alpha * 0.5\n",
    "    elif epoch > n_epochs * 0.6:\n",
    "      alpha = alpha * 0.5\n",
    "    elif epoch > n_epochs * 0.4:\n",
    "      alpha = alpha * 0.9\n",
    "    \n",
    "    vd = momentum(vd, grads, beta)\n",
    "\n",
    "    W[1] = W[1] - alpha * vd['dw1']\n",
    "    b[1] = b[1] - alpha * vd['db1']\n",
    "    W[2] = W[2] - alpha * vd['dw2']\n",
    "    b[2] = b[2] - alpha * vd['db2']\n",
    "    \n",
    "    if epoch % 10 == 0:\n",
    "      aux = 0.0\n",
    "      for i in range(1, l + 1):\n",
    "        aux = aux + np.sum(np.square(W[i]))\n",
    "      reg_cost = aux * lambd / (2 * m)\n",
    "      \n",
    "      cost = compute_cost(A[2], Y)\n",
    "      costs.append(cost)\n",
    "      \n",
    "      Y_predictions = np.argmax(A[2], axis=0)\n",
    "      n_correct = np.sum(np.argmax(Y, axis=0) == Y_predictions)\n",
    "      accuracy = float(n_correct) / len(Y_predictions)    \n",
    "      \n",
    "      print(\"Epoch %i:\\tloss: %f\\tacc: %f\" % (epoch, cost, accuracy))\n",
    "  return W, b, costs\n",
    "            \n",
    "            "
   ]
  },
  {
   "cell_type": "code",
   "execution_count": 51,
   "metadata": {},
   "outputs": [],
   "source": [
    "def predict_nn(X, W, b):\n",
    "    A, Z = forwardprop(X, W, b)\n",
    "    predictions = np.argmax(A[2], axis=0)\n",
    "    return predictions"
   ]
  },
  {
   "cell_type": "code",
   "execution_count": 55,
   "metadata": {},
   "outputs": [
    {
     "data": {
      "text/plain": [
       "64"
      ]
     },
     "execution_count": 55,
     "metadata": {},
     "output_type": "execute_result"
    }
   ],
   "source": [
    "train_data.shape[1]"
   ]
  },
  {
   "cell_type": "code",
   "execution_count": 81,
   "metadata": {},
   "outputs": [],
   "source": [
    "n_epochs = 150\n",
    "\n",
    "folds = 6\n",
    "# no of neurons on hidden layer\n",
    "n1 = 400\n",
    "\n",
    "\n",
    "W = []\n",
    "b = []\n",
    "np.random.seed(5)\n",
    "\n",
    "W = {\n",
    "    1: np.random.randn(n1, train_data.shape[1]) * np.sqrt(2/784),\n",
    "    2: np.random.randn(10, n1) * np.sqrt(1/n1)\n",
    "}\n",
    "b = {\n",
    "    1: np.zeros((n1, 1)),\n",
    "    2: np.zeros((10, 1))\n",
    "}\n",
    "\n",
    "nn_costs = np.zeros((10, n_epochs))\n",
    "\n",
    "nn_accuracy = []\n",
    "best_accuracy = 0.0"
   ]
  },
  {
   "cell_type": "code",
   "execution_count": 82,
   "metadata": {},
   "outputs": [
    {
     "name": "stdout",
     "output_type": "stream",
     "text": [
      "fold: 0 \n",
      "Epoch 0:\tloss: 2.302272\tacc: 0.074806\n",
      "Epoch 10:\tloss: 2.092839\tacc: 0.654199\n",
      "Epoch 20:\tloss: 1.723447\tacc: 0.857445\n",
      "Epoch 30:\tloss: 1.292546\tacc: 0.867325\n",
      "Epoch 40:\tloss: 0.904579\tacc: 0.906845\n",
      "Epoch 50:\tloss: 0.643460\tacc: 0.914608\n",
      "Epoch 60:\tloss: 0.490118\tacc: 0.922371\n",
      "Epoch 70:\tloss: 0.426574\tacc: 0.925900\n",
      "Epoch 80:\tloss: 0.409923\tacc: 0.927311\n",
      "Epoch 90:\tloss: 0.404824\tacc: 0.928017\n",
      "Epoch 100:\tloss: 0.404303\tacc: 0.928017\n",
      "Epoch 110:\tloss: 0.404303\tacc: 0.928017\n",
      "Epoch 120:\tloss: 0.404303\tacc: 0.928017\n",
      "Epoch 130:\tloss: 0.404303\tacc: 0.928017\n",
      "Epoch 140:\tloss: 0.404303\tacc: 0.928017\n",
      "Accuracy: 0.910000\n",
      "fold: 1 \n",
      "Epoch 0:\tloss: 0.405547\tacc: 0.925194\n",
      "Epoch 10:\tloss: 0.381666\tacc: 0.932251\n",
      "Epoch 20:\tloss: 0.342363\tacc: 0.935074\n",
      "Epoch 30:\tloss: 0.305598\tacc: 0.942131\n",
      "Epoch 40:\tloss: 0.275310\tacc: 0.948483\n",
      "Epoch 50:\tloss: 0.251055\tacc: 0.952011\n",
      "Epoch 60:\tloss: 0.231523\tacc: 0.955540\n",
      "Epoch 70:\tloss: 0.220836\tacc: 0.956246\n",
      "Epoch 80:\tloss: 0.217513\tacc: 0.956951\n",
      "Epoch 90:\tloss: 0.216415\tacc: 0.958363\n",
      "Epoch 100:\tloss: 0.216300\tacc: 0.958363\n",
      "Epoch 110:\tloss: 0.216300\tacc: 0.958363\n",
      "Epoch 120:\tloss: 0.216300\tacc: 0.958363\n",
      "Epoch 130:\tloss: 0.216300\tacc: 0.958363\n",
      "Epoch 140:\tloss: 0.216300\tacc: 0.958363\n",
      "Accuracy: 0.940000\n",
      "fold: 2 \n",
      "Epoch 0:\tloss: 0.221626\tacc: 0.954834\n",
      "Epoch 10:\tloss: 0.215715\tacc: 0.956246\n",
      "Epoch 20:\tloss: 0.205579\tacc: 0.959774\n",
      "Epoch 30:\tloss: 0.195061\tacc: 0.961186\n",
      "Epoch 40:\tloss: 0.185361\tacc: 0.963303\n",
      "Epoch 50:\tloss: 0.176693\tacc: 0.964008\n",
      "Epoch 60:\tloss: 0.168992\tacc: 0.966831\n",
      "Epoch 70:\tloss: 0.164452\tacc: 0.967537\n",
      "Epoch 80:\tloss: 0.162971\tacc: 0.967537\n",
      "Epoch 90:\tloss: 0.162471\tacc: 0.967537\n",
      "Epoch 100:\tloss: 0.162418\tacc: 0.967537\n",
      "Epoch 110:\tloss: 0.162418\tacc: 0.967537\n",
      "Epoch 120:\tloss: 0.162418\tacc: 0.967537\n",
      "Epoch 130:\tloss: 0.162418\tacc: 0.967537\n",
      "Epoch 140:\tloss: 0.162418\tacc: 0.967537\n",
      "Accuracy: 0.960000\n",
      "fold: 3 \n",
      "Epoch 0:\tloss: 0.160085\tacc: 0.966126\n",
      "Epoch 10:\tloss: 0.157155\tacc: 0.966831\n",
      "Epoch 20:\tloss: 0.152361\tacc: 0.967537\n",
      "Epoch 30:\tloss: 0.147161\tacc: 0.968948\n",
      "Epoch 40:\tloss: 0.142154\tacc: 0.969654\n",
      "Epoch 50:\tloss: 0.137475\tacc: 0.971771\n",
      "Epoch 60:\tloss: 0.133140\tacc: 0.971771\n",
      "Epoch 70:\tloss: 0.130495\tacc: 0.972477\n",
      "Epoch 80:\tloss: 0.129613\tacc: 0.972477\n",
      "Epoch 90:\tloss: 0.129312\tacc: 0.972477\n",
      "Epoch 100:\tloss: 0.129280\tacc: 0.972477\n",
      "Epoch 110:\tloss: 0.129280\tacc: 0.972477\n",
      "Epoch 120:\tloss: 0.129280\tacc: 0.972477\n",
      "Epoch 130:\tloss: 0.129280\tacc: 0.972477\n",
      "Epoch 140:\tloss: 0.129280\tacc: 0.972477\n",
      "Accuracy: 0.960000\n",
      "fold: 4 \n",
      "Epoch 0:\tloss: 0.130162\tacc: 0.971066\n",
      "Epoch 10:\tloss: 0.127883\tacc: 0.971771\n",
      "Epoch 20:\tloss: 0.124519\tacc: 0.973888\n",
      "Epoch 30:\tloss: 0.120908\tacc: 0.974594\n",
      "Epoch 40:\tloss: 0.117444\tacc: 0.974594\n",
      "Epoch 50:\tloss: 0.114194\tacc: 0.976006\n",
      "Epoch 60:\tloss: 0.111162\tacc: 0.976006\n",
      "Epoch 70:\tloss: 0.109297\tacc: 0.976006\n",
      "Epoch 80:\tloss: 0.108671\tacc: 0.976006\n",
      "Epoch 90:\tloss: 0.108456\tacc: 0.976006\n",
      "Epoch 100:\tloss: 0.108433\tacc: 0.976006\n",
      "Epoch 110:\tloss: 0.108433\tacc: 0.976006\n",
      "Epoch 120:\tloss: 0.108433\tacc: 0.976006\n",
      "Epoch 130:\tloss: 0.108433\tacc: 0.976006\n",
      "Epoch 140:\tloss: 0.108433\tacc: 0.976006\n",
      "Accuracy: 0.970000\n",
      "fold: 5 \n",
      "Epoch 0:\tloss: 0.117189\tacc: 0.973888\n",
      "Epoch 10:\tloss: 0.115632\tacc: 0.974594\n",
      "Epoch 20:\tloss: 0.113393\tacc: 0.976006\n",
      "Epoch 30:\tloss: 0.110903\tacc: 0.977417\n",
      "Epoch 40:\tloss: 0.108465\tacc: 0.978829\n",
      "Epoch 50:\tloss: 0.106133\tacc: 0.979534\n",
      "Epoch 60:\tloss: 0.103911\tacc: 0.979534\n",
      "Epoch 70:\tloss: 0.102523\tacc: 0.980240\n",
      "Epoch 80:\tloss: 0.102052\tacc: 0.980240\n",
      "Epoch 90:\tloss: 0.101890\tacc: 0.980240\n",
      "Epoch 100:\tloss: 0.101873\tacc: 0.980240\n",
      "Epoch 110:\tloss: 0.101873\tacc: 0.980240\n",
      "Epoch 120:\tloss: 0.101873\tacc: 0.980240\n",
      "Epoch 130:\tloss: 0.101873\tacc: 0.980240\n",
      "Epoch 140:\tloss: 0.101873\tacc: 0.980240\n",
      "Accuracy: 0.980000\n",
      "2.2308764457702637\n"
     ]
    }
   ],
   "source": [
    "import time\n",
    "\n",
    "for index_split in range(folds):\n",
    "  print(\"fold: %d \" % index_split)\n",
    "  u = index_split * 200\n",
    "  v = (index_split + 1) * 200\n",
    "\n",
    "  X_train = np.append(train_data[0:u], train_data[v:], axis=0)  # shape: m, n\n",
    "  Y_train = np.append(train_labels_onehot[0:u], train_labels_onehot[v:], axis=0)  # shape: m, k\n",
    "  Y_labels = np.append(train_labels[0:u], train_labels[v:], axis=0)  # shape: m, k\n",
    "  X_validation = train_data[u:v]\n",
    "  Y_validation = train_labels[u:v]\n",
    "  \n",
    "  starter_time = time.time()\n",
    "  W, b, costs = nn_one_layer(X_train.T, Y_train.T, W, b, n_epochs, alpha=0.25)\n",
    "  time_nn = time.time() - starter_time\n",
    "\n",
    "  Y_predicted = predict_nn(X_validation.T, W, b)\n",
    "\n",
    "  n_correct = sum(Y_validation == Y_predicted)\n",
    "  accuracy = float(n_correct) / len(Y_predicted)\n",
    "  print(\"Accuracy: %f\" % accuracy)\n",
    "\n",
    "  # if accuracy_softmaxRegression[index_split] > best_accuracy:\n",
    "  #     best_accuracy = accuracy_softmaxRegression[index_split]\n",
    "  #     best_W_softmaxRegression = w\n",
    "  #\n",
    "  # mean_W_softmaxRegression = mean_W_softmaxRegression + W\n",
    "\n",
    "print(time_nn)"
   ]
  },
  {
   "cell_type": "code",
   "execution_count": 83,
   "metadata": {},
   "outputs": [
    {
     "name": "stdout",
     "output_type": "stream",
     "text": [
      "0.98\n"
     ]
    },
    {
     "data": {
      "image/png": "[encoded data removed]",
      "text/plain": [
       "<Figure size 576x432 with 2 Axes>"
      ]
     },
     "metadata": {
      "needs_background": "light"
     },
     "output_type": "display_data"
    }
   ],
   "source": [
    "Y_predicted = predict_nn(X_validation.T, W,b)\n",
    "n_correct = sum(Y_validation == Y_predicted)\n",
    "accuracy = float(n_correct) / len(Y_predicted)\n",
    "print(accuracy)\n",
    "\n",
    "cm = confusion_matrix(Y_validation, Y_predicted)\n",
    "plot_confusion_matrix(cm           =  cm,\n",
    "                      normalize    = False,\n",
    "                      target_names = class_names,\n",
    "                      title        = \"Confusion Matrix\")"
   ]
  },
  {
   "cell_type": "markdown",
   "metadata": {
    "created_in_deepnote_cell": true,
    "deepnote_cell_type": "markdown",
    "tags": []
   },
   "source": [
    "# Testing Models"
   ]
  },
  {
   "cell_type": "code",
   "execution_count": 84,
   "metadata": {},
   "outputs": [
    {
     "name": "stdout",
     "output_type": "stream",
     "text": [
      "---------------------------------------------------------------\n",
      "\n",
      "** Logistic Regression\n"
     ]
    },
    {
     "data": {
      "image/png": "[encoded data removed]",
      "text/plain": [
       "<Figure size 576x432 with 2 Axes>"
      ]
     },
     "metadata": {
      "needs_background": "light"
     },
     "output_type": "display_data"
    },
    {
     "name": "stdout",
     "output_type": "stream",
     "text": [
      "---------------------------------------------------------------\n",
      "\n",
      "** Softmax Regression\n"
     ]
    },
    {
     "data": {
      "image/png": "[encoded data removed]",
      "text/plain": [
       "<Figure size 576x432 with 2 Axes>"
      ]
     },
     "metadata": {
      "needs_background": "light"
     },
     "output_type": "display_data"
    },
    {
     "name": "stdout",
     "output_type": "stream",
     "text": [
      "---------------------------------------------------------------\n",
      "\n",
      "** Softmax Regression with SGD\n"
     ]
    },
    {
     "data": {
      "image/png": "[encoded data removed]",
      "text/plain": [
       "<Figure size 576x432 with 2 Axes>"
      ]
     },
     "metadata": {
      "needs_background": "light"
     },
     "output_type": "display_data"
    }
   ],
   "source": [
    "print(\"---------------------------------------------------------------\\n\")\n",
    "print(\"** Logistic Regression\")\n",
    "\n",
    "Y_predicted = predict_LR(X_test.T, LR_W_best, LR_b_best.reshape(10,1))\n",
    "n_correct = sum(Y_test == Y_predicted)\n",
    "\n",
    "cm =confusion_matrix(Y_test, Y_predicted)\n",
    "\n",
    "plot_confusion_matrix(cm           =  cm,\n",
    "                      normalize    = False,\n",
    "                      target_names = class_names,\n",
    "                      title        = \"Confusion Matrix\")\n",
    "\n",
    "print(\"---------------------------------------------------------------\\n\")\n",
    "print(\"** Softmax Regression\")\n",
    "\n",
    "\n",
    "Y_predicted = predict_MLR(X_test.T, MLR_W_best, MLR_b_best)\n",
    "cm = confusion_matrix(Y_test, Y_predicted)\n",
    "\n",
    "plot_confusion_matrix(cm           =  cm,\n",
    "                      normalize    = False,\n",
    "                      target_names = class_names,\n",
    "                      title        = \"Confusion Matrix\")\n",
    "\n",
    "print(\"---------------------------------------------------------------\\n\")\n",
    "print(\"** Softmax Regression with SGD\")\n",
    "\n",
    "\n",
    "Y_predicted = predict_MLR(X_test.T, SGD_MLR_W_best, SGD_MLR_b_best)\n",
    "cm = confusion_matrix(Y_test, Y_predicted)\n",
    "\n",
    "plot_confusion_matrix(cm           =  cm,\n",
    "                      normalize    = False,\n",
    "                      target_names = class_names,\n",
    "                      title        = \"Confusion Matrix\")"
   ]
  },
  {
   "cell_type": "code",
   "execution_count": 85,
   "metadata": {},
   "outputs": [
    {
     "name": "stdout",
     "output_type": "stream",
     "text": [
      "---------------------------------------------------------------\n",
      "\n",
      "** Neural Network - 1 layer\n"
     ]
    },
    {
     "data": {
      "image/png": "[encoded data removed]",
      "text/plain": [
       "<Figure size 576x432 with 2 Axes>"
      ]
     },
     "metadata": {
      "needs_background": "light"
     },
     "output_type": "display_data"
    }
   ],
   "source": [
    "print(\"---------------------------------------------------------------\\n\")\n",
    "print(\"** Neural Network - 1 layer\")\n",
    "\n",
    "\n",
    "Y_predicted = predict_nn(X_test.T, W,b)\n",
    "cm = confusion_matrix(Y_test, Y_predicted)\n",
    "\n",
    "plot_confusion_matrix(cm           =  cm,\n",
    "                      normalize    = False,\n",
    "                      target_names = class_names,\n",
    "                      title        = \"Confusion Matrix\")"
   ]
  },
  {
   "cell_type": "markdown",
   "metadata": {},
   "source": [
    "# Discussion and Conclusion\n",
    "\n",
    "We achieved a good accuracy average of 0,953 in the test set. The Regression models scored the same accuracy, while the neural network scored a nice 0,9833. \n",
    "\n",
    "The implementation of the models itself was not a big problem.\n",
    "We spent most of our time, adjusting parameters (alpha, lambd, beta and initial values for W) and trying to optimize the code. We ended up with a brute force approach or learn by doing approach to test values and see what happens.\n",
    "After a lot of variations of parameters, we realized we were not documenting the results anywhere, after an iteration, we simply modified the values again and trained again. We could automate our tests with a script to train the model with many combinations and have the results saved to compare the results, unfortunatelly we did not manage to implement this script for this project.\n",
    "\n",
    "There is a lot of potential to improve our code, espeacially the programming interface. Would be nice after having a easy interface, to compare our solution with other implementations on scikitlearning our other libraries.\n"
   ]
  },
  {
   "cell_type": "markdown",
   "metadata": {},
   "source": [
    "# Collaboration\n",
    "\n",
    "We implemented the pre-processing code (load data, split, normalize, one-hot encode) and the logistic regression together.\n",
    "\n",
    "Ismael then implemented the both variations of Softmax regression.\n",
    "\n",
    "Willian implemented the neural network with softmax.\n",
    "\n",
    "Most part of the code was made together with [Deepnote](https://deepnote.com/)."
   ]
  }
 ],
 "metadata": {
  "kernelspec": {
   "display_name": "Python 3",
   "language": "python",
   "name": "python3"
  },
  "language_info": {
   "codemirror_mode": {
    "name": "ipython",
    "version": 3
   },
   "file_extension": ".py",
   "mimetype": "text/x-python",
   "name": "python",
   "nbconvert_exporter": "python",
   "pygments_lexer": "ipython3",
   "version": "3.7.4"
  }
 },
 "nbformat": 4,
 "nbformat_minor": 2
}
